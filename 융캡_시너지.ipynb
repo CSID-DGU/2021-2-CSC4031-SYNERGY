{
 "cells": [
  {
   "cell_type": "markdown",
   "metadata": {},
   "source": [
    "# 융합캡스톤디자인"
   ]
  },
  {
   "cell_type": "markdown",
   "metadata": {},
   "source": [
    "### 팀 시너지"
   ]
  },
  {
   "cell_type": "markdown",
   "metadata": {},
   "source": [
    "목표 : 전압 변동에 따른 자동화 시스템 모델 구축"
   ]
  },
  {
   "cell_type": "markdown",
   "metadata": {},
   "source": [
    "## 1. Import Libraries"
   ]
  },
  {
   "cell_type": "code",
   "execution_count": 52,
   "metadata": {},
   "outputs": [],
   "source": [
    "import math\n",
    "import numpy as np\n",
    "import pandas as pd\n",
    "import seaborn as sns\n",
    "import matplotlib.pyplot as plt\n",
    "from IPython.display import Image"
   ]
  },
  {
   "cell_type": "code",
   "execution_count": null,
   "metadata": {},
   "outputs": [],
   "source": []
  },
  {
   "cell_type": "markdown",
   "metadata": {},
   "source": [
    "## 2. Load Data"
   ]
  },
  {
   "cell_type": "code",
   "execution_count": 5,
   "metadata": {},
   "outputs": [],
   "source": [
    "# 알람이력 데이터\n",
    "data_alarm = pd.read_excel('./알람이력_2021년09월27일16시00분21초.xlsx',\n",
    "                     header=4, index_col=0)"
   ]
  },
  {
   "cell_type": "code",
   "execution_count": 6,
   "metadata": {
    "scrolled": true
   },
   "outputs": [],
   "source": [
    "# 계측값이력 데이터\n",
    "data_measured = pd.read_excel('./계측값이력_2021년09월27일15시54분40초.xlsx',\n",
    "                     header=11, index_col=0)\n",
    "# 최대값, 최소값, 평균값 행 제거\n",
    "data_measured = data_measured[3:]"
   ]
  },
  {
   "cell_type": "code",
   "execution_count": null,
   "metadata": {},
   "outputs": [],
   "source": []
  },
  {
   "cell_type": "markdown",
   "metadata": {},
   "source": [
    "## 3. Preview"
   ]
  },
  {
   "cell_type": "markdown",
   "metadata": {},
   "source": [
    "### 3.1 data_alarm"
   ]
  },
  {
   "cell_type": "markdown",
   "metadata": {},
   "source": [
    "알람 이력 데이터셋"
   ]
  },
  {
   "cell_type": "code",
   "execution_count": 7,
   "metadata": {},
   "outputs": [
    {
     "data": {
      "text/html": [
       "<div>\n",
       "<style scoped>\n",
       "    .dataframe tbody tr th:only-of-type {\n",
       "        vertical-align: middle;\n",
       "    }\n",
       "\n",
       "    .dataframe tbody tr th {\n",
       "        vertical-align: top;\n",
       "    }\n",
       "\n",
       "    .dataframe thead th {\n",
       "        text-align: right;\n",
       "    }\n",
       "</style>\n",
       "<table border=\"1\" class=\"dataframe\">\n",
       "  <thead>\n",
       "    <tr style=\"text-align: right;\">\n",
       "      <th></th>\n",
       "      <th>타입</th>\n",
       "      <th>알람 레벨</th>\n",
       "      <th>TimeStamp</th>\n",
       "      <th>Name</th>\n",
       "      <th>Value</th>\n",
       "      <th>Sub Value</th>\n",
       "      <th>Time Quality</th>\n",
       "      <th>Quality</th>\n",
       "      <th>Response</th>\n",
       "      <th>Cause</th>\n",
       "      <th>Additional Cause</th>\n",
       "      <th>Source Path</th>\n",
       "    </tr>\n",
       "    <tr>\n",
       "      <th>No</th>\n",
       "      <th></th>\n",
       "      <th></th>\n",
       "      <th></th>\n",
       "      <th></th>\n",
       "      <th></th>\n",
       "      <th></th>\n",
       "      <th></th>\n",
       "      <th></th>\n",
       "      <th></th>\n",
       "      <th></th>\n",
       "      <th></th>\n",
       "      <th></th>\n",
       "    </tr>\n",
       "  </thead>\n",
       "  <tbody>\n",
       "    <tr>\n",
       "      <th>1</th>\n",
       "      <td>Bool-Indicator</td>\n",
       "      <td>알람레벨2</td>\n",
       "      <td>2021-03-01 09:30:12.618</td>\n",
       "      <td>345 #4Sh.R 7479 CB</td>\n",
       "      <td>열림</td>\n",
       "      <td>NaN</td>\n",
       "      <td>10001010</td>\n",
       "      <td>(Good)0000000000000</td>\n",
       "      <td>이벤트 수신(Report)</td>\n",
       "      <td>10</td>\n",
       "      <td>NaN</td>\n",
       "      <td>&lt;IEC61850&gt;345kV-E378_LID3</td>\n",
       "    </tr>\n",
       "    <tr>\n",
       "      <th>2</th>\n",
       "      <td>Bool-Indicator</td>\n",
       "      <td>알람레벨1</td>\n",
       "      <td>2021-03-01 09:30:27.418</td>\n",
       "      <td>345 #4Sh.R 7475 DS</td>\n",
       "      <td>열림</td>\n",
       "      <td>NaN</td>\n",
       "      <td>10001010</td>\n",
       "      <td>(Good)0000000000000</td>\n",
       "      <td>이벤트 수신(Report)</td>\n",
       "      <td>10</td>\n",
       "      <td>NaN</td>\n",
       "      <td>&lt;IEC61850&gt;345kV-E378_LID3</td>\n",
       "    </tr>\n",
       "    <tr>\n",
       "      <th>3</th>\n",
       "      <td>Bool-Indicator</td>\n",
       "      <td>알람레벨2</td>\n",
       "      <td>2021-03-01 10:22:58.385</td>\n",
       "      <td>345 #2Sh.R 7279 CB</td>\n",
       "      <td>열림</td>\n",
       "      <td>NaN</td>\n",
       "      <td>10001010</td>\n",
       "      <td>(Good)0000000000000</td>\n",
       "      <td>이벤트 수신(Report)</td>\n",
       "      <td>10</td>\n",
       "      <td>NaN</td>\n",
       "      <td>&lt;IEC61850&gt;345kV-E378_LID3</td>\n",
       "    </tr>\n",
       "  </tbody>\n",
       "</table>\n",
       "</div>"
      ],
      "text/plain": [
       "                타입  알람 레벨                TimeStamp                Name Value  \\\n",
       "No                                                                             \n",
       "1   Bool-Indicator  알람레벨2  2021-03-01 09:30:12.618  345 #4Sh.R 7479 CB    열림   \n",
       "2   Bool-Indicator  알람레벨1  2021-03-01 09:30:27.418  345 #4Sh.R 7475 DS    열림   \n",
       "3   Bool-Indicator  알람레벨2  2021-03-01 10:22:58.385  345 #2Sh.R 7279 CB    열림   \n",
       "\n",
       "   Sub Value  Time Quality              Quality        Response  Cause  \\\n",
       "No                                                                       \n",
       "1        NaN      10001010  (Good)0000000000000  이벤트 수신(Report)     10   \n",
       "2        NaN      10001010  (Good)0000000000000  이벤트 수신(Report)     10   \n",
       "3        NaN      10001010  (Good)0000000000000  이벤트 수신(Report)     10   \n",
       "\n",
       "    Additional Cause                   Source Path  \n",
       "No                                                  \n",
       "1                   NaN  <IEC61850>345kV-E378_LID3  \n",
       "2                   NaN  <IEC61850>345kV-E378_LID3  \n",
       "3                   NaN  <IEC61850>345kV-E378_LID3  "
      ]
     },
     "execution_count": 7,
     "metadata": {},
     "output_type": "execute_result"
    }
   ],
   "source": [
    "data_alarm.head(3)"
   ]
  },
  {
   "cell_type": "code",
   "execution_count": 8,
   "metadata": {},
   "outputs": [
    {
     "data": {
      "text/html": [
       "<div>\n",
       "<style scoped>\n",
       "    .dataframe tbody tr th:only-of-type {\n",
       "        vertical-align: middle;\n",
       "    }\n",
       "\n",
       "    .dataframe tbody tr th {\n",
       "        vertical-align: top;\n",
       "    }\n",
       "\n",
       "    .dataframe thead th {\n",
       "        text-align: right;\n",
       "    }\n",
       "</style>\n",
       "<table border=\"1\" class=\"dataframe\">\n",
       "  <thead>\n",
       "    <tr style=\"text-align: right;\">\n",
       "      <th></th>\n",
       "      <th>타입</th>\n",
       "      <th>알람 레벨</th>\n",
       "      <th>TimeStamp</th>\n",
       "      <th>Name</th>\n",
       "      <th>Value</th>\n",
       "      <th>Sub Value</th>\n",
       "      <th>Time Quality</th>\n",
       "      <th>Quality</th>\n",
       "      <th>Response</th>\n",
       "      <th>Cause</th>\n",
       "      <th>Additional Cause</th>\n",
       "      <th>Source Path</th>\n",
       "    </tr>\n",
       "    <tr>\n",
       "      <th>No</th>\n",
       "      <th></th>\n",
       "      <th></th>\n",
       "      <th></th>\n",
       "      <th></th>\n",
       "      <th></th>\n",
       "      <th></th>\n",
       "      <th></th>\n",
       "      <th></th>\n",
       "      <th></th>\n",
       "      <th></th>\n",
       "      <th></th>\n",
       "      <th></th>\n",
       "    </tr>\n",
       "  </thead>\n",
       "  <tbody>\n",
       "    <tr>\n",
       "      <th>4167</th>\n",
       "      <td>Bool-Indicator</td>\n",
       "      <td>알람레벨1</td>\n",
       "      <td>2021-09-24 09:54:03.371</td>\n",
       "      <td>345 #3Sh.R 7375 DS</td>\n",
       "      <td>열림</td>\n",
       "      <td>NaN</td>\n",
       "      <td>10001010</td>\n",
       "      <td>(Good)0000000000000</td>\n",
       "      <td>이벤트 수신(Report)</td>\n",
       "      <td>10</td>\n",
       "      <td>NaN</td>\n",
       "      <td>&lt;IEC61850&gt;345kV-E378_LID3</td>\n",
       "    </tr>\n",
       "    <tr>\n",
       "      <th>4168</th>\n",
       "      <td>Bool-Indicator</td>\n",
       "      <td>알람레벨2</td>\n",
       "      <td>2021-09-24 10:29:54.711</td>\n",
       "      <td>345 #2Sh.R 7279 CB</td>\n",
       "      <td>열림</td>\n",
       "      <td>차단부하 &lt;197.67&gt;</td>\n",
       "      <td>10001010</td>\n",
       "      <td>(Good)0000000000000</td>\n",
       "      <td>이벤트 수신(Report)</td>\n",
       "      <td>10</td>\n",
       "      <td>NaN</td>\n",
       "      <td>&lt;IEC61850&gt;345kV-E378_LID3</td>\n",
       "    </tr>\n",
       "    <tr>\n",
       "      <th>4169</th>\n",
       "      <td>Bool-Indicator</td>\n",
       "      <td>알람레벨1</td>\n",
       "      <td>2021-09-24 10:30:07.713</td>\n",
       "      <td>345 #2Sh.R 7275 DS</td>\n",
       "      <td>열림</td>\n",
       "      <td>NaN</td>\n",
       "      <td>10001010</td>\n",
       "      <td>(Good)0000000000000</td>\n",
       "      <td>이벤트 수신(Report)</td>\n",
       "      <td>10</td>\n",
       "      <td>NaN</td>\n",
       "      <td>&lt;IEC61850&gt;345kV-E378_LID3</td>\n",
       "    </tr>\n",
       "  </tbody>\n",
       "</table>\n",
       "</div>"
      ],
      "text/plain": [
       "                  타입  알람 레벨                TimeStamp                Name  \\\n",
       "No                                                                         \n",
       "4167  Bool-Indicator  알람레벨1  2021-09-24 09:54:03.371  345 #3Sh.R 7375 DS   \n",
       "4168  Bool-Indicator  알람레벨2  2021-09-24 10:29:54.711  345 #2Sh.R 7279 CB   \n",
       "4169  Bool-Indicator  알람레벨1  2021-09-24 10:30:07.713  345 #2Sh.R 7275 DS   \n",
       "\n",
       "     Value      Sub Value  Time Quality              Quality        Response  \\\n",
       "No                                                                             \n",
       "4167    열림            NaN      10001010  (Good)0000000000000  이벤트 수신(Report)   \n",
       "4168    열림  차단부하 <197.67>      10001010  (Good)0000000000000  이벤트 수신(Report)   \n",
       "4169    열림            NaN      10001010  (Good)0000000000000  이벤트 수신(Report)   \n",
       "\n",
       "      Cause  Additional Cause                   Source Path  \n",
       "No                                                           \n",
       "4167     10                  NaN  <IEC61850>345kV-E378_LID3  \n",
       "4168     10                  NaN  <IEC61850>345kV-E378_LID3  \n",
       "4169     10                  NaN  <IEC61850>345kV-E378_LID3  "
      ]
     },
     "execution_count": 8,
     "metadata": {},
     "output_type": "execute_result"
    }
   ],
   "source": [
    "data_alarm.tail(3)"
   ]
  },
  {
   "cell_type": "code",
   "execution_count": 9,
   "metadata": {},
   "outputs": [
    {
     "data": {
      "text/plain": [
       "Index(['타입', '알람 레벨', 'TimeStamp', 'Name', 'Value', 'Sub Value',\n",
       "       'Time Quality', 'Quality', 'Response', 'Cause', 'Additional Cause   ',\n",
       "       'Source Path'],\n",
       "      dtype='object')"
      ]
     },
     "execution_count": 9,
     "metadata": {},
     "output_type": "execute_result"
    }
   ],
   "source": [
    "data_alarm.columns"
   ]
  },
  {
   "cell_type": "code",
   "execution_count": 10,
   "metadata": {},
   "outputs": [
    {
     "data": {
      "text/plain": [
       "열림        1161\n",
       "닫힘        1102\n",
       "동작         849\n",
       "복귀         846\n",
       "LOCAL       77\n",
       "REMOTE      77\n",
       "접지중         57\n",
       "Name: Value, dtype: int64"
      ]
     },
     "execution_count": 10,
     "metadata": {},
     "output_type": "execute_result"
    }
   ],
   "source": [
    "data_alarm['Value'].value_counts()"
   ]
  },
  {
   "cell_type": "code",
   "execution_count": null,
   "metadata": {},
   "outputs": [],
   "source": []
  },
  {
   "cell_type": "markdown",
   "metadata": {},
   "source": [
    "### 3.2 data_measured"
   ]
  },
  {
   "cell_type": "markdown",
   "metadata": {},
   "source": [
    "계측값 이력 데이터셋"
   ]
  },
  {
   "cell_type": "code",
   "execution_count": 11,
   "metadata": {},
   "outputs": [
    {
     "data": {
      "text/html": [
       "<div>\n",
       "<style scoped>\n",
       "    .dataframe tbody tr th:only-of-type {\n",
       "        vertical-align: middle;\n",
       "    }\n",
       "\n",
       "    .dataframe tbody tr th {\n",
       "        vertical-align: top;\n",
       "    }\n",
       "\n",
       "    .dataframe thead th {\n",
       "        text-align: right;\n",
       "    }\n",
       "</style>\n",
       "<table border=\"1\" class=\"dataframe\">\n",
       "  <thead>\n",
       "    <tr style=\"text-align: right;\">\n",
       "      <th></th>\n",
       "      <th>시각</th>\n",
       "      <th>345kV PT #1 BUS METERING P.T A상 전압</th>\n",
       "      <th>345kV PT #2 BUS METERING P.T A상 전압</th>\n",
       "      <th>Unnamed: 4</th>\n",
       "      <th>Unnamed: 5</th>\n",
       "      <th>Unnamed: 6</th>\n",
       "    </tr>\n",
       "    <tr>\n",
       "      <th>순서</th>\n",
       "      <th></th>\n",
       "      <th></th>\n",
       "      <th></th>\n",
       "      <th></th>\n",
       "      <th></th>\n",
       "      <th></th>\n",
       "    </tr>\n",
       "  </thead>\n",
       "  <tbody>\n",
       "    <tr>\n",
       "      <th>1</th>\n",
       "      <td>2021년03월01일 00시</td>\n",
       "      <td>351.99</td>\n",
       "      <td>352.09</td>\n",
       "      <td>NaN</td>\n",
       "      <td>NaN</td>\n",
       "      <td>NaN</td>\n",
       "    </tr>\n",
       "    <tr>\n",
       "      <th>2</th>\n",
       "      <td>2021년03월01일 01시</td>\n",
       "      <td>354.13</td>\n",
       "      <td>354.23</td>\n",
       "      <td>NaN</td>\n",
       "      <td>NaN</td>\n",
       "      <td>NaN</td>\n",
       "    </tr>\n",
       "    <tr>\n",
       "      <th>3</th>\n",
       "      <td>2021년03월01일 02시</td>\n",
       "      <td>354.55</td>\n",
       "      <td>354.70</td>\n",
       "      <td>NaN</td>\n",
       "      <td>NaN</td>\n",
       "      <td>NaN</td>\n",
       "    </tr>\n",
       "  </tbody>\n",
       "</table>\n",
       "</div>"
      ],
      "text/plain": [
       "                 시각  345kV PT #1 BUS METERING P.T A상 전압  \\\n",
       "순서                                                        \n",
       "1   2021년03월01일 00시                              351.99   \n",
       "2   2021년03월01일 01시                              354.13   \n",
       "3   2021년03월01일 02시                              354.55   \n",
       "\n",
       "    345kV PT #2 BUS METERING P.T A상 전압 Unnamed: 4 Unnamed: 5 Unnamed: 6  \n",
       "순서                                                                       \n",
       "1                               352.09        NaN        NaN        NaN  \n",
       "2                               354.23        NaN        NaN        NaN  \n",
       "3                               354.70        NaN        NaN        NaN  "
      ]
     },
     "execution_count": 11,
     "metadata": {},
     "output_type": "execute_result"
    }
   ],
   "source": [
    "data_measured.head(3)"
   ]
  },
  {
   "cell_type": "code",
   "execution_count": 12,
   "metadata": {},
   "outputs": [
    {
     "data": {
      "text/html": [
       "<div>\n",
       "<style scoped>\n",
       "    .dataframe tbody tr th:only-of-type {\n",
       "        vertical-align: middle;\n",
       "    }\n",
       "\n",
       "    .dataframe tbody tr th {\n",
       "        vertical-align: top;\n",
       "    }\n",
       "\n",
       "    .dataframe thead th {\n",
       "        text-align: right;\n",
       "    }\n",
       "</style>\n",
       "<table border=\"1\" class=\"dataframe\">\n",
       "  <thead>\n",
       "    <tr style=\"text-align: right;\">\n",
       "      <th></th>\n",
       "      <th>시각</th>\n",
       "      <th>345kV PT #1 BUS METERING P.T A상 전압</th>\n",
       "      <th>345kV PT #2 BUS METERING P.T A상 전압</th>\n",
       "      <th>Unnamed: 4</th>\n",
       "      <th>Unnamed: 5</th>\n",
       "      <th>Unnamed: 6</th>\n",
       "    </tr>\n",
       "    <tr>\n",
       "      <th>순서</th>\n",
       "      <th></th>\n",
       "      <th></th>\n",
       "      <th></th>\n",
       "      <th></th>\n",
       "      <th></th>\n",
       "      <th></th>\n",
       "    </tr>\n",
       "  </thead>\n",
       "  <tbody>\n",
       "    <tr>\n",
       "      <th>4871</th>\n",
       "      <td>2021년09월24일 08시</td>\n",
       "      <td>352.67</td>\n",
       "      <td>352.56</td>\n",
       "      <td>NaN</td>\n",
       "      <td>NaN</td>\n",
       "      <td>NaN</td>\n",
       "    </tr>\n",
       "    <tr>\n",
       "      <th>4872</th>\n",
       "      <td>2021년09월24일 09시</td>\n",
       "      <td>353.87</td>\n",
       "      <td>353.76</td>\n",
       "      <td>NaN</td>\n",
       "      <td>NaN</td>\n",
       "      <td>NaN</td>\n",
       "    </tr>\n",
       "    <tr>\n",
       "      <th>4873</th>\n",
       "      <td>2021년09월24일 10시</td>\n",
       "      <td>353.14</td>\n",
       "      <td>352.98</td>\n",
       "      <td>NaN</td>\n",
       "      <td>NaN</td>\n",
       "      <td>NaN</td>\n",
       "    </tr>\n",
       "  </tbody>\n",
       "</table>\n",
       "</div>"
      ],
      "text/plain": [
       "                   시각  345kV PT #1 BUS METERING P.T A상 전압  \\\n",
       "순서                                                          \n",
       "4871  2021년09월24일 08시                              352.67   \n",
       "4872  2021년09월24일 09시                              353.87   \n",
       "4873  2021년09월24일 10시                              353.14   \n",
       "\n",
       "      345kV PT #2 BUS METERING P.T A상 전압 Unnamed: 4 Unnamed: 5 Unnamed: 6  \n",
       "순서                                                                         \n",
       "4871                              352.56        NaN        NaN        NaN  \n",
       "4872                              353.76        NaN        NaN        NaN  \n",
       "4873                              352.98        NaN        NaN        NaN  "
      ]
     },
     "execution_count": 12,
     "metadata": {},
     "output_type": "execute_result"
    }
   ],
   "source": [
    "data_measured.tail(3)"
   ]
  },
  {
   "cell_type": "code",
   "execution_count": 13,
   "metadata": {},
   "outputs": [
    {
     "data": {
      "text/plain": [
       "Index(['시각', '345kV PT #1 BUS METERING P.T A상 전압',\n",
       "       '345kV PT #2 BUS METERING P.T A상 전압', 'Unnamed: 4', 'Unnamed: 5',\n",
       "       'Unnamed: 6'],\n",
       "      dtype='object')"
      ]
     },
     "execution_count": 13,
     "metadata": {},
     "output_type": "execute_result"
    }
   ],
   "source": [
    "data_measured.columns"
   ]
  },
  {
   "cell_type": "code",
   "execution_count": 14,
   "metadata": {},
   "outputs": [
    {
     "data": {
      "text/plain": [
       "count    4873.000000\n",
       "mean      354.314363\n",
       "std         1.903205\n",
       "min       347.700000\n",
       "25%       353.030000\n",
       "50%       354.290000\n",
       "75%       355.590000\n",
       "max       360.720000\n",
       "Name: 345kV PT #2 BUS METERING P.T A상 전압, dtype: float64"
      ]
     },
     "execution_count": 14,
     "metadata": {},
     "output_type": "execute_result"
    }
   ],
   "source": [
    "data_measured['345kV PT #2 BUS METERING P.T A상 전압'].describe()"
   ]
  },
  {
   "cell_type": "code",
   "execution_count": null,
   "metadata": {},
   "outputs": [],
   "source": []
  },
  {
   "cell_type": "markdown",
   "metadata": {},
   "source": [
    "## 4. Data Generation"
   ]
  },
  {
   "cell_type": "markdown",
   "metadata": {},
   "source": [
    "### 4.1"
   ]
  },
  {
   "cell_type": "code",
   "execution_count": 15,
   "metadata": {},
   "outputs": [],
   "source": [
    "# Name 중 'CB\"만 유효\n",
    "data_alarm = data_alarm.loc[data_alarm['Name'].apply(lambda x: x[-2:]) == 'CB']"
   ]
  },
  {
   "cell_type": "code",
   "execution_count": null,
   "metadata": {},
   "outputs": [],
   "source": []
  },
  {
   "cell_type": "code",
   "execution_count": 16,
   "metadata": {},
   "outputs": [
    {
     "data": {
      "text/plain": [
       "No\n",
       "1       2021-03-01 09:30:12.618\n",
       "3       2021-03-01 10:22:58.385\n",
       "6       2021-03-01 19:57:47.199\n",
       "8       2021-03-01 23:39:09.335\n",
       "9       2021-03-02 08:01:24.067\n",
       "                 ...           \n",
       "4160    2021-09-23 08:59:48.213\n",
       "4163    2021-09-23 22:31:34.610\n",
       "4164    2021-09-24 08:54:27.268\n",
       "4166    2021-09-24 09:53:51.820\n",
       "4168    2021-09-24 10:29:54.711\n",
       "Name: TimeStamp, Length: 1207, dtype: object"
      ]
     },
     "execution_count": 16,
     "metadata": {},
     "output_type": "execute_result"
    }
   ],
   "source": [
    "data_alarm['TimeStamp']"
   ]
  },
  {
   "cell_type": "code",
   "execution_count": 17,
   "metadata": {},
   "outputs": [],
   "source": [
    "data_alarm['date'] = data_alarm['TimeStamp'].apply(lambda x: x[:13]+'시')"
   ]
  },
  {
   "cell_type": "code",
   "execution_count": 18,
   "metadata": {},
   "outputs": [],
   "source": [
    "data_measured['date'] = data_measured['시각'].apply(lambda x: x[:4]+'-'+x[5:7]+'-'+x[8:10]+''+x[11:14]+'시')"
   ]
  },
  {
   "cell_type": "code",
   "execution_count": 19,
   "metadata": {
    "scrolled": false
   },
   "outputs": [
    {
     "data": {
      "text/html": [
       "<div>\n",
       "<style scoped>\n",
       "    .dataframe tbody tr th:only-of-type {\n",
       "        vertical-align: middle;\n",
       "    }\n",
       "\n",
       "    .dataframe tbody tr th {\n",
       "        vertical-align: top;\n",
       "    }\n",
       "\n",
       "    .dataframe thead th {\n",
       "        text-align: right;\n",
       "    }\n",
       "</style>\n",
       "<table border=\"1\" class=\"dataframe\">\n",
       "  <thead>\n",
       "    <tr style=\"text-align: right;\">\n",
       "      <th></th>\n",
       "      <th>타입</th>\n",
       "      <th>알람 레벨</th>\n",
       "      <th>TimeStamp</th>\n",
       "      <th>Name</th>\n",
       "      <th>Value</th>\n",
       "      <th>Sub Value</th>\n",
       "      <th>Time Quality</th>\n",
       "      <th>Quality</th>\n",
       "      <th>Response</th>\n",
       "      <th>Cause</th>\n",
       "      <th>Additional Cause</th>\n",
       "      <th>Source Path</th>\n",
       "      <th>date</th>\n",
       "    </tr>\n",
       "    <tr>\n",
       "      <th>No</th>\n",
       "      <th></th>\n",
       "      <th></th>\n",
       "      <th></th>\n",
       "      <th></th>\n",
       "      <th></th>\n",
       "      <th></th>\n",
       "      <th></th>\n",
       "      <th></th>\n",
       "      <th></th>\n",
       "      <th></th>\n",
       "      <th></th>\n",
       "      <th></th>\n",
       "      <th></th>\n",
       "    </tr>\n",
       "  </thead>\n",
       "  <tbody>\n",
       "    <tr>\n",
       "      <th>1</th>\n",
       "      <td>Bool-Indicator</td>\n",
       "      <td>알람레벨2</td>\n",
       "      <td>2021-03-01 09:30:12.618</td>\n",
       "      <td>345 #4Sh.R 7479 CB</td>\n",
       "      <td>열림</td>\n",
       "      <td>NaN</td>\n",
       "      <td>10001010</td>\n",
       "      <td>(Good)0000000000000</td>\n",
       "      <td>이벤트 수신(Report)</td>\n",
       "      <td>10</td>\n",
       "      <td>NaN</td>\n",
       "      <td>&lt;IEC61850&gt;345kV-E378_LID3</td>\n",
       "      <td>2021-03-01 09시</td>\n",
       "    </tr>\n",
       "    <tr>\n",
       "      <th>3</th>\n",
       "      <td>Bool-Indicator</td>\n",
       "      <td>알람레벨2</td>\n",
       "      <td>2021-03-01 10:22:58.385</td>\n",
       "      <td>345 #2Sh.R 7279 CB</td>\n",
       "      <td>열림</td>\n",
       "      <td>NaN</td>\n",
       "      <td>10001010</td>\n",
       "      <td>(Good)0000000000000</td>\n",
       "      <td>이벤트 수신(Report)</td>\n",
       "      <td>10</td>\n",
       "      <td>NaN</td>\n",
       "      <td>&lt;IEC61850&gt;345kV-E378_LID3</td>\n",
       "      <td>2021-03-01 10시</td>\n",
       "    </tr>\n",
       "    <tr>\n",
       "      <th>6</th>\n",
       "      <td>Bool-Indicator</td>\n",
       "      <td>알람레벨2</td>\n",
       "      <td>2021-03-01 19:57:47.199</td>\n",
       "      <td>345 #2Sh.R 7279 CB</td>\n",
       "      <td>닫힘</td>\n",
       "      <td>NaN</td>\n",
       "      <td>10001010</td>\n",
       "      <td>(Good)0000000000000</td>\n",
       "      <td>이벤트 수신(Report)</td>\n",
       "      <td>10</td>\n",
       "      <td>NaN</td>\n",
       "      <td>&lt;IEC61850&gt;345kV-E378_LID3</td>\n",
       "      <td>2021-03-01 19시</td>\n",
       "    </tr>\n",
       "  </tbody>\n",
       "</table>\n",
       "</div>"
      ],
      "text/plain": [
       "                타입  알람 레벨                TimeStamp                Name Value  \\\n",
       "No                                                                             \n",
       "1   Bool-Indicator  알람레벨2  2021-03-01 09:30:12.618  345 #4Sh.R 7479 CB    열림   \n",
       "3   Bool-Indicator  알람레벨2  2021-03-01 10:22:58.385  345 #2Sh.R 7279 CB    열림   \n",
       "6   Bool-Indicator  알람레벨2  2021-03-01 19:57:47.199  345 #2Sh.R 7279 CB    닫힘   \n",
       "\n",
       "   Sub Value  Time Quality              Quality        Response  Cause  \\\n",
       "No                                                                       \n",
       "1        NaN      10001010  (Good)0000000000000  이벤트 수신(Report)     10   \n",
       "3        NaN      10001010  (Good)0000000000000  이벤트 수신(Report)     10   \n",
       "6        NaN      10001010  (Good)0000000000000  이벤트 수신(Report)     10   \n",
       "\n",
       "    Additional Cause                   Source Path            date  \n",
       "No                                                                  \n",
       "1                   NaN  <IEC61850>345kV-E378_LID3  2021-03-01 09시  \n",
       "3                   NaN  <IEC61850>345kV-E378_LID3  2021-03-01 10시  \n",
       "6                   NaN  <IEC61850>345kV-E378_LID3  2021-03-01 19시  "
      ]
     },
     "execution_count": 19,
     "metadata": {},
     "output_type": "execute_result"
    }
   ],
   "source": [
    "data_alarm.head(3)"
   ]
  },
  {
   "cell_type": "code",
   "execution_count": 20,
   "metadata": {},
   "outputs": [
    {
     "data": {
      "text/html": [
       "<div>\n",
       "<style scoped>\n",
       "    .dataframe tbody tr th:only-of-type {\n",
       "        vertical-align: middle;\n",
       "    }\n",
       "\n",
       "    .dataframe tbody tr th {\n",
       "        vertical-align: top;\n",
       "    }\n",
       "\n",
       "    .dataframe thead th {\n",
       "        text-align: right;\n",
       "    }\n",
       "</style>\n",
       "<table border=\"1\" class=\"dataframe\">\n",
       "  <thead>\n",
       "    <tr style=\"text-align: right;\">\n",
       "      <th></th>\n",
       "      <th>시각</th>\n",
       "      <th>345kV PT #1 BUS METERING P.T A상 전압</th>\n",
       "      <th>345kV PT #2 BUS METERING P.T A상 전압</th>\n",
       "      <th>Unnamed: 4</th>\n",
       "      <th>Unnamed: 5</th>\n",
       "      <th>Unnamed: 6</th>\n",
       "      <th>date</th>\n",
       "    </tr>\n",
       "    <tr>\n",
       "      <th>순서</th>\n",
       "      <th></th>\n",
       "      <th></th>\n",
       "      <th></th>\n",
       "      <th></th>\n",
       "      <th></th>\n",
       "      <th></th>\n",
       "      <th></th>\n",
       "    </tr>\n",
       "  </thead>\n",
       "  <tbody>\n",
       "    <tr>\n",
       "      <th>1</th>\n",
       "      <td>2021년03월01일 00시</td>\n",
       "      <td>351.99</td>\n",
       "      <td>352.09</td>\n",
       "      <td>NaN</td>\n",
       "      <td>NaN</td>\n",
       "      <td>NaN</td>\n",
       "      <td>2021-03-01 00시</td>\n",
       "    </tr>\n",
       "    <tr>\n",
       "      <th>2</th>\n",
       "      <td>2021년03월01일 01시</td>\n",
       "      <td>354.13</td>\n",
       "      <td>354.23</td>\n",
       "      <td>NaN</td>\n",
       "      <td>NaN</td>\n",
       "      <td>NaN</td>\n",
       "      <td>2021-03-01 01시</td>\n",
       "    </tr>\n",
       "    <tr>\n",
       "      <th>3</th>\n",
       "      <td>2021년03월01일 02시</td>\n",
       "      <td>354.55</td>\n",
       "      <td>354.70</td>\n",
       "      <td>NaN</td>\n",
       "      <td>NaN</td>\n",
       "      <td>NaN</td>\n",
       "      <td>2021-03-01 02시</td>\n",
       "    </tr>\n",
       "  </tbody>\n",
       "</table>\n",
       "</div>"
      ],
      "text/plain": [
       "                 시각  345kV PT #1 BUS METERING P.T A상 전압  \\\n",
       "순서                                                        \n",
       "1   2021년03월01일 00시                              351.99   \n",
       "2   2021년03월01일 01시                              354.13   \n",
       "3   2021년03월01일 02시                              354.55   \n",
       "\n",
       "    345kV PT #2 BUS METERING P.T A상 전압 Unnamed: 4 Unnamed: 5 Unnamed: 6  \\\n",
       "순서                                                                        \n",
       "1                               352.09        NaN        NaN        NaN   \n",
       "2                               354.23        NaN        NaN        NaN   \n",
       "3                               354.70        NaN        NaN        NaN   \n",
       "\n",
       "              date  \n",
       "순서                  \n",
       "1   2021-03-01 00시  \n",
       "2   2021-03-01 01시  \n",
       "3   2021-03-01 02시  "
      ]
     },
     "execution_count": 20,
     "metadata": {},
     "output_type": "execute_result"
    }
   ],
   "source": [
    "data_measured.head(3)"
   ]
  },
  {
   "cell_type": "code",
   "execution_count": 21,
   "metadata": {},
   "outputs": [
    {
     "data": {
      "text/html": [
       "<div>\n",
       "<style scoped>\n",
       "    .dataframe tbody tr th:only-of-type {\n",
       "        vertical-align: middle;\n",
       "    }\n",
       "\n",
       "    .dataframe tbody tr th {\n",
       "        vertical-align: top;\n",
       "    }\n",
       "\n",
       "    .dataframe thead th {\n",
       "        text-align: right;\n",
       "    }\n",
       "</style>\n",
       "<table border=\"1\" class=\"dataframe\">\n",
       "  <thead>\n",
       "    <tr style=\"text-align: right;\">\n",
       "      <th>Value</th>\n",
       "      <th>닫힘</th>\n",
       "      <th>열림</th>\n",
       "    </tr>\n",
       "    <tr>\n",
       "      <th>date</th>\n",
       "      <th></th>\n",
       "      <th></th>\n",
       "    </tr>\n",
       "  </thead>\n",
       "  <tbody>\n",
       "    <tr>\n",
       "      <th>2021-03-01 09시</th>\n",
       "      <td>0.0</td>\n",
       "      <td>1.0</td>\n",
       "    </tr>\n",
       "    <tr>\n",
       "      <th>2021-03-01 10시</th>\n",
       "      <td>0.0</td>\n",
       "      <td>1.0</td>\n",
       "    </tr>\n",
       "    <tr>\n",
       "      <th>2021-03-01 19시</th>\n",
       "      <td>1.0</td>\n",
       "      <td>0.0</td>\n",
       "    </tr>\n",
       "    <tr>\n",
       "      <th>2021-03-01 23시</th>\n",
       "      <td>1.0</td>\n",
       "      <td>0.0</td>\n",
       "    </tr>\n",
       "    <tr>\n",
       "      <th>2021-03-02 08시</th>\n",
       "      <td>0.0</td>\n",
       "      <td>1.0</td>\n",
       "    </tr>\n",
       "    <tr>\n",
       "      <th>...</th>\n",
       "      <td>...</td>\n",
       "      <td>...</td>\n",
       "    </tr>\n",
       "    <tr>\n",
       "      <th>2021-09-23 08시</th>\n",
       "      <td>0.0</td>\n",
       "      <td>1.0</td>\n",
       "    </tr>\n",
       "    <tr>\n",
       "      <th>2021-09-23 22시</th>\n",
       "      <td>1.0</td>\n",
       "      <td>0.0</td>\n",
       "    </tr>\n",
       "    <tr>\n",
       "      <th>2021-09-24 08시</th>\n",
       "      <td>0.0</td>\n",
       "      <td>1.0</td>\n",
       "    </tr>\n",
       "    <tr>\n",
       "      <th>2021-09-24 09시</th>\n",
       "      <td>0.0</td>\n",
       "      <td>1.0</td>\n",
       "    </tr>\n",
       "    <tr>\n",
       "      <th>2021-09-24 10시</th>\n",
       "      <td>0.0</td>\n",
       "      <td>1.0</td>\n",
       "    </tr>\n",
       "  </tbody>\n",
       "</table>\n",
       "<p>792 rows × 2 columns</p>\n",
       "</div>"
      ],
      "text/plain": [
       "Value            닫힘   열림\n",
       "date                    \n",
       "2021-03-01 09시  0.0  1.0\n",
       "2021-03-01 10시  0.0  1.0\n",
       "2021-03-01 19시  1.0  0.0\n",
       "2021-03-01 23시  1.0  0.0\n",
       "2021-03-02 08시  0.0  1.0\n",
       "...             ...  ...\n",
       "2021-09-23 08시  0.0  1.0\n",
       "2021-09-23 22시  1.0  0.0\n",
       "2021-09-24 08시  0.0  1.0\n",
       "2021-09-24 09시  0.0  1.0\n",
       "2021-09-24 10시  0.0  1.0\n",
       "\n",
       "[792 rows x 2 columns]"
      ]
     },
     "execution_count": 21,
     "metadata": {},
     "output_type": "execute_result"
    }
   ],
   "source": [
    "value = data_alarm[['date','Value']].groupby('date')['Value'].value_counts().unstack().fillna(0)\n",
    "value"
   ]
  },
  {
   "cell_type": "code",
   "execution_count": 22,
   "metadata": {},
   "outputs": [
    {
     "data": {
      "text/html": [
       "<div>\n",
       "<style scoped>\n",
       "    .dataframe tbody tr th:only-of-type {\n",
       "        vertical-align: middle;\n",
       "    }\n",
       "\n",
       "    .dataframe tbody tr th {\n",
       "        vertical-align: top;\n",
       "    }\n",
       "\n",
       "    .dataframe thead th {\n",
       "        text-align: right;\n",
       "    }\n",
       "</style>\n",
       "<table border=\"1\" class=\"dataframe\">\n",
       "  <thead>\n",
       "    <tr style=\"text-align: right;\">\n",
       "      <th></th>\n",
       "      <th>345kV PT #1 BUS METERING P.T A상 전압</th>\n",
       "      <th>date</th>\n",
       "    </tr>\n",
       "    <tr>\n",
       "      <th>순서</th>\n",
       "      <th></th>\n",
       "      <th></th>\n",
       "    </tr>\n",
       "  </thead>\n",
       "  <tbody>\n",
       "    <tr>\n",
       "      <th>1</th>\n",
       "      <td>351.99</td>\n",
       "      <td>2021-03-01 00시</td>\n",
       "    </tr>\n",
       "    <tr>\n",
       "      <th>2</th>\n",
       "      <td>354.13</td>\n",
       "      <td>2021-03-01 01시</td>\n",
       "    </tr>\n",
       "    <tr>\n",
       "      <th>3</th>\n",
       "      <td>354.55</td>\n",
       "      <td>2021-03-01 02시</td>\n",
       "    </tr>\n",
       "    <tr>\n",
       "      <th>4</th>\n",
       "      <td>355.12</td>\n",
       "      <td>2021-03-01 03시</td>\n",
       "    </tr>\n",
       "    <tr>\n",
       "      <th>5</th>\n",
       "      <td>354.91</td>\n",
       "      <td>2021-03-01 04시</td>\n",
       "    </tr>\n",
       "    <tr>\n",
       "      <th>...</th>\n",
       "      <td>...</td>\n",
       "      <td>...</td>\n",
       "    </tr>\n",
       "    <tr>\n",
       "      <th>4869</th>\n",
       "      <td>352.61</td>\n",
       "      <td>2021-09-24 06시</td>\n",
       "    </tr>\n",
       "    <tr>\n",
       "      <th>4870</th>\n",
       "      <td>353.97</td>\n",
       "      <td>2021-09-24 07시</td>\n",
       "    </tr>\n",
       "    <tr>\n",
       "      <th>4871</th>\n",
       "      <td>352.67</td>\n",
       "      <td>2021-09-24 08시</td>\n",
       "    </tr>\n",
       "    <tr>\n",
       "      <th>4872</th>\n",
       "      <td>353.87</td>\n",
       "      <td>2021-09-24 09시</td>\n",
       "    </tr>\n",
       "    <tr>\n",
       "      <th>4873</th>\n",
       "      <td>353.14</td>\n",
       "      <td>2021-09-24 10시</td>\n",
       "    </tr>\n",
       "  </tbody>\n",
       "</table>\n",
       "<p>4873 rows × 2 columns</p>\n",
       "</div>"
      ],
      "text/plain": [
       "      345kV PT #1 BUS METERING P.T A상 전압            date\n",
       "순서                                                      \n",
       "1                                 351.99  2021-03-01 00시\n",
       "2                                 354.13  2021-03-01 01시\n",
       "3                                 354.55  2021-03-01 02시\n",
       "4                                 355.12  2021-03-01 03시\n",
       "5                                 354.91  2021-03-01 04시\n",
       "...                                  ...             ...\n",
       "4869                              352.61  2021-09-24 06시\n",
       "4870                              353.97  2021-09-24 07시\n",
       "4871                              352.67  2021-09-24 08시\n",
       "4872                              353.87  2021-09-24 09시\n",
       "4873                              353.14  2021-09-24 10시\n",
       "\n",
       "[4873 rows x 2 columns]"
      ]
     },
     "execution_count": 22,
     "metadata": {},
     "output_type": "execute_result"
    }
   ],
   "source": [
    "data_measured[['345kV PT #1 BUS METERING P.T A상 전압','date']]"
   ]
  },
  {
   "cell_type": "code",
   "execution_count": 23,
   "metadata": {},
   "outputs": [
    {
     "data": {
      "text/html": [
       "<div>\n",
       "<style scoped>\n",
       "    .dataframe tbody tr th:only-of-type {\n",
       "        vertical-align: middle;\n",
       "    }\n",
       "\n",
       "    .dataframe tbody tr th {\n",
       "        vertical-align: top;\n",
       "    }\n",
       "\n",
       "    .dataframe thead th {\n",
       "        text-align: right;\n",
       "    }\n",
       "</style>\n",
       "<table border=\"1\" class=\"dataframe\">\n",
       "  <thead>\n",
       "    <tr style=\"text-align: right;\">\n",
       "      <th></th>\n",
       "      <th>전압</th>\n",
       "      <th>날짜</th>\n",
       "      <th>닫힘</th>\n",
       "      <th>열림</th>\n",
       "    </tr>\n",
       "  </thead>\n",
       "  <tbody>\n",
       "    <tr>\n",
       "      <th>0</th>\n",
       "      <td>351.99</td>\n",
       "      <td>2021-03-01 00시</td>\n",
       "      <td>0.0</td>\n",
       "      <td>0.0</td>\n",
       "    </tr>\n",
       "    <tr>\n",
       "      <th>1</th>\n",
       "      <td>354.13</td>\n",
       "      <td>2021-03-01 01시</td>\n",
       "      <td>0.0</td>\n",
       "      <td>0.0</td>\n",
       "    </tr>\n",
       "    <tr>\n",
       "      <th>2</th>\n",
       "      <td>354.55</td>\n",
       "      <td>2021-03-01 02시</td>\n",
       "      <td>0.0</td>\n",
       "      <td>0.0</td>\n",
       "    </tr>\n",
       "    <tr>\n",
       "      <th>3</th>\n",
       "      <td>355.12</td>\n",
       "      <td>2021-03-01 03시</td>\n",
       "      <td>0.0</td>\n",
       "      <td>0.0</td>\n",
       "    </tr>\n",
       "    <tr>\n",
       "      <th>4</th>\n",
       "      <td>354.91</td>\n",
       "      <td>2021-03-01 04시</td>\n",
       "      <td>0.0</td>\n",
       "      <td>0.0</td>\n",
       "    </tr>\n",
       "  </tbody>\n",
       "</table>\n",
       "</div>"
      ],
      "text/plain": [
       "       전압              날짜   닫힘   열림\n",
       "0  351.99  2021-03-01 00시  0.0  0.0\n",
       "1  354.13  2021-03-01 01시  0.0  0.0\n",
       "2  354.55  2021-03-01 02시  0.0  0.0\n",
       "3  355.12  2021-03-01 03시  0.0  0.0\n",
       "4  354.91  2021-03-01 04시  0.0  0.0"
      ]
     },
     "execution_count": 23,
     "metadata": {},
     "output_type": "execute_result"
    }
   ],
   "source": [
    "# 1 BUS\n",
    "data = pd.merge(data_measured[['345kV PT #1 BUS METERING P.T A상 전압','date']], value, how='left', on='date')\n",
    "data.fillna(0, inplace=True)\n",
    "data.columns = ['전압','날짜','닫힘','열림']\n",
    "data.head(5)"
   ]
  },
  {
   "cell_type": "code",
   "execution_count": 24,
   "metadata": {},
   "outputs": [
    {
     "data": {
      "text/html": [
       "<div>\n",
       "<style scoped>\n",
       "    .dataframe tbody tr th:only-of-type {\n",
       "        vertical-align: middle;\n",
       "    }\n",
       "\n",
       "    .dataframe tbody tr th {\n",
       "        vertical-align: top;\n",
       "    }\n",
       "\n",
       "    .dataframe thead th {\n",
       "        text-align: right;\n",
       "    }\n",
       "</style>\n",
       "<table border=\"1\" class=\"dataframe\">\n",
       "  <thead>\n",
       "    <tr style=\"text-align: right;\">\n",
       "      <th></th>\n",
       "      <th>전압</th>\n",
       "      <th>날짜</th>\n",
       "      <th>닫힘</th>\n",
       "      <th>열림</th>\n",
       "    </tr>\n",
       "  </thead>\n",
       "  <tbody>\n",
       "    <tr>\n",
       "      <th>4868</th>\n",
       "      <td>352.61</td>\n",
       "      <td>2021-09-24 06시</td>\n",
       "      <td>0.0</td>\n",
       "      <td>0.0</td>\n",
       "    </tr>\n",
       "    <tr>\n",
       "      <th>4869</th>\n",
       "      <td>353.97</td>\n",
       "      <td>2021-09-24 07시</td>\n",
       "      <td>0.0</td>\n",
       "      <td>0.0</td>\n",
       "    </tr>\n",
       "    <tr>\n",
       "      <th>4870</th>\n",
       "      <td>352.67</td>\n",
       "      <td>2021-09-24 08시</td>\n",
       "      <td>0.0</td>\n",
       "      <td>1.0</td>\n",
       "    </tr>\n",
       "    <tr>\n",
       "      <th>4871</th>\n",
       "      <td>353.87</td>\n",
       "      <td>2021-09-24 09시</td>\n",
       "      <td>0.0</td>\n",
       "      <td>1.0</td>\n",
       "    </tr>\n",
       "    <tr>\n",
       "      <th>4872</th>\n",
       "      <td>353.14</td>\n",
       "      <td>2021-09-24 10시</td>\n",
       "      <td>0.0</td>\n",
       "      <td>1.0</td>\n",
       "    </tr>\n",
       "  </tbody>\n",
       "</table>\n",
       "</div>"
      ],
      "text/plain": [
       "          전압              날짜   닫힘   열림\n",
       "4868  352.61  2021-09-24 06시  0.0  0.0\n",
       "4869  353.97  2021-09-24 07시  0.0  0.0\n",
       "4870  352.67  2021-09-24 08시  0.0  1.0\n",
       "4871  353.87  2021-09-24 09시  0.0  1.0\n",
       "4872  353.14  2021-09-24 10시  0.0  1.0"
      ]
     },
     "execution_count": 24,
     "metadata": {},
     "output_type": "execute_result"
    }
   ],
   "source": [
    "data.tail(5)"
   ]
  },
  {
   "cell_type": "code",
   "execution_count": 25,
   "metadata": {},
   "outputs": [],
   "source": [
    "# 열렸을 때, 전압이 평균적으로 5 낮아졌다고 가정 (수정)\n",
    "열림_value = 5\n",
    "닫힘_value = -5"
   ]
  },
  {
   "cell_type": "code",
   "execution_count": 26,
   "metadata": {},
   "outputs": [],
   "source": [
    "기존전압 = pd.DataFrame(data['전압'] + data['닫힘']*닫힘_value + data['열림']*열림_value)\n",
    "기존전압.columns = ['기존 전압']"
   ]
  },
  {
   "cell_type": "code",
   "execution_count": 27,
   "metadata": {},
   "outputs": [
    {
     "data": {
      "text/html": [
       "<div>\n",
       "<style scoped>\n",
       "    .dataframe tbody tr th:only-of-type {\n",
       "        vertical-align: middle;\n",
       "    }\n",
       "\n",
       "    .dataframe tbody tr th {\n",
       "        vertical-align: top;\n",
       "    }\n",
       "\n",
       "    .dataframe thead th {\n",
       "        text-align: right;\n",
       "    }\n",
       "</style>\n",
       "<table border=\"1\" class=\"dataframe\">\n",
       "  <thead>\n",
       "    <tr style=\"text-align: right;\">\n",
       "      <th></th>\n",
       "      <th>전압</th>\n",
       "      <th>날짜</th>\n",
       "      <th>닫힘</th>\n",
       "      <th>열림</th>\n",
       "      <th>기존 전압</th>\n",
       "    </tr>\n",
       "  </thead>\n",
       "  <tbody>\n",
       "    <tr>\n",
       "      <th>0</th>\n",
       "      <td>351.99</td>\n",
       "      <td>2021-03-01 00시</td>\n",
       "      <td>0.0</td>\n",
       "      <td>0.0</td>\n",
       "      <td>351.99</td>\n",
       "    </tr>\n",
       "    <tr>\n",
       "      <th>1</th>\n",
       "      <td>354.13</td>\n",
       "      <td>2021-03-01 01시</td>\n",
       "      <td>0.0</td>\n",
       "      <td>0.0</td>\n",
       "      <td>354.13</td>\n",
       "    </tr>\n",
       "    <tr>\n",
       "      <th>2</th>\n",
       "      <td>354.55</td>\n",
       "      <td>2021-03-01 02시</td>\n",
       "      <td>0.0</td>\n",
       "      <td>0.0</td>\n",
       "      <td>354.55</td>\n",
       "    </tr>\n",
       "  </tbody>\n",
       "</table>\n",
       "</div>"
      ],
      "text/plain": [
       "       전압              날짜   닫힘   열림   기존 전압\n",
       "0  351.99  2021-03-01 00시  0.0  0.0  351.99\n",
       "1  354.13  2021-03-01 01시  0.0  0.0  354.13\n",
       "2  354.55  2021-03-01 02시  0.0  0.0  354.55"
      ]
     },
     "execution_count": 27,
     "metadata": {},
     "output_type": "execute_result"
    }
   ],
   "source": [
    "df = pd.concat([data,기존전압],axis=1)\n",
    "df.head(3)"
   ]
  },
  {
   "cell_type": "code",
   "execution_count": 28,
   "metadata": {},
   "outputs": [
    {
     "data": {
      "text/html": [
       "<div>\n",
       "<style scoped>\n",
       "    .dataframe tbody tr th:only-of-type {\n",
       "        vertical-align: middle;\n",
       "    }\n",
       "\n",
       "    .dataframe tbody tr th {\n",
       "        vertical-align: top;\n",
       "    }\n",
       "\n",
       "    .dataframe thead th {\n",
       "        text-align: right;\n",
       "    }\n",
       "</style>\n",
       "<table border=\"1\" class=\"dataframe\">\n",
       "  <thead>\n",
       "    <tr style=\"text-align: right;\">\n",
       "      <th></th>\n",
       "      <th>전압</th>\n",
       "      <th>날짜</th>\n",
       "      <th>닫힘</th>\n",
       "      <th>열림</th>\n",
       "      <th>기존 전압</th>\n",
       "    </tr>\n",
       "  </thead>\n",
       "  <tbody>\n",
       "    <tr>\n",
       "      <th>4868</th>\n",
       "      <td>352.61</td>\n",
       "      <td>2021-09-24 06시</td>\n",
       "      <td>0.0</td>\n",
       "      <td>0.0</td>\n",
       "      <td>352.61</td>\n",
       "    </tr>\n",
       "    <tr>\n",
       "      <th>4869</th>\n",
       "      <td>353.97</td>\n",
       "      <td>2021-09-24 07시</td>\n",
       "      <td>0.0</td>\n",
       "      <td>0.0</td>\n",
       "      <td>353.97</td>\n",
       "    </tr>\n",
       "    <tr>\n",
       "      <th>4870</th>\n",
       "      <td>352.67</td>\n",
       "      <td>2021-09-24 08시</td>\n",
       "      <td>0.0</td>\n",
       "      <td>1.0</td>\n",
       "      <td>357.67</td>\n",
       "    </tr>\n",
       "    <tr>\n",
       "      <th>4871</th>\n",
       "      <td>353.87</td>\n",
       "      <td>2021-09-24 09시</td>\n",
       "      <td>0.0</td>\n",
       "      <td>1.0</td>\n",
       "      <td>358.87</td>\n",
       "    </tr>\n",
       "    <tr>\n",
       "      <th>4872</th>\n",
       "      <td>353.14</td>\n",
       "      <td>2021-09-24 10시</td>\n",
       "      <td>0.0</td>\n",
       "      <td>1.0</td>\n",
       "      <td>358.14</td>\n",
       "    </tr>\n",
       "  </tbody>\n",
       "</table>\n",
       "</div>"
      ],
      "text/plain": [
       "          전압              날짜   닫힘   열림   기존 전압\n",
       "4868  352.61  2021-09-24 06시  0.0  0.0  352.61\n",
       "4869  353.97  2021-09-24 07시  0.0  0.0  353.97\n",
       "4870  352.67  2021-09-24 08시  0.0  1.0  357.67\n",
       "4871  353.87  2021-09-24 09시  0.0  1.0  358.87\n",
       "4872  353.14  2021-09-24 10시  0.0  1.0  358.14"
      ]
     },
     "execution_count": 28,
     "metadata": {},
     "output_type": "execute_result"
    }
   ],
   "source": [
    "df.tail(5)"
   ]
  },
  {
   "cell_type": "code",
   "execution_count": 29,
   "metadata": {},
   "outputs": [
    {
     "data": {
      "text/html": [
       "<div>\n",
       "<style scoped>\n",
       "    .dataframe tbody tr th:only-of-type {\n",
       "        vertical-align: middle;\n",
       "    }\n",
       "\n",
       "    .dataframe tbody tr th {\n",
       "        vertical-align: top;\n",
       "    }\n",
       "\n",
       "    .dataframe thead th {\n",
       "        text-align: right;\n",
       "    }\n",
       "</style>\n",
       "<table border=\"1\" class=\"dataframe\">\n",
       "  <thead>\n",
       "    <tr style=\"text-align: right;\">\n",
       "      <th></th>\n",
       "      <th>voltage</th>\n",
       "      <th>date</th>\n",
       "      <th>closed</th>\n",
       "      <th>open</th>\n",
       "      <th>voltage_origin</th>\n",
       "    </tr>\n",
       "  </thead>\n",
       "  <tbody>\n",
       "    <tr>\n",
       "      <th>0</th>\n",
       "      <td>351.99</td>\n",
       "      <td>2021-03-01 00:00:00</td>\n",
       "      <td>0.0</td>\n",
       "      <td>0.0</td>\n",
       "      <td>351.99</td>\n",
       "    </tr>\n",
       "    <tr>\n",
       "      <th>1</th>\n",
       "      <td>354.13</td>\n",
       "      <td>2021-03-01 01:00:00</td>\n",
       "      <td>0.0</td>\n",
       "      <td>0.0</td>\n",
       "      <td>354.13</td>\n",
       "    </tr>\n",
       "    <tr>\n",
       "      <th>2</th>\n",
       "      <td>354.55</td>\n",
       "      <td>2021-03-01 02:00:00</td>\n",
       "      <td>0.0</td>\n",
       "      <td>0.0</td>\n",
       "      <td>354.55</td>\n",
       "    </tr>\n",
       "  </tbody>\n",
       "</table>\n",
       "</div>"
      ],
      "text/plain": [
       "   voltage                date  closed  open  voltage_origin\n",
       "0   351.99 2021-03-01 00:00:00     0.0   0.0          351.99\n",
       "1   354.13 2021-03-01 01:00:00     0.0   0.0          354.13\n",
       "2   354.55 2021-03-01 02:00:00     0.0   0.0          354.55"
      ]
     },
     "execution_count": 29,
     "metadata": {},
     "output_type": "execute_result"
    }
   ],
   "source": [
    "df['날짜'] = pd.to_datetime(df['날짜'].apply(lambda x: x[:-1]))\n",
    "df.columns = ['voltage','date','closed','open','voltage_origin']\n",
    "df.head(3)"
   ]
  },
  {
   "cell_type": "code",
   "execution_count": 30,
   "metadata": {},
   "outputs": [],
   "source": [
    "df = df.drop(['closed','open','voltage'],axis=1)\n",
    "df.index = df['date']\n",
    "df.set_index('date', inplace=True)"
   ]
  },
  {
   "cell_type": "code",
   "execution_count": 31,
   "metadata": {
    "scrolled": true
   },
   "outputs": [
    {
     "data": {
      "image/png": "[encoded data removed]",
      "text/plain": [
       "<Figure size 432x288 with 1 Axes>"
      ]
     },
     "metadata": {
      "needs_background": "light"
     },
     "output_type": "display_data"
    }
   ],
   "source": [
    "df.plot()\n",
    "plt.show()"
   ]
  },
  {
   "cell_type": "markdown",
   "metadata": {},
   "source": [
    "closed, open을 고려한 원래의 전압 예측 데이터<br>\n",
    "(closed, open 시 얼만큼의 효과가 있는지 수정, 현재 +-5)<br>\n",
    "시간 별 평균 데이터를 가지고 정규분포에서 난수 생성? (평균 : voltage_origin, 분산 : ?)"
   ]
  },
  {
   "cell_type": "code",
   "execution_count": null,
   "metadata": {},
   "outputs": [],
   "source": []
  },
  {
   "cell_type": "code",
   "execution_count": 32,
   "metadata": {},
   "outputs": [],
   "source": [
    "# 전압(origin)\n",
    "# 열고, 닫힘 여부 (그 때의 전압 변화량)\n",
    "# 사용한 탭 (데이터x 가정 필요)\n",
    "# 시간 (전압 제어에 필요한, 현재 2초 가정)"
   ]
  },
  {
   "cell_type": "code",
   "execution_count": 33,
   "metadata": {},
   "outputs": [],
   "source": [
    "# input : 현재 전압\n",
    "# output : 리액터 활성 여부, 탭 수, 탭 간 이동 시간을 포함한 전체 안정화 시간"
   ]
  },
  {
   "cell_type": "code",
   "execution_count": null,
   "metadata": {},
   "outputs": [],
   "source": []
  },
  {
   "cell_type": "markdown",
   "metadata": {},
   "source": [
    "### 4.2"
   ]
  },
  {
   "cell_type": "code",
   "execution_count": 34,
   "metadata": {},
   "outputs": [],
   "source": [
    "mu = 354\n",
    "sigma = 20\n",
    "interval = 2"
   ]
  },
  {
   "cell_type": "code",
   "execution_count": 35,
   "metadata": {},
   "outputs": [],
   "source": [
    "react = -3\n",
    "tab = -2"
   ]
  },
  {
   "cell_type": "code",
   "execution_count": 36,
   "metadata": {},
   "outputs": [],
   "source": [
    "#def update_boundary(voltage_alarmed):\n",
    "#    global boundary\n",
    "#    boundary.append(voltage_alarmed)\n",
    "#    return np.mean(boundary)"
   ]
  },
  {
   "cell_type": "code",
   "execution_count": 37,
   "metadata": {},
   "outputs": [],
   "source": [
    "boundary = 360"
   ]
  },
  {
   "cell_type": "code",
   "execution_count": 38,
   "metadata": {
    "scrolled": true
   },
   "outputs": [
    {
     "data": {
      "text/html": [
       "<div>\n",
       "<style scoped>\n",
       "    .dataframe tbody tr th:only-of-type {\n",
       "        vertical-align: middle;\n",
       "    }\n",
       "\n",
       "    .dataframe tbody tr th {\n",
       "        vertical-align: top;\n",
       "    }\n",
       "\n",
       "    .dataframe thead th {\n",
       "        text-align: right;\n",
       "    }\n",
       "</style>\n",
       "<table border=\"1\" class=\"dataframe\">\n",
       "  <thead>\n",
       "    <tr style=\"text-align: right;\">\n",
       "      <th></th>\n",
       "      <th>voltage</th>\n",
       "    </tr>\n",
       "  </thead>\n",
       "  <tbody>\n",
       "    <tr>\n",
       "      <th>0</th>\n",
       "      <td>363</td>\n",
       "    </tr>\n",
       "    <tr>\n",
       "      <th>1</th>\n",
       "      <td>330</td>\n",
       "    </tr>\n",
       "    <tr>\n",
       "      <th>2</th>\n",
       "      <td>382</td>\n",
       "    </tr>\n",
       "    <tr>\n",
       "      <th>3</th>\n",
       "      <td>347</td>\n",
       "    </tr>\n",
       "    <tr>\n",
       "      <th>4</th>\n",
       "      <td>339</td>\n",
       "    </tr>\n",
       "  </tbody>\n",
       "</table>\n",
       "</div>"
      ],
      "text/plain": [
       "   voltage\n",
       "0      363\n",
       "1      330\n",
       "2      382\n",
       "3      347\n",
       "4      339"
      ]
     },
     "execution_count": 38,
     "metadata": {},
     "output_type": "execute_result"
    }
   ],
   "source": [
    "np.random.seed(1234)\n",
    "generation = pd.DataFrame(np.random.normal(mu, sigma, size=int(60/interval)),columns = ['voltage'])\n",
    "generation['voltage'] = generation['voltage'].apply(lambda x: int(x))\n",
    "generation.head()"
   ]
  },
  {
   "cell_type": "code",
   "execution_count": 39,
   "metadata": {},
   "outputs": [
    {
     "data": {
      "image/png": "[encoded data removed]",
      "text/plain": [
       "<Figure size 432x288 with 1 Axes>"
      ]
     },
     "metadata": {
      "needs_background": "light"
     },
     "output_type": "display_data"
    }
   ],
   "source": [
    "plt.plot(generation)\n",
    "plt.axhline(y=boundary, color='r', linewidth=1)\n",
    "plt.show()"
   ]
  },
  {
   "cell_type": "code",
   "execution_count": 40,
   "metadata": {},
   "outputs": [],
   "source": [
    "generation['diff'] = boundary - generation['voltage']\n",
    "generation.loc[generation['voltage'] <= boundary, 'diff'] = 0"
   ]
  },
  {
   "cell_type": "code",
   "execution_count": 41,
   "metadata": {
    "scrolled": false
   },
   "outputs": [
    {
     "data": {
      "text/html": [
       "<div>\n",
       "<style scoped>\n",
       "    .dataframe tbody tr th:only-of-type {\n",
       "        vertical-align: middle;\n",
       "    }\n",
       "\n",
       "    .dataframe tbody tr th {\n",
       "        vertical-align: top;\n",
       "    }\n",
       "\n",
       "    .dataframe thead th {\n",
       "        text-align: right;\n",
       "    }\n",
       "</style>\n",
       "<table border=\"1\" class=\"dataframe\">\n",
       "  <thead>\n",
       "    <tr style=\"text-align: right;\">\n",
       "      <th></th>\n",
       "      <th>voltage</th>\n",
       "      <th>diff</th>\n",
       "      <th>after_react</th>\n",
       "    </tr>\n",
       "  </thead>\n",
       "  <tbody>\n",
       "    <tr>\n",
       "      <th>0</th>\n",
       "      <td>363</td>\n",
       "      <td>-3</td>\n",
       "      <td>0</td>\n",
       "    </tr>\n",
       "    <tr>\n",
       "      <th>1</th>\n",
       "      <td>330</td>\n",
       "      <td>0</td>\n",
       "      <td>0</td>\n",
       "    </tr>\n",
       "    <tr>\n",
       "      <th>2</th>\n",
       "      <td>382</td>\n",
       "      <td>-22</td>\n",
       "      <td>-19</td>\n",
       "    </tr>\n",
       "    <tr>\n",
       "      <th>3</th>\n",
       "      <td>347</td>\n",
       "      <td>0</td>\n",
       "      <td>0</td>\n",
       "    </tr>\n",
       "    <tr>\n",
       "      <th>4</th>\n",
       "      <td>339</td>\n",
       "      <td>0</td>\n",
       "      <td>0</td>\n",
       "    </tr>\n",
       "    <tr>\n",
       "      <th>5</th>\n",
       "      <td>371</td>\n",
       "      <td>-11</td>\n",
       "      <td>-8</td>\n",
       "    </tr>\n",
       "    <tr>\n",
       "      <th>6</th>\n",
       "      <td>371</td>\n",
       "      <td>-11</td>\n",
       "      <td>-8</td>\n",
       "    </tr>\n",
       "    <tr>\n",
       "      <th>7</th>\n",
       "      <td>341</td>\n",
       "      <td>0</td>\n",
       "      <td>0</td>\n",
       "    </tr>\n",
       "    <tr>\n",
       "      <th>8</th>\n",
       "      <td>354</td>\n",
       "      <td>0</td>\n",
       "      <td>0</td>\n",
       "    </tr>\n",
       "    <tr>\n",
       "      <th>9</th>\n",
       "      <td>309</td>\n",
       "      <td>0</td>\n",
       "      <td>0</td>\n",
       "    </tr>\n",
       "  </tbody>\n",
       "</table>\n",
       "</div>"
      ],
      "text/plain": [
       "   voltage  diff  after_react\n",
       "0      363    -3            0\n",
       "1      330     0            0\n",
       "2      382   -22          -19\n",
       "3      347     0            0\n",
       "4      339     0            0\n",
       "5      371   -11           -8\n",
       "6      371   -11           -8\n",
       "7      341     0            0\n",
       "8      354     0            0\n",
       "9      309     0            0"
      ]
     },
     "execution_count": 41,
     "metadata": {},
     "output_type": "execute_result"
    }
   ],
   "source": [
    "generation['after_react'] = generation['diff'] - react\n",
    "generation.loc[generation['diff'] == 0, 'after_react'] = 0\n",
    "generation.head(10)"
   ]
  },
  {
   "cell_type": "code",
   "execution_count": 45,
   "metadata": {},
   "outputs": [
    {
     "data": {
      "text/html": [
       "<div>\n",
       "<style scoped>\n",
       "    .dataframe tbody tr th:only-of-type {\n",
       "        vertical-align: middle;\n",
       "    }\n",
       "\n",
       "    .dataframe tbody tr th {\n",
       "        vertical-align: top;\n",
       "    }\n",
       "\n",
       "    .dataframe thead th {\n",
       "        text-align: right;\n",
       "    }\n",
       "</style>\n",
       "<table border=\"1\" class=\"dataframe\">\n",
       "  <thead>\n",
       "    <tr style=\"text-align: right;\">\n",
       "      <th></th>\n",
       "      <th>voltage</th>\n",
       "      <th>diff</th>\n",
       "      <th>after_react</th>\n",
       "      <th>tap_level</th>\n",
       "    </tr>\n",
       "  </thead>\n",
       "  <tbody>\n",
       "    <tr>\n",
       "      <th>0</th>\n",
       "      <td>363</td>\n",
       "      <td>-3</td>\n",
       "      <td>0</td>\n",
       "      <td>0</td>\n",
       "    </tr>\n",
       "    <tr>\n",
       "      <th>1</th>\n",
       "      <td>330</td>\n",
       "      <td>0</td>\n",
       "      <td>0</td>\n",
       "      <td>0</td>\n",
       "    </tr>\n",
       "    <tr>\n",
       "      <th>2</th>\n",
       "      <td>382</td>\n",
       "      <td>-22</td>\n",
       "      <td>-19</td>\n",
       "      <td>10</td>\n",
       "    </tr>\n",
       "    <tr>\n",
       "      <th>3</th>\n",
       "      <td>347</td>\n",
       "      <td>0</td>\n",
       "      <td>0</td>\n",
       "      <td>0</td>\n",
       "    </tr>\n",
       "    <tr>\n",
       "      <th>4</th>\n",
       "      <td>339</td>\n",
       "      <td>0</td>\n",
       "      <td>0</td>\n",
       "      <td>0</td>\n",
       "    </tr>\n",
       "    <tr>\n",
       "      <th>5</th>\n",
       "      <td>371</td>\n",
       "      <td>-11</td>\n",
       "      <td>-8</td>\n",
       "      <td>4</td>\n",
       "    </tr>\n",
       "    <tr>\n",
       "      <th>6</th>\n",
       "      <td>371</td>\n",
       "      <td>-11</td>\n",
       "      <td>-8</td>\n",
       "      <td>4</td>\n",
       "    </tr>\n",
       "    <tr>\n",
       "      <th>7</th>\n",
       "      <td>341</td>\n",
       "      <td>0</td>\n",
       "      <td>0</td>\n",
       "      <td>0</td>\n",
       "    </tr>\n",
       "    <tr>\n",
       "      <th>8</th>\n",
       "      <td>354</td>\n",
       "      <td>0</td>\n",
       "      <td>0</td>\n",
       "      <td>0</td>\n",
       "    </tr>\n",
       "    <tr>\n",
       "      <th>9</th>\n",
       "      <td>309</td>\n",
       "      <td>0</td>\n",
       "      <td>0</td>\n",
       "      <td>0</td>\n",
       "    </tr>\n",
       "  </tbody>\n",
       "</table>\n",
       "</div>"
      ],
      "text/plain": [
       "   voltage  diff  after_react  tap_level\n",
       "0      363    -3            0          0\n",
       "1      330     0            0          0\n",
       "2      382   -22          -19         10\n",
       "3      347     0            0          0\n",
       "4      339     0            0          0\n",
       "5      371   -11           -8          4\n",
       "6      371   -11           -8          4\n",
       "7      341     0            0          0\n",
       "8      354     0            0          0\n",
       "9      309     0            0          0"
      ]
     },
     "execution_count": 45,
     "metadata": {},
     "output_type": "execute_result"
    }
   ],
   "source": [
    "generation['tap_level'] = generation['after_react'] / tab\n",
    "generation['tap_level'] = generation['tap_level'].apply(lambda x: math.ceil(x))\n",
    "generation.loc[generation['after_react'] >= 0, 'tap_level'] = 0\n",
    "generation.head(10)"
   ]
  },
  {
   "cell_type": "code",
   "execution_count": 46,
   "metadata": {},
   "outputs": [],
   "source": [
    "generation['output'] = generation['tap_level'].apply(lambda x: ('React On & tap_level : '+str(x)))\n",
    "generation.loc[(generation['diff']<0)&(generation['after_react']>0),'output'] = 'React On'\n",
    "generation.loc[generation['diff']==0, 'output'] = 'None'"
   ]
  },
  {
   "cell_type": "code",
   "execution_count": 47,
   "metadata": {
    "scrolled": false
   },
   "outputs": [
    {
     "data": {
      "text/html": [
       "<div>\n",
       "<style scoped>\n",
       "    .dataframe tbody tr th:only-of-type {\n",
       "        vertical-align: middle;\n",
       "    }\n",
       "\n",
       "    .dataframe tbody tr th {\n",
       "        vertical-align: top;\n",
       "    }\n",
       "\n",
       "    .dataframe thead th {\n",
       "        text-align: right;\n",
       "    }\n",
       "</style>\n",
       "<table border=\"1\" class=\"dataframe\">\n",
       "  <thead>\n",
       "    <tr style=\"text-align: right;\">\n",
       "      <th></th>\n",
       "      <th>voltage</th>\n",
       "      <th>diff</th>\n",
       "      <th>after_react</th>\n",
       "      <th>tap_level</th>\n",
       "      <th>output</th>\n",
       "    </tr>\n",
       "  </thead>\n",
       "  <tbody>\n",
       "    <tr>\n",
       "      <th>0</th>\n",
       "      <td>363</td>\n",
       "      <td>-3</td>\n",
       "      <td>0</td>\n",
       "      <td>0</td>\n",
       "      <td>React On &amp; tap_level : 0</td>\n",
       "    </tr>\n",
       "    <tr>\n",
       "      <th>1</th>\n",
       "      <td>330</td>\n",
       "      <td>0</td>\n",
       "      <td>0</td>\n",
       "      <td>0</td>\n",
       "      <td>None</td>\n",
       "    </tr>\n",
       "    <tr>\n",
       "      <th>2</th>\n",
       "      <td>382</td>\n",
       "      <td>-22</td>\n",
       "      <td>-19</td>\n",
       "      <td>10</td>\n",
       "      <td>React On &amp; tap_level : 10</td>\n",
       "    </tr>\n",
       "    <tr>\n",
       "      <th>3</th>\n",
       "      <td>347</td>\n",
       "      <td>0</td>\n",
       "      <td>0</td>\n",
       "      <td>0</td>\n",
       "      <td>None</td>\n",
       "    </tr>\n",
       "    <tr>\n",
       "      <th>4</th>\n",
       "      <td>339</td>\n",
       "      <td>0</td>\n",
       "      <td>0</td>\n",
       "      <td>0</td>\n",
       "      <td>None</td>\n",
       "    </tr>\n",
       "    <tr>\n",
       "      <th>5</th>\n",
       "      <td>371</td>\n",
       "      <td>-11</td>\n",
       "      <td>-8</td>\n",
       "      <td>4</td>\n",
       "      <td>React On &amp; tap_level : 4</td>\n",
       "    </tr>\n",
       "    <tr>\n",
       "      <th>6</th>\n",
       "      <td>371</td>\n",
       "      <td>-11</td>\n",
       "      <td>-8</td>\n",
       "      <td>4</td>\n",
       "      <td>React On &amp; tap_level : 4</td>\n",
       "    </tr>\n",
       "    <tr>\n",
       "      <th>7</th>\n",
       "      <td>341</td>\n",
       "      <td>0</td>\n",
       "      <td>0</td>\n",
       "      <td>0</td>\n",
       "      <td>None</td>\n",
       "    </tr>\n",
       "    <tr>\n",
       "      <th>8</th>\n",
       "      <td>354</td>\n",
       "      <td>0</td>\n",
       "      <td>0</td>\n",
       "      <td>0</td>\n",
       "      <td>None</td>\n",
       "    </tr>\n",
       "    <tr>\n",
       "      <th>9</th>\n",
       "      <td>309</td>\n",
       "      <td>0</td>\n",
       "      <td>0</td>\n",
       "      <td>0</td>\n",
       "      <td>None</td>\n",
       "    </tr>\n",
       "  </tbody>\n",
       "</table>\n",
       "</div>"
      ],
      "text/plain": [
       "   voltage  diff  after_react  tap_level                     output\n",
       "0      363    -3            0          0   React On & tap_level : 0\n",
       "1      330     0            0          0                       None\n",
       "2      382   -22          -19         10  React On & tap_level : 10\n",
       "3      347     0            0          0                       None\n",
       "4      339     0            0          0                       None\n",
       "5      371   -11           -8          4   React On & tap_level : 4\n",
       "6      371   -11           -8          4   React On & tap_level : 4\n",
       "7      341     0            0          0                       None\n",
       "8      354     0            0          0                       None\n",
       "9      309     0            0          0                       None"
      ]
     },
     "execution_count": 47,
     "metadata": {},
     "output_type": "execute_result"
    }
   ],
   "source": [
    "generation.head(10)"
   ]
  },
  {
   "cell_type": "markdown",
   "metadata": {},
   "source": [
    "( (voltage - boundary) // min(-react, 2*(-react)) ) // min(tap, 18*tap)"
   ]
  },
  {
   "cell_type": "markdown",
   "metadata": {},
   "source": [
    "x : voltage<br>\n",
    "y : output"
   ]
  },
  {
   "cell_type": "code",
   "execution_count": null,
   "metadata": {},
   "outputs": [],
   "source": []
  },
  {
   "cell_type": "code",
   "execution_count": 53,
   "metadata": {},
   "outputs": [
    {
     "data": {
      "image/png": "[encoded data removed]",
      "text/plain": [
       "<IPython.core.display.Image object>"
      ]
     },
     "execution_count": 53,
     "metadata": {},
     "output_type": "execute_result"
    }
   ],
   "source": [
    "Image(\"융캡 알림.png\")"
   ]
  },
  {
   "cell_type": "code",
   "execution_count": 54,
   "metadata": {},
   "outputs": [],
   "source": [
    "# 독립변수를 전압 하나만으로 머신러닝의 필요성이 없어보임"
   ]
  },
  {
   "cell_type": "code",
   "execution_count": null,
   "metadata": {},
   "outputs": [],
   "source": []
  }
 ],
 "metadata": {
  "kernelspec": {
   "display_name": "Python 3",
   "language": "python",
   "name": "python3"
  },
  "language_info": {
   "codemirror_mode": {
    "name": "ipython",
    "version": 3
   },
   "file_extension": ".py",
   "mimetype": "text/x-python",
   "name": "python",
   "nbconvert_exporter": "python",
   "pygments_lexer": "ipython3",
   "version": "3.8.3"
  }
 },
 "nbformat": 4,
 "nbformat_minor": 4
}
