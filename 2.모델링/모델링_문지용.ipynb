{
 "cells": [
  {
   "cell_type": "markdown",
   "id": "e9e52981",
   "metadata": {},
   "source": [
    "# 모델링\n",
    "** 사용모델 **  \n",
    "- XGBoost  \n",
    "- GradientBoost  \n",
    "- RandomForest  \n",
    "- LinearRegression (Ridge, Lasso)  \n",
    "\n",
    "** GridSearchCV를 통해 최적 하이퍼파라미터 설정 **"
   ]
  },
  {
   "cell_type": "code",
   "execution_count": 1,
   "id": "6b924695",
   "metadata": {},
   "outputs": [
    {
     "data": {
      "text/html": [
       "<style>.container {width:100% !important;}</style>"
      ],
      "text/plain": [
       "<IPython.core.display.HTML object>"
      ]
     },
     "metadata": {},
     "output_type": "display_data"
    }
   ],
   "source": [
    "# 주피터 노트북 전체화면 설정\n",
    "from IPython.core.display import display, HTML\n",
    "display(HTML(\"<style>.container {width:100% !important;}</style>\"))\n",
    "\n",
    "# Import Libraries\n",
    "import numpy as np\n",
    "import pandas as pd\n",
    "import seaborn as sns\n",
    "import matplotlib.pyplot as plt\n",
    "from xgboost import XGBRegressor\n",
    "from sklearn.ensemble import RandomForestRegressor, GradientBoostingRegressor\n",
    "from sklearn.linear_model import LinearRegression, Ridge, Lasso, ElasticNet\n",
    "from sklearn.model_selection import train_test_split, GridSearchCV\n",
    "from sklearn.metrics import mean_squared_error\n",
    "from sklearn.preprocessing import MinMaxScaler, StandardScaler, PolynomialFeatures, OneHotEncoder"
   ]
  },
  {
   "cell_type": "markdown",
   "id": "86f01ced",
   "metadata": {},
   "source": [
    "## 0. 함수 정의"
   ]
  },
  {
   "cell_type": "code",
   "execution_count": 32,
   "id": "850f1043",
   "metadata": {},
   "outputs": [],
   "source": [
    "def rmse(ground_truth, pred) :\n",
    "    m = mean_squared_error(ground_truth, pred)\n",
    "    rm = np.sqrt(m)\n",
    "    \n",
    "    return rm\n",
    "\n",
    "def time_feature(df) :\n",
    "    \n",
    "    df['time'] = pd.to_datetime(df['time'])\n",
    "    df['month'] = df['time'].apply(lambda x : x.month)\n",
    "    df['day'] = df['time'].apply(lambda x : x.day)\n",
    "    df['hour'] = df['time'].apply(lambda x : x.hour)\n",
    "    df['minute'] = df['time'].apply(lambda x : x.minute)\n",
    "    \n",
    "    return df\n",
    "\n",
    "def onehot(df_train, df_test, cols) :\n",
    "    \n",
    "    for col in cols :\n",
    "        df_train[col] = df_train[col].apply(lambda x : str(x))\n",
    "        df_test[col] = df_test[col].apply(lambda x : str(x))\n",
    "    \n",
    "    oh = OneHotEncoder()\n",
    "    \n",
    "    df_train_oh = oh.fit_transform(df_train[cols])\n",
    "    df_train_new = np.hstack([df_train['volt'].values.reshape(-1,1), df_train_oh.toarray()])\n",
    "\n",
    "    df_test_oh = oh.transform(df_test[cols])\n",
    "    df_test_new = np.hstack([df_test['volt'].values.reshape(-1,1), df_test_oh.toarray()])\n",
    "    \n",
    "    return df_train_new, df_test_new"
   ]
  },
  {
   "cell_type": "markdown",
   "id": "b9bcb8a6",
   "metadata": {},
   "source": [
    "## 1. 데이터 불러오기"
   ]
  },
  {
   "cell_type": "code",
   "execution_count": 4,
   "id": "39bc78b1",
   "metadata": {},
   "outputs": [],
   "source": [
    "train = pd.read_csv('train.csv') # 학습\n",
    "test = pd.read_csv('test.csv') # 테스트\n",
    "\n",
    "# 결과 저장을 위한 배열 생성\n",
    "\n",
    "results = np.zeros((5, 6))"
   ]
  },
  {
   "cell_type": "markdown",
   "id": "5e2a7529",
   "metadata": {},
   "source": [
    "## 2. 기본"
   ]
  },
  {
   "cell_type": "code",
   "execution_count": 6,
   "id": "f5fdce33",
   "metadata": {},
   "outputs": [],
   "source": [
    "# 학습 데이터 생성\n",
    "\n",
    "X = train['volt'].values.reshape(-1,1)\n",
    "y = train['cap'].values\n",
    "\n",
    "X_test = test['volt'].values.reshape(-1,1)\n",
    "y_test = test['cap'].values\n",
    "\n",
    "X_train, X_val, y_train, y_val = train_test_split(X, y, random_state = 42)"
   ]
  },
  {
   "cell_type": "markdown",
   "id": "8b479349",
   "metadata": {},
   "source": [
    "### 2.1. XGBoost"
   ]
  },
  {
   "cell_type": "code",
   "execution_count": 10,
   "id": "4a931b2e",
   "metadata": {},
   "outputs": [
    {
     "data": {
      "text/plain": [
       "183.52429099397133"
      ]
     },
     "execution_count": 10,
     "metadata": {},
     "output_type": "execute_result"
    }
   ],
   "source": [
    "# Grid Search 후 최적 하이퍼파라미터\n",
    "xgb = XGBRegressor(n_estimators = 100, learning_rate = 0.05, subsample = 1, max_depth = 20, random_state = 42)\n",
    "xgb.fit(X_train, y_train, early_stopping_rounds = 5, eval_set = [(X_val, y_val)], verbose = False)\n",
    "\n",
    "pred = xgb.predict(X_test)\n",
    "score = rmse(y_test, pred)\n",
    "\n",
    "results[0,0] = score\n",
    "\n",
    "score"
   ]
  },
  {
   "cell_type": "markdown",
   "id": "108e611e",
   "metadata": {},
   "source": [
    "### 2.2. GradientBoost"
   ]
  },
  {
   "cell_type": "code",
   "execution_count": 11,
   "id": "649f463b",
   "metadata": {},
   "outputs": [
    {
     "data": {
      "text/plain": [
       "184.22256146757067"
      ]
     },
     "execution_count": 11,
     "metadata": {},
     "output_type": "execute_result"
    }
   ],
   "source": [
    "# Grid Search 후 최적 하이퍼파라미터\n",
    "gb = GradientBoostingRegressor(learning_rate = 0.01, n_estimators = 100, subsample = 0.8, max_depth = 2,random_state = 42)\n",
    "gb.fit(X_train, y_train)\n",
    "\n",
    "pred = gb.predict(X_test)\n",
    "score = rmse(y_test, pred)\n",
    "\n",
    "results[0,1] = score\n",
    "\n",
    "score"
   ]
  },
  {
   "cell_type": "markdown",
   "id": "5cf6cb27",
   "metadata": {},
   "source": [
    "### 2.3. RandomForest"
   ]
  },
  {
   "cell_type": "code",
   "execution_count": 15,
   "id": "da99a7d2",
   "metadata": {},
   "outputs": [
    {
     "data": {
      "text/plain": [
       "183.44229924915967"
      ]
     },
     "execution_count": 15,
     "metadata": {},
     "output_type": "execute_result"
    }
   ],
   "source": [
    "rf = RandomForestRegressor(n_estimators = 1000, max_depth = 20, random_state = 42)\n",
    "rf.fit(X_train, y_train)\n",
    "\n",
    "pred = rf.predict(X_test)\n",
    "score = rmse(y_test, pred)\n",
    "\n",
    "results[0,2] = score\n",
    "\n",
    "score"
   ]
  },
  {
   "cell_type": "markdown",
   "id": "d4e7bfc0",
   "metadata": {},
   "source": [
    "### 2.4. LinearRegression"
   ]
  },
  {
   "cell_type": "code",
   "execution_count": 16,
   "id": "e7a5854c",
   "metadata": {},
   "outputs": [
    {
     "data": {
      "text/plain": [
       "184.54553716460083"
      ]
     },
     "execution_count": 16,
     "metadata": {},
     "output_type": "execute_result"
    }
   ],
   "source": [
    "lr = LinearRegression()\n",
    "lr.fit(X_train, y_train)\n",
    "\n",
    "pred = lr.predict(X_test)\n",
    "score = rmse(y_test, pred)\n",
    "\n",
    "results[0,3] = score\n",
    "\n",
    "score"
   ]
  },
  {
   "cell_type": "code",
   "execution_count": 17,
   "id": "deac742f",
   "metadata": {},
   "outputs": [
    {
     "data": {
      "text/plain": [
       "184.54553742968582"
      ]
     },
     "execution_count": 17,
     "metadata": {},
     "output_type": "execute_result"
    }
   ],
   "source": [
    "r = Ridge()\n",
    "r.fit(X_train, y_train)\n",
    "\n",
    "pred = r.predict(X_test)\n",
    "score = rmse(y_test, pred)\n",
    "\n",
    "results[0,4] = score\n",
    "\n",
    "score"
   ]
  },
  {
   "cell_type": "code",
   "execution_count": 18,
   "id": "c7d28979",
   "metadata": {},
   "outputs": [
    {
     "data": {
      "text/plain": [
       "184.55361788815364"
      ]
     },
     "execution_count": 18,
     "metadata": {},
     "output_type": "execute_result"
    }
   ],
   "source": [
    "l = Lasso()\n",
    "l.fit(X_train, y_train)\n",
    "\n",
    "pred = l.predict(X_test)\n",
    "score = rmse(y_test, pred)\n",
    "\n",
    "results[0,5] = score\n",
    "\n",
    "score"
   ]
  },
  {
   "cell_type": "markdown",
   "id": "848672a1",
   "metadata": {},
   "source": [
    "## 3. Feature 추가 (PolynomialFeatures)"
   ]
  },
  {
   "cell_type": "code",
   "execution_count": 19,
   "id": "4603e549",
   "metadata": {},
   "outputs": [],
   "source": [
    "# 학습 데이터 생성\n",
    "\n",
    "X = train['volt'].values.reshape(-1,1)\n",
    "y = train['cap'].values\n",
    "\n",
    "X_test = test['volt'].values.reshape(-1,1)\n",
    "y_test = test['cap'].values\n",
    "\n",
    "poly = PolynomialFeatures(degree = 3, include_bias = False)\n",
    "X_poly = poly.fit_transform(X)\n",
    "X_test = poly.transform(X_test)\n",
    "\n",
    "X_train, X_val, y_train, y_val = train_test_split(X_poly, y, random_state = 42)"
   ]
  },
  {
   "cell_type": "markdown",
   "id": "e3adb07a",
   "metadata": {},
   "source": [
    "### 3.1. XGBoost"
   ]
  },
  {
   "cell_type": "code",
   "execution_count": 20,
   "id": "587cdb1c",
   "metadata": {},
   "outputs": [
    {
     "data": {
      "text/plain": [
       "183.52429099397133"
      ]
     },
     "execution_count": 20,
     "metadata": {},
     "output_type": "execute_result"
    }
   ],
   "source": [
    "xgb = XGBRegressor(n_estimators = 100, learning_rate = 0.05, subsample = 1, max_depth = 20, random_state = 42)\n",
    "xgb.fit(X_train, y_train, early_stopping_rounds = 5, eval_set = [(X_val, y_val)], verbose = False)\n",
    "\n",
    "pred = xgb.predict(X_test)\n",
    "score = rmse(y_test, pred)\n",
    "\n",
    "results[1,0] = score\n",
    "\n",
    "score"
   ]
  },
  {
   "cell_type": "markdown",
   "id": "4712b4e7",
   "metadata": {},
   "source": [
    "### 3.2. GradientBoost"
   ]
  },
  {
   "cell_type": "code",
   "execution_count": 21,
   "id": "dd5746c6",
   "metadata": {},
   "outputs": [
    {
     "data": {
      "text/plain": [
       "184.22256146757067"
      ]
     },
     "execution_count": 21,
     "metadata": {},
     "output_type": "execute_result"
    }
   ],
   "source": [
    "gb = GradientBoostingRegressor(learning_rate = 0.01, n_estimators = 100, subsample = 0.8, max_depth = 2,random_state = 42)\n",
    "gb.fit(X_train, y_train)\n",
    "\n",
    "pred = gb.predict(X_test)\n",
    "score = rmse(y_test, pred)\n",
    "\n",
    "results[1,1] = score\n",
    "\n",
    "score"
   ]
  },
  {
   "cell_type": "markdown",
   "id": "62ba10e3",
   "metadata": {},
   "source": [
    "### 3.3. RandomForest"
   ]
  },
  {
   "cell_type": "code",
   "execution_count": 22,
   "id": "03d72044",
   "metadata": {},
   "outputs": [
    {
     "data": {
      "text/plain": [
       "183.4422997592526"
      ]
     },
     "execution_count": 22,
     "metadata": {},
     "output_type": "execute_result"
    }
   ],
   "source": [
    "rf = RandomForestRegressor(n_estimators = 1000, max_depth = 20, random_state = 42)\n",
    "rf.fit(X_train, y_train)\n",
    "\n",
    "pred = rf.predict(X_test)\n",
    "score = rmse(y_test, pred)\n",
    "\n",
    "results[1,2] = score\n",
    "\n",
    "score"
   ]
  },
  {
   "cell_type": "markdown",
   "id": "39e394c8",
   "metadata": {},
   "source": [
    "### 3.4. LinearRegression"
   ]
  },
  {
   "cell_type": "code",
   "execution_count": 23,
   "id": "4b9dfccd",
   "metadata": {},
   "outputs": [
    {
     "data": {
      "text/plain": [
       "184.16103604500944"
      ]
     },
     "execution_count": 23,
     "metadata": {},
     "output_type": "execute_result"
    }
   ],
   "source": [
    "lr = LinearRegression()\n",
    "lr.fit(X_train, y_train)\n",
    "\n",
    "pred = lr.predict(X_test)\n",
    "score = rmse(y_test, pred)\n",
    "\n",
    "results[1,3] = score\n",
    "\n",
    "score"
   ]
  },
  {
   "cell_type": "code",
   "execution_count": 24,
   "id": "ce9547f5",
   "metadata": {},
   "outputs": [
    {
     "name": "stderr",
     "output_type": "stream",
     "text": [
      "C:\\Users\\user\\anaconda3\\lib\\site-packages\\sklearn\\linear_model\\_ridge.py:147: LinAlgWarning: Ill-conditioned matrix (rcond=7.45747e-17): result may not be accurate.\n",
      "  return linalg.solve(A, Xy, sym_pos=True,\n"
     ]
    },
    {
     "data": {
      "text/plain": [
       "184.17878295228206"
      ]
     },
     "execution_count": 24,
     "metadata": {},
     "output_type": "execute_result"
    }
   ],
   "source": [
    "r = Ridge()\n",
    "r.fit(X_train, y_train)\n",
    "\n",
    "pred = r.predict(X_test)\n",
    "score = rmse(y_test, pred)\n",
    "\n",
    "results[1,4] = score\n",
    "\n",
    "score"
   ]
  },
  {
   "cell_type": "code",
   "execution_count": 25,
   "id": "a3591a85",
   "metadata": {},
   "outputs": [
    {
     "name": "stderr",
     "output_type": "stream",
     "text": [
      "C:\\Users\\user\\anaconda3\\lib\\site-packages\\sklearn\\linear_model\\_coordinate_descent.py:530: ConvergenceWarning: Objective did not converge. You might want to increase the number of iterations. Duality gap: 777070861.2938185, tolerance: 938797.2343819173\n",
      "  model = cd_fast.enet_coordinate_descent(\n"
     ]
    },
    {
     "data": {
      "text/plain": [
       "184.50261554393012"
      ]
     },
     "execution_count": 25,
     "metadata": {},
     "output_type": "execute_result"
    }
   ],
   "source": [
    "l = Lasso()\n",
    "l.fit(X_train, y_train)\n",
    "\n",
    "pred = l.predict(X_test)\n",
    "score = rmse(y_test, pred)\n",
    "\n",
    "results[1,5] = score\n",
    "\n",
    "score"
   ]
  },
  {
   "cell_type": "markdown",
   "id": "43234fde",
   "metadata": {},
   "source": [
    "## 4. Feature 추가 (Time Feature)"
   ]
  },
  {
   "cell_type": "code",
   "execution_count": 27,
   "id": "3d810c05",
   "metadata": {},
   "outputs": [],
   "source": [
    "# 학습 데이터 생성\n",
    "\n",
    "train_new = time_feature(train)\n",
    "test_new = time_feature(test)\n",
    "\n",
    "X = train_new[['volt', 'month', 'day', 'hour', 'minute']].values.reshape(-1,5)\n",
    "y = train_new['cap'].values\n",
    "\n",
    "X_test = test_new[['volt', 'month', 'day', 'hour', 'minute']].values.reshape(-1,5)\n",
    "y_test = test_new['cap'].values\n",
    "\n",
    "X_train, X_val, y_train, y_val = train_test_split(X, y, random_state = 42)"
   ]
  },
  {
   "cell_type": "markdown",
   "id": "1c2326a1",
   "metadata": {},
   "source": [
    "### 4.1. XGBoost"
   ]
  },
  {
   "cell_type": "code",
   "execution_count": 29,
   "id": "d382c4d8",
   "metadata": {},
   "outputs": [
    {
     "data": {
      "text/plain": [
       "78.02599700067795"
      ]
     },
     "execution_count": 29,
     "metadata": {},
     "output_type": "execute_result"
    }
   ],
   "source": [
    "xgb = XGBRegressor(n_estimators = 1000, learning_rate = 0.05, subsample = 1, max_depth = 20, random_state = 42)\n",
    "xgb.fit(X_train, y_train, early_stopping_rounds = 5, eval_set = [(X_val, y_val)], verbose = False)\n",
    "\n",
    "pred = xgb.predict(X_test)\n",
    "score = rmse(y_test, pred)\n",
    "\n",
    "results[2,0] = score\n",
    "\n",
    "score"
   ]
  },
  {
   "cell_type": "markdown",
   "id": "c92bd03f",
   "metadata": {},
   "source": [
    "### 4.2. GradientBoost"
   ]
  },
  {
   "cell_type": "code",
   "execution_count": 30,
   "id": "c799e740",
   "metadata": {},
   "outputs": [
    {
     "data": {
      "text/plain": [
       "140.25109107553752"
      ]
     },
     "execution_count": 30,
     "metadata": {},
     "output_type": "execute_result"
    }
   ],
   "source": [
    "gb = GradientBoostingRegressor(learning_rate = 0.01, n_estimators = 1000, subsample = 0.8, max_depth = 2,random_state = 42)\n",
    "gb.fit(X_train, y_train)\n",
    "\n",
    "pred = gb.predict(X_test)\n",
    "score = rmse(y_test, pred)\n",
    "\n",
    "results[2,1] = score\n",
    "\n",
    "score"
   ]
  },
  {
   "cell_type": "markdown",
   "id": "13c7b602",
   "metadata": {},
   "source": [
    "### 4.3. RandomForest"
   ]
  },
  {
   "cell_type": "code",
   "execution_count": 33,
   "id": "18fbe775",
   "metadata": {},
   "outputs": [
    {
     "data": {
      "text/plain": [
       "74.05241185735645"
      ]
     },
     "execution_count": 33,
     "metadata": {},
     "output_type": "execute_result"
    }
   ],
   "source": [
    "rf = RandomForestRegressor(n_estimators = 1000, random_state = 42)\n",
    "rf.fit(X_train, y_train)\n",
    "\n",
    "pred = rf.predict(X_test)\n",
    "score = rmse(y_test, pred)\n",
    "\n",
    "results[2,2] = score\n",
    "\n",
    "score"
   ]
  },
  {
   "cell_type": "markdown",
   "id": "4e079928",
   "metadata": {},
   "source": [
    "### 4.4. LinearRegression"
   ]
  },
  {
   "cell_type": "code",
   "execution_count": 34,
   "id": "0872ea0a",
   "metadata": {},
   "outputs": [
    {
     "data": {
      "text/plain": [
       "181.0038467647388"
      ]
     },
     "execution_count": 34,
     "metadata": {},
     "output_type": "execute_result"
    }
   ],
   "source": [
    "lr = LinearRegression()\n",
    "lr.fit(X_train, y_train)\n",
    "\n",
    "pred = lr.predict(X_test)\n",
    "score = rmse(y_test, pred)\n",
    "\n",
    "results[2,3] = score\n",
    "\n",
    "score"
   ]
  },
  {
   "cell_type": "code",
   "execution_count": 35,
   "id": "cdc1b5d2",
   "metadata": {},
   "outputs": [
    {
     "data": {
      "text/plain": [
       "181.00384684328515"
      ]
     },
     "execution_count": 35,
     "metadata": {},
     "output_type": "execute_result"
    }
   ],
   "source": [
    "r = Ridge()\n",
    "r.fit(X_train, y_train)\n",
    "\n",
    "pred = r.predict(X_test)\n",
    "score = rmse(y_test, pred)\n",
    "\n",
    "results[2,4] = score\n",
    "\n",
    "score"
   ]
  },
  {
   "cell_type": "code",
   "execution_count": 36,
   "id": "9a0f3f77",
   "metadata": {},
   "outputs": [
    {
     "data": {
      "text/plain": [
       "181.0076785543828"
      ]
     },
     "execution_count": 36,
     "metadata": {},
     "output_type": "execute_result"
    }
   ],
   "source": [
    "l = Lasso()\n",
    "l.fit(X_train, y_train)\n",
    "\n",
    "pred = l.predict(X_test)\n",
    "score = rmse(y_test, pred)\n",
    "\n",
    "results[2,5] = score\n",
    "\n",
    "score"
   ]
  },
  {
   "cell_type": "markdown",
   "id": "6b95cf2a",
   "metadata": {},
   "source": [
    "## 5. 전처리 과정 추가 (Time Feature + OneHotEncoding)"
   ]
  },
  {
   "cell_type": "code",
   "execution_count": 37,
   "id": "b0287113",
   "metadata": {},
   "outputs": [],
   "source": [
    "# 학습 데이터 생성\n",
    "\n",
    "train_new = time_feature(train)\n",
    "test_new = time_feature(test)\n",
    "\n",
    "X, X_test = onehot(train_new, test_new, ['month', 'day', 'hour', 'minute'])\n",
    "\n",
    "y = train_new['cap'].values\n",
    "y_test = test_new['cap'].values\n",
    "\n",
    "X_train, X_val, y_train, y_val = train_test_split(X, y, random_state = 42)"
   ]
  },
  {
   "cell_type": "markdown",
   "id": "2396bee0",
   "metadata": {},
   "source": [
    "### 5.1. XGBoost"
   ]
  },
  {
   "cell_type": "code",
   "execution_count": 40,
   "id": "c2a996d8",
   "metadata": {},
   "outputs": [
    {
     "data": {
      "text/plain": [
       "83.90436385449279"
      ]
     },
     "execution_count": 40,
     "metadata": {},
     "output_type": "execute_result"
    }
   ],
   "source": [
    "xgb = XGBRegressor(n_estimators = 1000, learning_rate = 0.05, subsample = 1, max_depth = 20, random_state = 42)\n",
    "xgb.fit(X_train, y_train, early_stopping_rounds = 5, eval_set = [(X_val, y_val)], verbose = False)\n",
    "\n",
    "pred = xgb.predict(X_test)\n",
    "score = rmse(y_test, pred)\n",
    "\n",
    "results[3,0] = score\n",
    "\n",
    "score"
   ]
  },
  {
   "cell_type": "markdown",
   "id": "fd09da6c",
   "metadata": {},
   "source": [
    "### 5.2. GradientBoost"
   ]
  },
  {
   "cell_type": "code",
   "execution_count": 41,
   "id": "b36c4fe3",
   "metadata": {},
   "outputs": [
    {
     "data": {
      "text/plain": [
       "156.2615034353547"
      ]
     },
     "execution_count": 41,
     "metadata": {},
     "output_type": "execute_result"
    }
   ],
   "source": [
    "gb = GradientBoostingRegressor(learning_rate = 0.01, n_estimators = 1000, subsample = 0.8, max_depth = 2,random_state = 42)\n",
    "gb.fit(X_train, y_train)\n",
    "\n",
    "pred = gb.predict(X_test)\n",
    "score = rmse(y_test, pred)\n",
    "\n",
    "results[3,1] = score\n",
    "\n",
    "score"
   ]
  },
  {
   "cell_type": "markdown",
   "id": "4f09d9cb",
   "metadata": {},
   "source": [
    "### 5.3. RandomForest"
   ]
  },
  {
   "cell_type": "code",
   "execution_count": 43,
   "id": "aa04039d",
   "metadata": {},
   "outputs": [
    {
     "data": {
      "text/plain": [
       "83.08500084513624"
      ]
     },
     "execution_count": 43,
     "metadata": {},
     "output_type": "execute_result"
    }
   ],
   "source": [
    "rf = RandomForestRegressor(n_estimators = 1000, random_state = 42)\n",
    "rf.fit(X_train, y_train)\n",
    "\n",
    "pred = rf.predict(X_test)\n",
    "score = rmse(y_test, pred)\n",
    "\n",
    "results[3,2] = score\n",
    "\n",
    "score"
   ]
  },
  {
   "cell_type": "markdown",
   "id": "3e23bf72",
   "metadata": {},
   "source": [
    "### 5.4. LinearRegression"
   ]
  },
  {
   "cell_type": "code",
   "execution_count": 44,
   "id": "5aacd559",
   "metadata": {},
   "outputs": [
    {
     "data": {
      "text/plain": [
       "150.60705917578284"
      ]
     },
     "execution_count": 44,
     "metadata": {},
     "output_type": "execute_result"
    }
   ],
   "source": [
    "lr = LinearRegression()\n",
    "lr.fit(X_train, y_train)\n",
    "\n",
    "pred = lr.predict(X_test)\n",
    "score = rmse(y_test, pred)\n",
    "\n",
    "results[3,3] = score\n",
    "\n",
    "score"
   ]
  },
  {
   "cell_type": "code",
   "execution_count": 45,
   "id": "c5b17bee",
   "metadata": {},
   "outputs": [
    {
     "data": {
      "text/plain": [
       "150.60748839313294"
      ]
     },
     "execution_count": 45,
     "metadata": {},
     "output_type": "execute_result"
    }
   ],
   "source": [
    "r = Ridge(alpha = 0.01)\n",
    "r.fit(X_train, y_train)\n",
    "\n",
    "pred = r.predict(X_test)\n",
    "score = rmse(y_test, pred)\n",
    "\n",
    "results[3,4] = score\n",
    "\n",
    "score"
   ]
  },
  {
   "cell_type": "code",
   "execution_count": 46,
   "id": "d80b0374",
   "metadata": {},
   "outputs": [
    {
     "data": {
      "text/plain": [
       "150.631670209021"
      ]
     },
     "execution_count": 46,
     "metadata": {},
     "output_type": "execute_result"
    }
   ],
   "source": [
    "l = Lasso(alpha = 0.01)\n",
    "l.fit(X_train, y_train)\n",
    "\n",
    "pred = l.predict(X_test)\n",
    "score = rmse(y_test, pred)\n",
    "\n",
    "results[3,5] = score\n",
    "\n",
    "score"
   ]
  },
  {
   "cell_type": "markdown",
   "id": "b09c3791",
   "metadata": {},
   "source": [
    "## 6. 전처리 과정 추가 2 (PolynomialFeatures + Time Feature + OnehotEncoding)"
   ]
  },
  {
   "cell_type": "code",
   "execution_count": 56,
   "id": "b4e172c0",
   "metadata": {},
   "outputs": [],
   "source": [
    "# 학습 데이터 생성\n",
    "\n",
    "train_new = time_feature(train)\n",
    "test_new = time_feature(test)\n",
    "\n",
    "X, X_test = onehot(train_new, test_new, ['month', 'day', 'hour', 'minute'])\n",
    "\n",
    "y = train_new['cap'].values\n",
    "y_test = test_new['cap'].values\n",
    "\n",
    "poly = PolynomialFeatures(degree = 3, include_bias = False)\n",
    "X_poly = poly.fit_transform(X[:,0].reshape(-1,1))\n",
    "X_test_poly = poly.transform(X_test[:,0].reshape(-1,1))\n",
    "\n",
    "X = np.hstack([X_poly, X[:,1:]])\n",
    "X_test = np.hstack([X_test_poly, X_test[:,1:]])\n",
    "\n",
    "X_train, X_val, y_train, y_val = train_test_split(X, y, random_state = 42)"
   ]
  },
  {
   "cell_type": "code",
   "execution_count": 57,
   "id": "0923e81c",
   "metadata": {},
   "outputs": [
    {
     "data": {
      "text/plain": [
       "((361063, 130), (90265, 130))"
      ]
     },
     "execution_count": 57,
     "metadata": {},
     "output_type": "execute_result"
    }
   ],
   "source": [
    "X.shape, X_test.shape"
   ]
  },
  {
   "cell_type": "markdown",
   "id": "d59ba6c1",
   "metadata": {},
   "source": [
    "### 6.1. XGBoost"
   ]
  },
  {
   "cell_type": "code",
   "execution_count": 58,
   "id": "1ea284d5",
   "metadata": {},
   "outputs": [
    {
     "data": {
      "text/plain": [
       "83.90436385449279"
      ]
     },
     "execution_count": 58,
     "metadata": {},
     "output_type": "execute_result"
    }
   ],
   "source": [
    "xgb = XGBRegressor(n_estimators = 1000, learning_rate = 0.05, subsample = 1, max_depth = 20, random_state = 42)\n",
    "xgb.fit(X_train, y_train, early_stopping_rounds = 5, eval_set = [(X_val, y_val)], verbose = False)\n",
    "\n",
    "pred = xgb.predict(X_test)\n",
    "score = rmse(y_test, pred)\n",
    "\n",
    "results[4,0] = score\n",
    "\n",
    "score"
   ]
  },
  {
   "cell_type": "markdown",
   "id": "048cdede",
   "metadata": {},
   "source": [
    "### 6.2. GradientBoost"
   ]
  },
  {
   "cell_type": "code",
   "execution_count": 65,
   "id": "de141963",
   "metadata": {},
   "outputs": [
    {
     "data": {
      "text/plain": [
       "156.26150343535474"
      ]
     },
     "execution_count": 65,
     "metadata": {},
     "output_type": "execute_result"
    }
   ],
   "source": [
    "gb = GradientBoostingRegressor(learning_rate = 0.01, n_estimators = 1000, subsample = 0.8, max_depth = 2,random_state = 42)\n",
    "gb.fit(X_train, y_train)\n",
    "\n",
    "pred = gb.predict(X_test)\n",
    "score = rmse(y_test, pred)\n",
    "\n",
    "results[4,1] = score\n",
    "\n",
    "score"
   ]
  },
  {
   "cell_type": "markdown",
   "id": "59672e07",
   "metadata": {},
   "source": [
    "### 6.3. RandomForest"
   ]
  },
  {
   "cell_type": "code",
   "execution_count": 66,
   "id": "07c7e38c",
   "metadata": {},
   "outputs": [
    {
     "data": {
      "text/plain": [
       "82.93697996938943"
      ]
     },
     "execution_count": 66,
     "metadata": {},
     "output_type": "execute_result"
    }
   ],
   "source": [
    "rf = RandomForestRegressor(n_estimators = 1000, random_state = 42)\n",
    "rf.fit(X_train, y_train)\n",
    "\n",
    "pred = rf.predict(X_test)\n",
    "score = rmse(y_test, pred)\n",
    "\n",
    "results[4,2] = score\n",
    "\n",
    "score"
   ]
  },
  {
   "cell_type": "markdown",
   "id": "aa0fc816",
   "metadata": {},
   "source": [
    "### 6.4. LinearRegression"
   ]
  },
  {
   "cell_type": "code",
   "execution_count": 61,
   "id": "e4117417",
   "metadata": {},
   "outputs": [
    {
     "data": {
      "text/plain": [
       "150.49718812340376"
      ]
     },
     "execution_count": 61,
     "metadata": {},
     "output_type": "execute_result"
    }
   ],
   "source": [
    "lr = LinearRegression()\n",
    "lr.fit(X_train, y_train)\n",
    "\n",
    "pred = lr.predict(X_test)\n",
    "score = rmse(y_test, pred)\n",
    "\n",
    "results[4,3] = score\n",
    "\n",
    "score"
   ]
  },
  {
   "cell_type": "code",
   "execution_count": 62,
   "id": "f343c1f1",
   "metadata": {},
   "outputs": [
    {
     "name": "stderr",
     "output_type": "stream",
     "text": [
      "C:\\Users\\user\\anaconda3\\lib\\site-packages\\sklearn\\linear_model\\_ridge.py:147: LinAlgWarning: Ill-conditioned matrix (rcond=8.00104e-18): result may not be accurate.\n",
      "  return linalg.solve(A, Xy, sym_pos=True,\n"
     ]
    },
    {
     "data": {
      "text/plain": [
       "150.49816210451803"
      ]
     },
     "execution_count": 62,
     "metadata": {},
     "output_type": "execute_result"
    }
   ],
   "source": [
    "r = Ridge()\n",
    "r.fit(X_train, y_train)\n",
    "\n",
    "pred = r.predict(X_test)\n",
    "score = rmse(y_test, pred)\n",
    "\n",
    "results[4,4] = score\n",
    "\n",
    "score"
   ]
  },
  {
   "cell_type": "code",
   "execution_count": 63,
   "id": "91627366",
   "metadata": {},
   "outputs": [
    {
     "name": "stderr",
     "output_type": "stream",
     "text": [
      "C:\\Users\\user\\anaconda3\\lib\\site-packages\\sklearn\\linear_model\\_coordinate_descent.py:530: ConvergenceWarning: Objective did not converge. You might want to increase the number of iterations. Duality gap: 1051752202.7701988, tolerance: 938797.2343819173\n",
      "  model = cd_fast.enet_coordinate_descent(\n"
     ]
    },
    {
     "data": {
      "text/plain": [
       "153.5876014716225"
      ]
     },
     "execution_count": 63,
     "metadata": {},
     "output_type": "execute_result"
    }
   ],
   "source": [
    "l = Lasso()\n",
    "l.fit(X_train, y_train)\n",
    "\n",
    "pred = l.predict(X_test)\n",
    "score = rmse(y_test, pred)\n",
    "\n",
    "results[4,5] = score\n",
    "\n",
    "score"
   ]
  },
  {
   "cell_type": "markdown",
   "id": "51cc37b6",
   "metadata": {},
   "source": [
    "## 결과"
   ]
  },
  {
   "cell_type": "code",
   "execution_count": 67,
   "id": "6c2198ca",
   "metadata": {},
   "outputs": [
    {
     "data": {
      "text/html": [
       "<div>\n",
       "<style scoped>\n",
       "    .dataframe tbody tr th:only-of-type {\n",
       "        vertical-align: middle;\n",
       "    }\n",
       "\n",
       "    .dataframe tbody tr th {\n",
       "        vertical-align: top;\n",
       "    }\n",
       "\n",
       "    .dataframe thead th {\n",
       "        text-align: right;\n",
       "    }\n",
       "</style>\n",
       "<table border=\"1\" class=\"dataframe\">\n",
       "  <thead>\n",
       "    <tr style=\"text-align: right;\">\n",
       "      <th></th>\n",
       "      <th>XGBRegressor</th>\n",
       "      <th>GradientBoostingRegressor</th>\n",
       "      <th>RandomForestRegressor</th>\n",
       "      <th>LinearRegression</th>\n",
       "      <th>Ridge</th>\n",
       "      <th>Lasso</th>\n",
       "    </tr>\n",
       "  </thead>\n",
       "  <tbody>\n",
       "    <tr>\n",
       "      <th>Basic</th>\n",
       "      <td>183.524291</td>\n",
       "      <td>184.222561</td>\n",
       "      <td>183.442299</td>\n",
       "      <td>184.545537</td>\n",
       "      <td>184.545537</td>\n",
       "      <td>184.553618</td>\n",
       "    </tr>\n",
       "    <tr>\n",
       "      <th>PF</th>\n",
       "      <td>183.524291</td>\n",
       "      <td>184.222561</td>\n",
       "      <td>183.442300</td>\n",
       "      <td>184.161036</td>\n",
       "      <td>184.178783</td>\n",
       "      <td>184.502616</td>\n",
       "    </tr>\n",
       "    <tr>\n",
       "      <th>TF</th>\n",
       "      <td>78.025997</td>\n",
       "      <td>140.251091</td>\n",
       "      <td>74.052412</td>\n",
       "      <td>181.003847</td>\n",
       "      <td>181.003847</td>\n",
       "      <td>181.007679</td>\n",
       "    </tr>\n",
       "    <tr>\n",
       "      <th>TF + OH</th>\n",
       "      <td>83.904364</td>\n",
       "      <td>156.261503</td>\n",
       "      <td>83.085001</td>\n",
       "      <td>150.607059</td>\n",
       "      <td>150.607488</td>\n",
       "      <td>150.631670</td>\n",
       "    </tr>\n",
       "    <tr>\n",
       "      <th>PF + TF + OH</th>\n",
       "      <td>83.904364</td>\n",
       "      <td>156.261503</td>\n",
       "      <td>82.936980</td>\n",
       "      <td>150.497188</td>\n",
       "      <td>150.498162</td>\n",
       "      <td>153.587601</td>\n",
       "    </tr>\n",
       "  </tbody>\n",
       "</table>\n",
       "</div>"
      ],
      "text/plain": [
       "              XGBRegressor  GradientBoostingRegressor  RandomForestRegressor  \\\n",
       "Basic           183.524291                 184.222561             183.442299   \n",
       "PF              183.524291                 184.222561             183.442300   \n",
       "TF               78.025997                 140.251091              74.052412   \n",
       "TF + OH          83.904364                 156.261503              83.085001   \n",
       "PF + TF + OH     83.904364                 156.261503              82.936980   \n",
       "\n",
       "              LinearRegression       Ridge       Lasso  \n",
       "Basic               184.545537  184.545537  184.553618  \n",
       "PF                  184.161036  184.178783  184.502616  \n",
       "TF                  181.003847  181.003847  181.007679  \n",
       "TF + OH             150.607059  150.607488  150.631670  \n",
       "PF + TF + OH        150.497188  150.498162  153.587601  "
      ]
     },
     "execution_count": 67,
     "metadata": {},
     "output_type": "execute_result"
    }
   ],
   "source": [
    "df_results = pd.DataFrame(results)\n",
    "df_results.columns = [xgb.__class__.__name__, gb.__class__.__name__, rf.__class__.__name__, lr.__class__.__name__, r.__class__.__name__, l.__class__.__name__]\n",
    "df_results.index = ['Basic', 'PF', 'TF', 'TF + OH', 'PF + TF + OH']\n",
    "df_results"
   ]
  }
 ],
 "metadata": {
  "kernelspec": {
   "display_name": "Python 3",
   "language": "python",
   "name": "python3"
  },
  "language_info": {
   "codemirror_mode": {
    "name": "ipython",
    "version": 3
   },
   "file_extension": ".py",
   "mimetype": "text/x-python",
   "name": "python",
   "nbconvert_exporter": "python",
   "pygments_lexer": "ipython3",
   "version": "3.8.8"
  }
 },
 "nbformat": 4,
 "nbformat_minor": 5
}
