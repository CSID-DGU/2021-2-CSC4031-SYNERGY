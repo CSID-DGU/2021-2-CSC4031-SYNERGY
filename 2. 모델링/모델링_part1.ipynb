{
 "cells": [
  {
   "cell_type": "markdown",
   "metadata": {
    "id": "a2y5vGJcpVaK"
   },
   "source": [
    "# 모델링 - part 1\n",
    "** 사용모델 **  \n",
    "- XGBoost  \n",
    "- LightGBM  \n",
    "- RandomForest  \n",
    "- GradientBoost  \n",
    "- ElasticNet (Linear Regression)  \n",
    "- DNN (Deep Neural Network)  \n",
    "\n",
    "** GridSearchCV를 통해 최적 하이퍼파라미터 설정 **"
   ]
  },
  {
   "cell_type": "code",
   "execution_count": 1,
   "metadata": {
    "colab": {
     "base_uri": "https://localhost:8080/",
     "height": 17
    },
    "id": "w_MxHg1fpT6s",
    "outputId": "7f3e1080-f14b-4c69-a198-b0c4eaed2be1"
   },
   "outputs": [
    {
     "data": {
      "text/html": [
       "<style>.container {width:100% !important;}</style>"
      ],
      "text/plain": [
       "<IPython.core.display.HTML object>"
      ]
     },
     "metadata": {},
     "output_type": "display_data"
    }
   ],
   "source": [
    "# 주피터 노트북 전체화면 설정\n",
    "from IPython.core.display import display, HTML\n",
    "display(HTML(\"<style>.container {width:100% !important;}</style>\"))\n",
    "\n",
    "# Import Libraries\n",
    "import numpy as np\n",
    "import pandas as pd\n",
    "import seaborn as sns\n",
    "import matplotlib.pyplot as plt\n",
    "from xgboost import XGBRegressor\n",
    "from lightgbm import LGBMRegressor\n",
    "from sklearn.ensemble import RandomForestRegressor, GradientBoostingRegressor\n",
    "from sklearn.linear_model import ElasticNet\n",
    "from sklearn.model_selection import train_test_split, GridSearchCV\n",
    "from sklearn.metrics import mean_squared_error\n",
    "from sklearn.preprocessing import MinMaxScaler, StandardScaler, PolynomialFeatures, OneHotEncoder\n",
    "from tensorflow import keras"
   ]
  },
  {
   "cell_type": "markdown",
   "metadata": {
    "id": "oKMsqyrepv7c"
   },
   "source": [
    "# 0. 사용 함수 정의"
   ]
  },
  {
   "cell_type": "code",
   "execution_count": 2,
   "metadata": {
    "id": "4wWVFUjXptZ9"
   },
   "outputs": [],
   "source": [
    "def rmse(ground_truth, pred) :\n",
    "    m = mean_squared_error(ground_truth, pred)\n",
    "    rm = np.sqrt(m)\n",
    "    \n",
    "    return rm\n",
    "\n",
    "def time_feature(df) :\n",
    "    \n",
    "    df['time'] = pd.to_datetime(df['time'])\n",
    "    df['month'] = df['time'].apply(lambda x : x.month)\n",
    "    df['day'] = df['time'].apply(lambda x : x.day)\n",
    "    df['hour'] = df['time'].apply(lambda x : x.hour)\n",
    "    df['minute'] = df['time'].apply(lambda x : x.minute)\n",
    "    \n",
    "    return df\n",
    "\n",
    "def onehot(df_train, df_test, cols) :\n",
    "    \n",
    "    for col in cols :\n",
    "        df_train[col] = df_train[col].apply(lambda x : str(x))\n",
    "        df_test[col] = df_test[col].apply(lambda x : str(x))\n",
    "    \n",
    "    oh = OneHotEncoder()\n",
    "    \n",
    "    df_train_oh = oh.fit_transform(df_train[cols])\n",
    "    df_train_new = np.hstack([df_train['volt'].values.reshape(-1,1), df_train_oh.toarray()])\n",
    "\n",
    "    df_test_oh = oh.transform(df_test[cols])\n",
    "    df_test_new = np.hstack([df_test['volt'].values.reshape(-1,1), df_test_oh.toarray()])\n",
    "    \n",
    "    return df_train_new, df_test_new\n",
    "\n",
    "def data2seq(df, col, length = 4) :\n",
    "    \n",
    "    res = np.zeros((df.shape[0],length))\n",
    "    init = df.loc[0,col]\n",
    "    \n",
    "    for i in range(df.shape[0]) :\n",
    "        for j in range(length) :\n",
    "            if (i - j) < 0 :\n",
    "                res[i,length - 1 - j] = init\n",
    "            else :\n",
    "                res[i,length - 1 - j] = df.loc[i-j, col]\n",
    "            \n",
    "    return res"
   ]
  },
  {
   "cell_type": "markdown",
   "metadata": {
    "id": "zOd0DwSrp6q4"
   },
   "source": [
    "# 1. 데이터 전처리"
   ]
  },
  {
   "cell_type": "code",
   "execution_count": 3,
   "metadata": {
    "colab": {
     "base_uri": "https://localhost:8080/",
     "height": 419
    },
    "id": "6bPxlNM0p7nT",
    "outputId": "575529bd-fe1c-4683-eef9-275463408a90"
   },
   "outputs": [
    {
     "data": {
      "text/html": [
       "<div>\n",
       "<style scoped>\n",
       "    .dataframe tbody tr th:only-of-type {\n",
       "        vertical-align: middle;\n",
       "    }\n",
       "\n",
       "    .dataframe tbody tr th {\n",
       "        vertical-align: top;\n",
       "    }\n",
       "\n",
       "    .dataframe thead th {\n",
       "        text-align: right;\n",
       "    }\n",
       "</style>\n",
       "<table border=\"1\" class=\"dataframe\">\n",
       "  <thead>\n",
       "    <tr style=\"text-align: right;\">\n",
       "      <th></th>\n",
       "      <th>time</th>\n",
       "      <th>volt</th>\n",
       "      <th>cap</th>\n",
       "    </tr>\n",
       "  </thead>\n",
       "  <tbody>\n",
       "    <tr>\n",
       "      <th>0</th>\n",
       "      <td>2019-01-02 08:51:00</td>\n",
       "      <td>351.1</td>\n",
       "      <td>724.1</td>\n",
       "    </tr>\n",
       "    <tr>\n",
       "      <th>1</th>\n",
       "      <td>2019-01-02 18:07:00</td>\n",
       "      <td>356.5</td>\n",
       "      <td>845.8</td>\n",
       "    </tr>\n",
       "    <tr>\n",
       "      <th>2</th>\n",
       "      <td>2019-01-05 09:21:00</td>\n",
       "      <td>348.9</td>\n",
       "      <td>716.6</td>\n",
       "    </tr>\n",
       "    <tr>\n",
       "      <th>3</th>\n",
       "      <td>2019-01-05 09:39:00</td>\n",
       "      <td>349.3</td>\n",
       "      <td>615.0</td>\n",
       "    </tr>\n",
       "    <tr>\n",
       "      <th>4</th>\n",
       "      <td>2019-01-05 18:43:00</td>\n",
       "      <td>355.7</td>\n",
       "      <td>829.7</td>\n",
       "    </tr>\n",
       "    <tr>\n",
       "      <th>...</th>\n",
       "      <td>...</td>\n",
       "      <td>...</td>\n",
       "      <td>...</td>\n",
       "    </tr>\n",
       "    <tr>\n",
       "      <th>451323</th>\n",
       "      <td>2021-01-18 10:00:00</td>\n",
       "      <td>348.2</td>\n",
       "      <td>507.0</td>\n",
       "    </tr>\n",
       "    <tr>\n",
       "      <th>451324</th>\n",
       "      <td>2021-01-18 10:02:00</td>\n",
       "      <td>348.0</td>\n",
       "      <td>506.9</td>\n",
       "    </tr>\n",
       "    <tr>\n",
       "      <th>451325</th>\n",
       "      <td>2021-01-18 10:03:00</td>\n",
       "      <td>348.0</td>\n",
       "      <td>506.9</td>\n",
       "    </tr>\n",
       "    <tr>\n",
       "      <th>451326</th>\n",
       "      <td>2021-01-18 10:04:00</td>\n",
       "      <td>348.0</td>\n",
       "      <td>506.6</td>\n",
       "    </tr>\n",
       "    <tr>\n",
       "      <th>451327</th>\n",
       "      <td>2021-01-18 10:06:00</td>\n",
       "      <td>348.0</td>\n",
       "      <td>506.6</td>\n",
       "    </tr>\n",
       "  </tbody>\n",
       "</table>\n",
       "<p>451328 rows × 3 columns</p>\n",
       "</div>"
      ],
      "text/plain": [
       "                      time   volt    cap\n",
       "0      2019-01-02 08:51:00  351.1  724.1\n",
       "1      2019-01-02 18:07:00  356.5  845.8\n",
       "2      2019-01-05 09:21:00  348.9  716.6\n",
       "3      2019-01-05 09:39:00  349.3  615.0\n",
       "4      2019-01-05 18:43:00  355.7  829.7\n",
       "...                    ...    ...    ...\n",
       "451323 2021-01-18 10:00:00  348.2  507.0\n",
       "451324 2021-01-18 10:02:00  348.0  506.9\n",
       "451325 2021-01-18 10:03:00  348.0  506.9\n",
       "451326 2021-01-18 10:04:00  348.0  506.6\n",
       "451327 2021-01-18 10:06:00  348.0  506.6\n",
       "\n",
       "[451328 rows x 3 columns]"
      ]
     },
     "execution_count": 3,
     "metadata": {},
     "output_type": "execute_result"
    }
   ],
   "source": [
    "# 필요한 칼럼 추출\n",
    "\n",
    "data = pd.read_excel('전체 데이터 통합 파일(0624).xlsx', index_col=0)\n",
    "data.reset_index(inplace = True)\n",
    "\n",
    "d1 = data[data['투입 후 운전용량'].notnull()][['일시', '모선전압', '투입 후 운전용량']]\n",
    "d2 = data[data['투입 후 운전용량'].isnull()][['일시', '모선전압', '투입 전 운전용량']]\n",
    "\n",
    "cols = ['time', 'volt', 'cap']\n",
    "d1.columns = cols\n",
    "d2.columns = cols\n",
    "\n",
    "d12 = pd.concat([d1, d2])\n",
    "d12.reset_index(drop = True, inplace = True)\n",
    "d12"
   ]
  },
  {
   "cell_type": "code",
   "execution_count": 5,
   "metadata": {
    "id": "FtY6lcifqBaV"
   },
   "outputs": [],
   "source": [
    "# 이상치가 존재하는 행 제거\n",
    "\n",
    "ind = d12[d12['volt'] < 340].index\n",
    "\n",
    "d12.drop(ind, axis = 0, inplace = True)\n",
    "d12.reset_index(drop = True, inplace = True)"
   ]
  },
  {
   "cell_type": "markdown",
   "metadata": {
    "id": "7wsK9BC_qhX8"
   },
   "source": [
    "# 2. 모델링 - 현재 시점의 전압\n",
    "## (0) 데이터 준비"
   ]
  },
  {
   "cell_type": "code",
   "execution_count": null,
   "metadata": {
    "id": "4aUiW_zYqdaf"
   },
   "outputs": [],
   "source": [
    "X = d12['volt'].values.reshape(-1,1)\n",
    "\n",
    "# 정규화\n",
    "X = (X - X.min()) / (X.max() - X.min())\n",
    "\n",
    "y = d12['cap'].values\n",
    "\n",
    "X_train, X_test, y_train, y_test = train_test_split(X, y, random_state = 42)\n",
    "X_train, X_val, y_train, y_val = train_test_split(X_train, y_train, random_state = 42)"
   ]
  },
  {
   "cell_type": "markdown",
   "metadata": {
    "id": "MutHHhLGqyR8"
   },
   "source": [
    "## (1) XGBoost"
   ]
  },
  {
   "cell_type": "code",
   "execution_count": null,
   "metadata": {
    "colab": {
     "base_uri": "https://localhost:8080/"
    },
    "id": "oYsVKuCuq0TN",
    "outputId": "c94c0deb-4f1a-4619-dbaa-bdbae6cc3549"
   },
   "outputs": [
    {
     "name": "stdout",
     "output_type": "stream",
     "text": [
      "[03:48:49] WARNING: /workspace/src/objective/regression_obj.cu:152: reg:linear is now deprecated in favor of reg:squarederror.\n"
     ]
    },
    {
     "data": {
      "text/plain": [
       "183.13472084309097"
      ]
     },
     "execution_count": 11,
     "metadata": {},
     "output_type": "execute_result"
    }
   ],
   "source": [
    "xgb = XGBRegressor(n_estimators = 1000, learning_rate = 0.01, subsample = 1, max_depth = 20, random_state = 42)\n",
    "\n",
    "xgb.fit(X_train, y_train, early_stopping_rounds = 5, eval_set = [(X_val, y_val)], verbose = False)\n",
    "\n",
    "pred = xgb.predict(X_test)\n",
    "\n",
    "rmse(y_test, pred)"
   ]
  },
  {
   "cell_type": "markdown",
   "metadata": {
    "id": "sWvCKorTq0vZ"
   },
   "source": [
    "## (2) LightGBM"
   ]
  },
  {
   "cell_type": "code",
   "execution_count": null,
   "metadata": {
    "colab": {
     "base_uri": "https://localhost:8080/"
    },
    "id": "p_wQRlr2q2KH",
    "outputId": "cf5264a1-a0a0-4eb7-ef3e-cd025d21f8f5"
   },
   "outputs": [
    {
     "data": {
      "text/plain": [
       "183.1191453790413"
      ]
     },
     "execution_count": 12,
     "metadata": {},
     "output_type": "execute_result"
    }
   ],
   "source": [
    "lgbm = LGBMRegressor(n_estimators = 1000, learning_rate = 0.01, subsample = 1, max_depth = 20, random_state = 42)\n",
    "\n",
    "lgbm.fit(X_train, y_train, early_stopping_rounds = 5, eval_set = [(X_val, y_val)], verbose = False)\n",
    "\n",
    "pred = lgbm.predict(X_test)\n",
    "\n",
    "rmse(y_test, pred)"
   ]
  },
  {
   "cell_type": "markdown",
   "metadata": {
    "id": "u9abiwI9q2tz"
   },
   "source": [
    "## (3) RandomForest"
   ]
  },
  {
   "cell_type": "code",
   "execution_count": null,
   "metadata": {
    "colab": {
     "base_uri": "https://localhost:8080/"
    },
    "id": "2YIkGIcvq5H8",
    "outputId": "ccbcb24b-6663-4ba9-a1fa-ccfcf61a5046"
   },
   "outputs": [
    {
     "data": {
      "text/plain": [
       "183.1347356996297"
      ]
     },
     "execution_count": 13,
     "metadata": {},
     "output_type": "execute_result"
    }
   ],
   "source": [
    "rf = RandomForestRegressor(n_estimators = 1000, max_depth = 20, random_state = 42)\n",
    "\n",
    "rf.fit(X_train, y_train)\n",
    "\n",
    "pred = rf.predict(X_test)\n",
    "\n",
    "rmse(y_test, pred)"
   ]
  },
  {
   "cell_type": "markdown",
   "metadata": {
    "id": "slcfDhP-q5gq"
   },
   "source": [
    "## (4) GradientBoosting"
   ]
  },
  {
   "cell_type": "code",
   "execution_count": null,
   "metadata": {
    "colab": {
     "base_uri": "https://localhost:8080/"
    },
    "id": "sE7qOxkUq8H-",
    "outputId": "ead07c99-da3e-4661-96d4-91223f743414"
   },
   "outputs": [
    {
     "data": {
      "text/plain": [
       "183.15261537862463"
      ]
     },
     "execution_count": 14,
     "metadata": {},
     "output_type": "execute_result"
    }
   ],
   "source": [
    "gb = GradientBoostingRegressor(n_estimators = 1000, learning_rate = 0.01, subsample = 0.8, max_depth = 2,random_state = 42)\n",
    "\n",
    "gb.fit(X_train, y_train)\n",
    "\n",
    "pred = gb.predict(X_test)\n",
    "\n",
    "rmse(y_test, pred)"
   ]
  },
  {
   "cell_type": "markdown",
   "metadata": {
    "id": "h9fUqzg8q8e5"
   },
   "source": [
    "## (5) ElasticNet"
   ]
  },
  {
   "cell_type": "code",
   "execution_count": null,
   "metadata": {
    "colab": {
     "base_uri": "https://localhost:8080/"
    },
    "id": "YZOqYXxXq-Kv",
    "outputId": "167604b7-b323-49ff-ce4b-a9f46133d88b"
   },
   "outputs": [
    {
     "data": {
      "text/plain": [
       "184.12182015320366"
      ]
     },
     "execution_count": 15,
     "metadata": {},
     "output_type": "execute_result"
    }
   ],
   "source": [
    "en = ElasticNet(alpha = 0.05, l1_ratio = 0.5, random_state = 42)\n",
    "\n",
    "en.fit(X_train, y_train)\n",
    "\n",
    "pred = en.predict(X_test)\n",
    "\n",
    "rmse(y_test, pred)"
   ]
  },
  {
   "cell_type": "markdown",
   "metadata": {
    "id": "gv_POHsjq-id"
   },
   "source": [
    "## (6) DNN"
   ]
  },
  {
   "cell_type": "code",
   "execution_count": null,
   "metadata": {
    "colab": {
     "base_uri": "https://localhost:8080/"
    },
    "id": "6CisvyHyrCDl",
    "outputId": "8bb42f90-fbad-4a40-d366-991bb7ff2709"
   },
   "outputs": [
    {
     "data": {
      "text/plain": [
       "184.9000883751361"
      ]
     },
     "execution_count": 20,
     "metadata": {},
     "output_type": "execute_result"
    }
   ],
   "source": [
    "model = keras.Sequential()\n",
    "model.add(keras.layers.Dense(256, activation = 'relu', input_shape = (1, )))\n",
    "model.add(keras.layers.Dense(128, activation = 'relu'))\n",
    "model.add(keras.layers.Dense(64, activation = 'relu'))\n",
    "model.add(keras.layers.Dense(10, activation = 'relu'))\n",
    "model.add(keras.layers.Dense(1))\n",
    "\n",
    "model.compile(loss = 'mse', optimizer='adam')\n",
    "\n",
    "callbacks = [keras.callbacks.EarlyStopping(patience = 10, restore_best_weights=True)]\n",
    "\n",
    "model.fit(X_train, y_train, validation_data = (X_val, y_val), epochs = 2000, batch_size = 14, callbacks = callbacks, verbose = 0)\n",
    "\n",
    "pred = model.predict(X_test)\n",
    "\n",
    "rmse(y_test, pred)"
   ]
  },
  {
   "cell_type": "markdown",
   "metadata": {
    "id": "lKzVf9pNwE4y"
   },
   "source": [
    "# 3. 모델링 - 현재 시점의 전압 + 시간\n",
    "## (0) 데이터 준비"
   ]
  },
  {
   "cell_type": "code",
   "execution_count": null,
   "metadata": {
    "id": "8qE0bruvvj2G"
   },
   "outputs": [],
   "source": [
    "X = time_feature(d12)\n",
    "X = X[['volt', 'month', 'day', 'hour', 'minute']].values.reshape(-1,5)\n",
    "\n",
    "# 정규화\n",
    "X = (X - X.min(axis = 0)) / (X.max(axis = 0) - X.min(axis = 0))\n",
    "\n",
    "y = d12['cap'].values\n",
    "\n",
    "X_train, X_test, y_train, y_test = train_test_split(X, y, random_state = 42)\n",
    "X_train, X_val, y_train, y_val = train_test_split(X_train, y_train, random_state = 42)"
   ]
  },
  {
   "cell_type": "markdown",
   "metadata": {
    "id": "qJS3i4LmwVb7"
   },
   "source": [
    "## (1) XGBoost"
   ]
  },
  {
   "cell_type": "code",
   "execution_count": null,
   "metadata": {
    "colab": {
     "base_uri": "https://localhost:8080/"
    },
    "id": "Qj3KQw7jwW17",
    "outputId": "26cfb4ef-0644-430b-c65f-e9fdaccbabb2"
   },
   "outputs": [
    {
     "name": "stdout",
     "output_type": "stream",
     "text": [
      "[04:32:54] WARNING: /workspace/src/objective/regression_obj.cu:152: reg:linear is now deprecated in favor of reg:squarederror.\n"
     ]
    },
    {
     "data": {
      "text/plain": [
       "79.07464433065839"
      ]
     },
     "execution_count": 26,
     "metadata": {},
     "output_type": "execute_result"
    }
   ],
   "source": [
    "xgb = XGBRegressor(n_estimators = 1000, learning_rate = 0.01, subsample = 1, max_depth = 20, random_state = 42)\n",
    "\n",
    "xgb.fit(X_train, y_train, early_stopping_rounds = 5, eval_set = [(X_val, y_val)], verbose = False)\n",
    "\n",
    "pred = xgb.predict(X_test)\n",
    "\n",
    "rmse(y_test, pred)"
   ]
  },
  {
   "cell_type": "markdown",
   "metadata": {
    "id": "JjdtlOcIwXMq"
   },
   "source": [
    "## (2) LightGBM"
   ]
  },
  {
   "cell_type": "code",
   "execution_count": null,
   "metadata": {
    "colab": {
     "base_uri": "https://localhost:8080/"
    },
    "id": "bdFNU5fQwb9H",
    "outputId": "74e47ec7-bfee-4258-862d-d7972f268d5e"
   },
   "outputs": [
    {
     "data": {
      "text/plain": [
       "124.93373321851269"
      ]
     },
     "execution_count": 27,
     "metadata": {},
     "output_type": "execute_result"
    }
   ],
   "source": [
    "lgbm = LGBMRegressor(n_estimators = 1000, learning_rate = 0.01, subsample = 1, max_depth = 20, random_state = 42)\n",
    "\n",
    "lgbm.fit(X_train, y_train, early_stopping_rounds = 5, eval_set = [(X_val, y_val)], verbose = False)\n",
    "\n",
    "pred = lgbm.predict(X_test)\n",
    "\n",
    "rmse(y_test, pred)"
   ]
  },
  {
   "cell_type": "markdown",
   "metadata": {
    "id": "IdJ3hWeCwcTP"
   },
   "source": [
    "## (3) RandomForest"
   ]
  },
  {
   "cell_type": "code",
   "execution_count": null,
   "metadata": {
    "colab": {
     "base_uri": "https://localhost:8080/"
    },
    "id": "BjN6AmYGweDA",
    "outputId": "df76a2f5-0f06-4b48-e259-3a6fe12beef5"
   },
   "outputs": [
    {
     "data": {
      "text/plain": [
       "78.54837146104732"
      ]
     },
     "execution_count": 28,
     "metadata": {},
     "output_type": "execute_result"
    }
   ],
   "source": [
    "rf = RandomForestRegressor(n_estimators = 1000, max_depth = 20, random_state = 42)\n",
    "\n",
    "rf.fit(X_train, y_train)\n",
    "\n",
    "pred = rf.predict(X_test)\n",
    "\n",
    "rmse(y_test, pred)"
   ]
  },
  {
   "cell_type": "markdown",
   "metadata": {
    "id": "fvzMgKEVwedD"
   },
   "source": [
    "## (4) GradientBoost"
   ]
  },
  {
   "cell_type": "code",
   "execution_count": null,
   "metadata": {
    "colab": {
     "base_uri": "https://localhost:8080/"
    },
    "id": "fRvqDdO5wgXL",
    "outputId": "04772e00-41a0-41b4-e23f-b3ab1c8b9f38"
   },
   "outputs": [
    {
     "data": {
      "text/plain": [
       "148.6826154371397"
      ]
     },
     "execution_count": 29,
     "metadata": {},
     "output_type": "execute_result"
    }
   ],
   "source": [
    "gb = GradientBoostingRegressor(n_estimators = 1000, learning_rate = 0.01, subsample = 0.8, max_depth = 2,random_state = 42)\n",
    "\n",
    "gb.fit(X_train, y_train)\n",
    "\n",
    "pred = gb.predict(X_test)\n",
    "\n",
    "rmse(y_test, pred)"
   ]
  },
  {
   "cell_type": "markdown",
   "metadata": {
    "id": "l98XBLqywgxs"
   },
   "source": [
    "## (5) ElasticNet"
   ]
  },
  {
   "cell_type": "code",
   "execution_count": null,
   "metadata": {
    "colab": {
     "base_uri": "https://localhost:8080/"
    },
    "id": "kLm5j0Vawh-5",
    "outputId": "19e88dab-2dfb-47e4-da00-9f5f9e4e6d8c"
   },
   "outputs": [
    {
     "data": {
      "text/plain": [
       "180.35480624460658"
      ]
     },
     "execution_count": 30,
     "metadata": {},
     "output_type": "execute_result"
    }
   ],
   "source": [
    "en = ElasticNet(alpha = 0.05, l1_ratio = 0.5, random_state = 42)\n",
    "\n",
    "en.fit(X_train, y_train)\n",
    "\n",
    "pred = en.predict(X_test)\n",
    "\n",
    "rmse(y_test, pred)"
   ]
  },
  {
   "cell_type": "markdown",
   "metadata": {
    "id": "GPZqArLIwiWz"
   },
   "source": [
    "## (6) DNN"
   ]
  },
  {
   "cell_type": "code",
   "execution_count": null,
   "metadata": {
    "colab": {
     "base_uri": "https://localhost:8080/"
    },
    "id": "iR29CzJJwkDy",
    "outputId": "37da8b8a-9018-49c5-9ace-d6212274ada3"
   },
   "outputs": [
    {
     "data": {
      "text/plain": [
       "138.97219639241055"
      ]
     },
     "execution_count": 31,
     "metadata": {},
     "output_type": "execute_result"
    }
   ],
   "source": [
    "model = keras.Sequential()\n",
    "model.add(keras.layers.Dense(256, activation = 'relu', input_shape = (5, )))\n",
    "model.add(keras.layers.Dense(128, activation = 'relu'))\n",
    "model.add(keras.layers.Dense(64, activation = 'relu'))\n",
    "model.add(keras.layers.Dense(10, activation = 'relu'))\n",
    "model.add(keras.layers.Dense(1))\n",
    "\n",
    "model.compile(loss = 'mse', optimizer='adam')\n",
    "\n",
    "callbacks = [keras.callbacks.EarlyStopping(patience = 10, restore_best_weights = True)]\n",
    "\n",
    "model.fit(X_train, y_train, validation_data = (X_val, y_val), epochs = 2000, batch_size = 14, callbacks = callbacks, verbose = 0)\n",
    "\n",
    "pred = model.predict(X_test)\n",
    "\n",
    "rmse(y_test, pred)"
   ]
  },
  {
   "cell_type": "markdown",
   "metadata": {
    "id": "b1cEohcvxTJL"
   },
   "source": [
    "# 4.모델링 - 현재 시점의 전압 + 과거 시점의 전압\n",
    "## (0) 데이터 준비"
   ]
  },
  {
   "cell_type": "code",
   "execution_count": 20,
   "metadata": {
    "id": "lAAqFLeixeIc"
   },
   "outputs": [],
   "source": [
    "X = data2seq(d12, 'volt', 4) # length = 4\n",
    "\n",
    "# 정규화\n",
    "X = (X - X.min()) / (X.max() - X.min())\n",
    "\n",
    "y = d12['cap'].values\n",
    "\n",
    "X_train, X_test, y_train, y_test = train_test_split(X, y, random_state = 42)\n",
    "X_train, X_val, y_train, y_val = train_test_split(X_train, y_train, random_state = 42)"
   ]
  },
  {
   "cell_type": "markdown",
   "metadata": {
    "id": "pnjPvaWMxf40"
   },
   "source": [
    "## (1) XGBoost"
   ]
  },
  {
   "cell_type": "code",
   "execution_count": 10,
   "metadata": {
    "colab": {
     "base_uri": "https://localhost:8080/"
    },
    "id": "KagMSsxexiFY",
    "outputId": "98efa7c8-b29f-4206-d98b-2b700d7369a9"
   },
   "outputs": [
    {
     "name": "stdout",
     "output_type": "stream",
     "text": [
      "[07:42:33] WARNING: /workspace/src/objective/regression_obj.cu:152: reg:linear is now deprecated in favor of reg:squarederror.\n"
     ]
    },
    {
     "data": {
      "text/plain": [
       "182.22298063754238"
      ]
     },
     "execution_count": 10,
     "metadata": {},
     "output_type": "execute_result"
    }
   ],
   "source": [
    "xgb = XGBRegressor(n_estimators = 1000, learning_rate = 0.01, subsample = 1, max_depth = 20, random_state = 42)\n",
    "\n",
    "xgb.fit(X_train, y_train, early_stopping_rounds = 5, eval_set = [(X_val, y_val)], verbose = False)\n",
    "\n",
    "pred = xgb.predict(X_test)\n",
    "\n",
    "rmse(y_test, pred)"
   ]
  },
  {
   "cell_type": "markdown",
   "metadata": {
    "id": "lCraigEPxifc"
   },
   "source": [
    "## (2) LightGBM"
   ]
  },
  {
   "cell_type": "code",
   "execution_count": 11,
   "metadata": {
    "colab": {
     "base_uri": "https://localhost:8080/"
    },
    "id": "pQM30WhCxk2L",
    "outputId": "01bdb217-184b-4075-8371-27d771a80747"
   },
   "outputs": [
    {
     "data": {
      "text/plain": [
       "179.03714528347442"
      ]
     },
     "execution_count": 11,
     "metadata": {},
     "output_type": "execute_result"
    }
   ],
   "source": [
    "lgbm = LGBMRegressor(n_estimators = 1000, learning_rate = 0.01, subsample = 1, max_depth = 20, random_state = 42)\n",
    "\n",
    "lgbm.fit(X_train, y_train, early_stopping_rounds = 5, eval_set = [(X_val, y_val)], verbose = False)\n",
    "\n",
    "pred = lgbm.predict(X_test)\n",
    "\n",
    "rmse(y_test, pred)"
   ]
  },
  {
   "cell_type": "markdown",
   "metadata": {
    "id": "q2CVyL7oxlM6"
   },
   "source": [
    "## (3) RandomForest"
   ]
  },
  {
   "cell_type": "code",
   "execution_count": 12,
   "metadata": {
    "colab": {
     "base_uri": "https://localhost:8080/"
    },
    "id": "wS-3nh-Oxmk3",
    "outputId": "69d28d0b-c85b-479b-88f6-e04a2ac021b6"
   },
   "outputs": [
    {
     "data": {
      "text/plain": [
       "182.14688835293228"
      ]
     },
     "execution_count": 12,
     "metadata": {},
     "output_type": "execute_result"
    }
   ],
   "source": [
    "rf = RandomForestRegressor(n_estimators = 1000, max_depth = 20, random_state = 42)\n",
    "\n",
    "rf.fit(X_train, y_train)\n",
    "\n",
    "pred = rf.predict(X_test)\n",
    "\n",
    "rmse(y_test, pred)"
   ]
  },
  {
   "cell_type": "markdown",
   "metadata": {
    "id": "WC4qu4xTxm-N"
   },
   "source": [
    "## (4) GradientBoost"
   ]
  },
  {
   "cell_type": "code",
   "execution_count": 13,
   "metadata": {
    "colab": {
     "base_uri": "https://localhost:8080/"
    },
    "id": "v9BDsy15xpAW",
    "outputId": "70aef4d8-ad29-4472-d308-c8ae3122aa73"
   },
   "outputs": [
    {
     "data": {
      "text/plain": [
       "182.07710465762452"
      ]
     },
     "execution_count": 13,
     "metadata": {},
     "output_type": "execute_result"
    }
   ],
   "source": [
    "gb = GradientBoostingRegressor(n_estimators = 1000, learning_rate = 0.01, subsample = 0.8, max_depth = 2,random_state = 42)\n",
    "\n",
    "gb.fit(X_train, y_train)\n",
    "\n",
    "pred = gb.predict(X_test)\n",
    "\n",
    "rmse(y_test, pred)"
   ]
  },
  {
   "cell_type": "markdown",
   "metadata": {
    "id": "D0sAFY38xpek"
   },
   "source": [
    "## (5) ElasticNet"
   ]
  },
  {
   "cell_type": "code",
   "execution_count": 14,
   "metadata": {
    "colab": {
     "base_uri": "https://localhost:8080/"
    },
    "id": "iG8FAU8zxq1U",
    "outputId": "fe76403f-e329-4fcf-e4cf-b827af234b5c"
   },
   "outputs": [
    {
     "data": {
      "text/plain": [
       "184.0955221000567"
      ]
     },
     "execution_count": 14,
     "metadata": {},
     "output_type": "execute_result"
    }
   ],
   "source": [
    "en = ElasticNet(alpha = 0.05, l1_ratio = 0.5, random_state = 42)\n",
    "\n",
    "en.fit(X_train, y_train)\n",
    "\n",
    "pred = en.predict(X_test)\n",
    "\n",
    "rmse(y_test, pred)"
   ]
  },
  {
   "cell_type": "markdown",
   "metadata": {
    "id": "hZUWFM4lxrO8"
   },
   "source": [
    "## (6) DNN"
   ]
  },
  {
   "cell_type": "code",
   "execution_count": 16,
   "metadata": {
    "colab": {
     "base_uri": "https://localhost:8080/"
    },
    "id": "9bmXQi7onFWE",
    "outputId": "7fda9cbf-e4df-4a78-dedd-b44f83385b6c"
   },
   "outputs": [
    {
     "data": {
      "text/plain": [
       "183.08677988949583"
      ]
     },
     "execution_count": 16,
     "metadata": {},
     "output_type": "execute_result"
    }
   ],
   "source": [
    "model = keras.Sequential()\n",
    "model.add(keras.layers.Dense(256, activation = 'relu', input_shape = (4, )))\n",
    "model.add(keras.layers.Dense(128, activation = 'relu'))\n",
    "model.add(keras.layers.Dense(64, activation = 'relu'))\n",
    "model.add(keras.layers.Dense(10, activation = 'relu'))\n",
    "model.add(keras.layers.Dense(1))\n",
    "\n",
    "model.compile(loss = 'mse', optimizer='adam')\n",
    "\n",
    "callbacks = [keras.callbacks.EarlyStopping(patience = 10, restore_best_weights=True)]\n",
    "\n",
    "model.fit(X_train, y_train, validation_data = (X_val, y_val), epochs = 2000, batch_size = 14, callbacks = callbacks, verbose = 0)\n",
    "\n",
    "pred = model.predict(X_test)\n",
    "\n",
    "rmse(y_test, pred)"
   ]
  },
  {
   "cell_type": "markdown",
   "metadata": {
    "id": "-sRhN9AJxwtd"
   },
   "source": [
    "# 5. 모델링 - 현재 시점의 전압 + 과거 시점의 전압 + 과거 시점의 투입용량\n",
    "## (0) 데이터 준비"
   ]
  },
  {
   "cell_type": "code",
   "execution_count": 25,
   "metadata": {
    "id": "2-ichOuYx3-8"
   },
   "outputs": [],
   "source": [
    "seq_v = data2seq(d12, 'volt', 4) # length = 4\n",
    "seq_c = data2seq(d12, 'cap', 5) # length = 4 (현재 투입용량 제거)\n",
    "\n",
    "# 현재 투입 용량은 제거\n",
    "seq_c = np.delete(seq_c, -1, 1)\n",
    "\n",
    "# 정규화\n",
    "seq_v = (seq_v - seq_v.min()) / (seq_v.max() - seq_v.min())\n",
    "seq_c = (seq_c - seq_c.min()) / (seq_c.max() - seq_c.min())\n",
    "\n",
    "X = np.hstack([seq_v, seq_c])\n",
    "y = d12['cap'].values\n",
    "\n",
    "X_train, X_test, y_train, y_test = train_test_split(X, y, random_state = 42)\n",
    "X_train, X_val, y_train, y_val = train_test_split(X_train, y_train, random_state = 42)"
   ]
  },
  {
   "cell_type": "markdown",
   "metadata": {
    "id": "8FgNDkwmyBhV"
   },
   "source": [
    "## (1) XGBoost"
   ]
  },
  {
   "cell_type": "code",
   "execution_count": 28,
   "metadata": {
    "colab": {
     "base_uri": "https://localhost:8080/"
    },
    "id": "QLcIMOAQyCyX",
    "outputId": "6c44c105-74f4-44f2-bf73-250ddfea023c"
   },
   "outputs": [
    {
     "name": "stdout",
     "output_type": "stream",
     "text": [
      "[08:32:41] WARNING: /workspace/src/objective/regression_obj.cu:152: reg:linear is now deprecated in favor of reg:squarederror.\n"
     ]
    },
    {
     "data": {
      "text/plain": [
       "14.319706559942455"
      ]
     },
     "execution_count": 28,
     "metadata": {},
     "output_type": "execute_result"
    }
   ],
   "source": [
    "xgb = XGBRegressor(n_estimators = 1000, learning_rate = 0.01, subsample = 1, max_depth = 20, random_state = 42)\n",
    "\n",
    "xgb.fit(X_train, y_train, early_stopping_rounds = 5, eval_set = [(X_val, y_val)], verbose = False)\n",
    "\n",
    "pred = xgb.predict(X_test)\n",
    "\n",
    "rmse(y_test, pred)"
   ]
  },
  {
   "cell_type": "markdown",
   "metadata": {
    "id": "d5FB_alzyERO"
   },
   "source": [
    "## (2) LightGBM"
   ]
  },
  {
   "cell_type": "code",
   "execution_count": 29,
   "metadata": {
    "colab": {
     "base_uri": "https://localhost:8080/"
    },
    "id": "HkeKc66IyFjM",
    "outputId": "3b205299-3732-4938-d726-68386952b5ee"
   },
   "outputs": [
    {
     "data": {
      "text/plain": [
       "14.010354640932356"
      ]
     },
     "execution_count": 29,
     "metadata": {},
     "output_type": "execute_result"
    }
   ],
   "source": [
    "lgbm = LGBMRegressor(n_estimators = 1000, learning_rate = 0.01, subsample = 1, max_depth = 20, random_state = 42)\n",
    "\n",
    "lgbm.fit(X_train, y_train, early_stopping_rounds = 5, eval_set = [(X_val, y_val)], verbose = False)\n",
    "\n",
    "pred = lgbm.predict(X_test)\n",
    "\n",
    "rmse(y_test, pred)"
   ]
  },
  {
   "cell_type": "markdown",
   "metadata": {
    "id": "_sTkdaRYyF9F"
   },
   "source": [
    "## (3) RandomForest"
   ]
  },
  {
   "cell_type": "code",
   "execution_count": 30,
   "metadata": {
    "colab": {
     "base_uri": "https://localhost:8080/"
    },
    "id": "55f9-AThyHRY",
    "outputId": "2656476d-ad4c-450b-8a4a-c842c40a710b"
   },
   "outputs": [
    {
     "data": {
      "text/plain": [
       "14.13713552229093"
      ]
     },
     "execution_count": 30,
     "metadata": {},
     "output_type": "execute_result"
    }
   ],
   "source": [
    "rf = RandomForestRegressor(n_estimators = 1000, max_depth = 20, random_state = 42)\n",
    "\n",
    "rf.fit(X_train, y_train)\n",
    "\n",
    "pred = rf.predict(X_test)\n",
    "\n",
    "rmse(y_test, pred)"
   ]
  },
  {
   "cell_type": "markdown",
   "metadata": {
    "id": "ueSwDIWfyHoo"
   },
   "source": [
    "## (4) GradientBoost"
   ]
  },
  {
   "cell_type": "code",
   "execution_count": 31,
   "metadata": {
    "colab": {
     "base_uri": "https://localhost:8080/"
    },
    "id": "J2EwsgAOyJF4",
    "outputId": "cf1e09f9-a141-4899-d4cc-7cc43f5df8e1"
   },
   "outputs": [
    {
     "data": {
      "text/plain": [
       "19.717901725571153"
      ]
     },
     "execution_count": 31,
     "metadata": {},
     "output_type": "execute_result"
    }
   ],
   "source": [
    "gb = GradientBoostingRegressor(n_estimators = 1000, learning_rate = 0.01, subsample = 0.8, max_depth = 2,random_state = 42)\n",
    "\n",
    "gb.fit(X_train, y_train)\n",
    "\n",
    "pred = gb.predict(X_test)\n",
    "\n",
    "rmse(y_test, pred)"
   ]
  },
  {
   "cell_type": "markdown",
   "metadata": {
    "id": "8eVha-H1yJaR"
   },
   "source": [
    "## (5) ElasticNet"
   ]
  },
  {
   "cell_type": "code",
   "execution_count": 32,
   "metadata": {
    "colab": {
     "base_uri": "https://localhost:8080/"
    },
    "id": "fqY5JqDjyKej",
    "outputId": "77d9cf70-21e2-4527-d766-0e1a65534e33"
   },
   "outputs": [
    {
     "data": {
      "text/plain": [
       "32.53824411604585"
      ]
     },
     "execution_count": 32,
     "metadata": {},
     "output_type": "execute_result"
    }
   ],
   "source": [
    "en = ElasticNet(alpha = 0.05, l1_ratio = 0.5, random_state = 42)\n",
    "\n",
    "en.fit(X_train, y_train)\n",
    "\n",
    "pred = en.predict(X_test)\n",
    "\n",
    "rmse(y_test, pred)"
   ]
  },
  {
   "cell_type": "markdown",
   "metadata": {
    "id": "6tgCCxz5yK3b"
   },
   "source": [
    "## (6) DNN"
   ]
  },
  {
   "cell_type": "code",
   "execution_count": 34,
   "metadata": {
    "colab": {
     "base_uri": "https://localhost:8080/"
    },
    "id": "on4qeqhMtvYm",
    "outputId": "13b5829a-7d94-4e8f-f8ac-73483f44dbc7"
   },
   "outputs": [
    {
     "data": {
      "text/plain": [
       "13.971193168654366"
      ]
     },
     "execution_count": 34,
     "metadata": {},
     "output_type": "execute_result"
    }
   ],
   "source": [
    "model = keras.Sequential()\n",
    "model.add(keras.layers.Dense(256, activation = 'relu', input_shape = (8, )))\n",
    "model.add(keras.layers.Dense(128, activation = 'relu'))\n",
    "model.add(keras.layers.Dense(64, activation = 'relu'))\n",
    "model.add(keras.layers.Dense(10, activation = 'relu'))\n",
    "model.add(keras.layers.Dense(1))\n",
    "\n",
    "model.compile(loss = 'mse', optimizer='adam')\n",
    "\n",
    "callbacks = [keras.callbacks.EarlyStopping(patience = 10, restore_best_weights=True)]\n",
    "\n",
    "model.fit(X_train, y_train, validation_data = (X_val, y_val), epochs = 2000, batch_size = 14, callbacks = callbacks, verbose = 0)\n",
    "\n",
    "pred = model.predict(X_test)\n",
    "\n",
    "rmse(y_test, pred)"
   ]
  }
 ],
 "metadata": {
  "accelerator": "GPU",
  "colab": {
   "collapsed_sections": [],
   "name": "모델링_part1.ipynb",
   "provenance": []
  },
  "kernelspec": {
   "display_name": "Python 3",
   "language": "python",
   "name": "python3"
  },
  "language_info": {
   "codemirror_mode": {
    "name": "ipython",
    "version": 3
   },
   "file_extension": ".py",
   "mimetype": "text/x-python",
   "name": "python",
   "nbconvert_exporter": "python",
   "pygments_lexer": "ipython3",
   "version": "3.8.8"
  }
 },
 "nbformat": 4,
 "nbformat_minor": 1
}
