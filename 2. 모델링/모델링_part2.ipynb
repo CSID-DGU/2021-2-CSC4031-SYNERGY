{
 "cells": [
  {
   "cell_type": "markdown",
   "id": "f5944766",
   "metadata": {},
   "source": [
    "# 모델링\n",
    "** 사용모델 **  \n",
    "- RNN (LSTM)  \n",
    "- Stacked RNN (LSTM)"
   ]
  },
  {
   "cell_type": "code",
   "execution_count": 5,
   "id": "06446a15",
   "metadata": {},
   "outputs": [
    {
     "data": {
      "text/html": [
       "<style>.container {width:100% !important;}</style>"
      ],
      "text/plain": [
       "<IPython.core.display.HTML object>"
      ]
     },
     "metadata": {},
     "output_type": "display_data"
    }
   ],
   "source": [
    "# 주피터 노트북 전체화면 설정\n",
    "from IPython.core.display import display, HTML\n",
    "display(HTML(\"<style>.container {width:100% !important;}</style>\"))\n",
    "\n",
    "# Import Libraries\n",
    "import numpy as np\n",
    "import pandas as pd\n",
    "import matplotlib.pyplot as plt\n",
    "from sklearn.model_selection import train_test_split\n",
    "from sklearn.metrics import mean_squared_error\n",
    "from tensorflow import keras\n",
    "import tensorflow as tf"
   ]
  },
  {
   "cell_type": "markdown",
   "id": "ba571025",
   "metadata": {},
   "source": [
    "# 0. 사용 함수 정의"
   ]
  },
  {
   "cell_type": "code",
   "execution_count": 2,
   "id": "619edb01",
   "metadata": {},
   "outputs": [],
   "source": [
    "def rmse(ground_truth, pred) :\n",
    "    m = mean_squared_error(ground_truth, pred)\n",
    "    rm = np.sqrt(m)\n",
    "    \n",
    "    return rm\n",
    "\n",
    "def time_feature(df) :\n",
    "    \n",
    "    df['time'] = pd.to_datetime(df['time'])\n",
    "    df['month'] = df['time'].apply(lambda x : x.month)\n",
    "    df['day'] = df['time'].apply(lambda x : x.day)\n",
    "    df['hour'] = df['time'].apply(lambda x : x.hour)\n",
    "    df['minute'] = df['time'].apply(lambda x : x.minute)\n",
    "    \n",
    "    return df\n",
    "\n",
    "def onehot(df_train, df_test, cols) :\n",
    "    \n",
    "    for col in cols :\n",
    "        df_train[col] = df_train[col].apply(lambda x : str(x))\n",
    "        df_test[col] = df_test[col].apply(lambda x : str(x))\n",
    "    \n",
    "    oh = OneHotEncoder()\n",
    "    \n",
    "    df_train_oh = oh.fit_transform(df_train[cols])\n",
    "    df_train_new = np.hstack([df_train['volt'].values.reshape(-1,1), df_train_oh.toarray()])\n",
    "\n",
    "    df_test_oh = oh.transform(df_test[cols])\n",
    "    df_test_new = np.hstack([df_test['volt'].values.reshape(-1,1), df_test_oh.toarray()])\n",
    "    \n",
    "    return df_train_new, df_test_new\n",
    "\n",
    "def data2seq(df, col, length = 4) :\n",
    "    \n",
    "    res = np.zeros((df.shape[0],length))\n",
    "    init = df.loc[0,col]\n",
    "    \n",
    "    for i in range(df.shape[0]) :\n",
    "        for j in range(length) :\n",
    "            if (i - j) < 0 :\n",
    "                res[i,length - 1 - j] = init\n",
    "            else :\n",
    "                res[i,length - 1 - j] = df.loc[i-j, col]\n",
    "            \n",
    "    return res"
   ]
  },
  {
   "cell_type": "markdown",
   "id": "c8983c6f",
   "metadata": {},
   "source": [
    "# 1. 데이터 전처리"
   ]
  },
  {
   "cell_type": "code",
   "execution_count": 3,
   "id": "b758c150",
   "metadata": {},
   "outputs": [
    {
     "data": {
      "text/html": [
       "<div>\n",
       "<style scoped>\n",
       "    .dataframe tbody tr th:only-of-type {\n",
       "        vertical-align: middle;\n",
       "    }\n",
       "\n",
       "    .dataframe tbody tr th {\n",
       "        vertical-align: top;\n",
       "    }\n",
       "\n",
       "    .dataframe thead th {\n",
       "        text-align: right;\n",
       "    }\n",
       "</style>\n",
       "<table border=\"1\" class=\"dataframe\">\n",
       "  <thead>\n",
       "    <tr style=\"text-align: right;\">\n",
       "      <th></th>\n",
       "      <th>time</th>\n",
       "      <th>volt</th>\n",
       "      <th>cap</th>\n",
       "    </tr>\n",
       "  </thead>\n",
       "  <tbody>\n",
       "    <tr>\n",
       "      <th>0</th>\n",
       "      <td>2019-01-02 08:51:00</td>\n",
       "      <td>351.1</td>\n",
       "      <td>724.1</td>\n",
       "    </tr>\n",
       "    <tr>\n",
       "      <th>1</th>\n",
       "      <td>2019-01-02 18:07:00</td>\n",
       "      <td>356.5</td>\n",
       "      <td>845.8</td>\n",
       "    </tr>\n",
       "    <tr>\n",
       "      <th>2</th>\n",
       "      <td>2019-01-05 09:21:00</td>\n",
       "      <td>348.9</td>\n",
       "      <td>716.6</td>\n",
       "    </tr>\n",
       "    <tr>\n",
       "      <th>3</th>\n",
       "      <td>2019-01-05 09:39:00</td>\n",
       "      <td>349.3</td>\n",
       "      <td>615.0</td>\n",
       "    </tr>\n",
       "    <tr>\n",
       "      <th>4</th>\n",
       "      <td>2019-01-05 18:43:00</td>\n",
       "      <td>355.7</td>\n",
       "      <td>829.7</td>\n",
       "    </tr>\n",
       "    <tr>\n",
       "      <th>...</th>\n",
       "      <td>...</td>\n",
       "      <td>...</td>\n",
       "      <td>...</td>\n",
       "    </tr>\n",
       "    <tr>\n",
       "      <th>451323</th>\n",
       "      <td>2021-01-18 10:00:00</td>\n",
       "      <td>348.2</td>\n",
       "      <td>507.0</td>\n",
       "    </tr>\n",
       "    <tr>\n",
       "      <th>451324</th>\n",
       "      <td>2021-01-18 10:02:00</td>\n",
       "      <td>348.0</td>\n",
       "      <td>506.9</td>\n",
       "    </tr>\n",
       "    <tr>\n",
       "      <th>451325</th>\n",
       "      <td>2021-01-18 10:03:00</td>\n",
       "      <td>348.0</td>\n",
       "      <td>506.9</td>\n",
       "    </tr>\n",
       "    <tr>\n",
       "      <th>451326</th>\n",
       "      <td>2021-01-18 10:04:00</td>\n",
       "      <td>348.0</td>\n",
       "      <td>506.6</td>\n",
       "    </tr>\n",
       "    <tr>\n",
       "      <th>451327</th>\n",
       "      <td>2021-01-18 10:06:00</td>\n",
       "      <td>348.0</td>\n",
       "      <td>506.6</td>\n",
       "    </tr>\n",
       "  </tbody>\n",
       "</table>\n",
       "<p>451328 rows × 3 columns</p>\n",
       "</div>"
      ],
      "text/plain": [
       "                      time   volt    cap\n",
       "0      2019-01-02 08:51:00  351.1  724.1\n",
       "1      2019-01-02 18:07:00  356.5  845.8\n",
       "2      2019-01-05 09:21:00  348.9  716.6\n",
       "3      2019-01-05 09:39:00  349.3  615.0\n",
       "4      2019-01-05 18:43:00  355.7  829.7\n",
       "...                    ...    ...    ...\n",
       "451323 2021-01-18 10:00:00  348.2  507.0\n",
       "451324 2021-01-18 10:02:00  348.0  506.9\n",
       "451325 2021-01-18 10:03:00  348.0  506.9\n",
       "451326 2021-01-18 10:04:00  348.0  506.6\n",
       "451327 2021-01-18 10:06:00  348.0  506.6\n",
       "\n",
       "[451328 rows x 3 columns]"
      ]
     },
     "execution_count": 3,
     "metadata": {},
     "output_type": "execute_result"
    }
   ],
   "source": [
    "# 필요한 칼럼 추출\n",
    "\n",
    "data = pd.read_excel('전체 데이터 통합 파일(0624).xlsx', index_col=0)\n",
    "data.reset_index(inplace = True)\n",
    "\n",
    "d1 = data[data['투입 후 운전용량'].notnull()][['일시', '모선전압', '투입 후 운전용량']]\n",
    "d2 = data[data['투입 후 운전용량'].isnull()][['일시', '모선전압', '투입 전 운전용량']]\n",
    "\n",
    "cols = ['time', 'volt', 'cap']\n",
    "d1.columns = cols\n",
    "d2.columns = cols\n",
    "\n",
    "d12 = pd.concat([d1, d2])\n",
    "d12.reset_index(drop = True, inplace = True)\n",
    "d12"
   ]
  },
  {
   "cell_type": "code",
   "execution_count": 4,
   "id": "7e4619b3",
   "metadata": {},
   "outputs": [],
   "source": [
    "# 이상치가 존재하는 행 제거\n",
    "\n",
    "ind = d12[d12['volt'] < 340].index\n",
    "\n",
    "d12.drop(ind, axis = 0, inplace = True)\n",
    "d12.reset_index(drop = True, inplace = True)"
   ]
  },
  {
   "cell_type": "markdown",
   "id": "55edcf84",
   "metadata": {},
   "source": [
    "# 2. 모델링 - 현재 시점의 전압\n",
    "## (0) 데이터 준비"
   ]
  },
  {
   "cell_type": "code",
   "execution_count": 7,
   "id": "24ac8210",
   "metadata": {},
   "outputs": [],
   "source": [
    "X = d12['volt'].values.reshape(-1,1)\n",
    "\n",
    "# 정규화\n",
    "X = (X - X.min()) / (X.max() - X.min())\n",
    "\n",
    "y = d12['cap'].values\n",
    "\n",
    "# RNN 학습을 위한 구조 변경\n",
    "X = X.reshape(-1, 1, 1)\n",
    "\n",
    "X_train, X_test, y_train, y_test = train_test_split(X, y, random_state = 42)\n",
    "X_train, X_val, y_train, y_val = train_test_split(X_train, y_train, random_state = 42)"
   ]
  },
  {
   "cell_type": "markdown",
   "id": "15252ce8",
   "metadata": {},
   "source": [
    "## (1) RNN (LSTM)"
   ]
  },
  {
   "cell_type": "code",
   "execution_count": 12,
   "id": "1625c23b",
   "metadata": {},
   "outputs": [
    {
     "data": {
      "text/plain": [
       "183.68593312795852"
      ]
     },
     "execution_count": 12,
     "metadata": {},
     "output_type": "execute_result"
    }
   ],
   "source": [
    "model = keras.Sequential()\n",
    "model.add(keras.layers.LSTM(128,  input_shape = (1, 1)))\n",
    "model.add(keras.layers.Dense(1))\n",
    "\n",
    "model.compile(loss = 'mse', optimizer='adam')\n",
    "\n",
    "callbacks = [keras.callbacks.EarlyStopping(patience = 10, restore_best_weights = True)]\n",
    "\n",
    "model.fit(X_train, y_train, validation_data = (X_val, y_val), epochs = 2000, batch_size = 14, callbacks = callbacks, verbose = 0)\n",
    "\n",
    "pred = model.predict(X_test)\n",
    "\n",
    "rmse(y_test, pred)"
   ]
  },
  {
   "cell_type": "markdown",
   "id": "6e483b8d",
   "metadata": {},
   "source": [
    "## (2) Stacked RNN (LSTM)"
   ]
  },
  {
   "cell_type": "code",
   "execution_count": 14,
   "id": "f653df64",
   "metadata": {},
   "outputs": [
    {
     "data": {
      "text/plain": [
       "183.6900878080585"
      ]
     },
     "execution_count": 14,
     "metadata": {},
     "output_type": "execute_result"
    }
   ],
   "source": [
    "model = keras.Sequential()\n",
    "model.add(keras.layers.LSTM(128,  input_shape = (1, 1), return_sequences = True))\n",
    "model.add(keras.layers.LSTM(128, return_sequences = False))\n",
    "model.add(keras.layers.Dense(1))\n",
    "\n",
    "model.compile(loss = 'mse', optimizer='adam')\n",
    "\n",
    "callbacks = [keras.callbacks.EarlyStopping(patience = 10, restore_best_weights = True)]\n",
    "\n",
    "model.fit(X_train, y_train, validation_data = (X_val, y_val), epochs = 2000, batch_size = 14, callbacks = callbacks, verbose = 0)\n",
    "\n",
    "pred = model.predict(X_test)\n",
    "\n",
    "rmse(y_test, pred)"
   ]
  },
  {
   "cell_type": "markdown",
   "id": "ba24a987",
   "metadata": {},
   "source": [
    "# 3. 모델링 - 현재 시점의 전압 + 시간\n",
    "## (0) 데이터 준비"
   ]
  },
  {
   "cell_type": "code",
   "execution_count": 15,
   "id": "f4f285a2",
   "metadata": {},
   "outputs": [],
   "source": [
    "X = time_feature(d12)\n",
    "X = X[['volt', 'month', 'day', 'hour', 'minute']].values.reshape(-1,5)\n",
    "\n",
    "# 정규화\n",
    "X = (X - X.min(axis = 0)) / (X.max(axis = 0) - X.min(axis = 0))\n",
    "\n",
    "# RNN 학습을 위한 구조 변경\n",
    "X = X.reshape(-1, 1, 5)\n",
    "\n",
    "y = d12['cap'].values\n",
    "\n",
    "X_train, X_test, y_train, y_test = train_test_split(X, y, random_state = 42)\n",
    "X_train, X_val, y_train, y_val = train_test_split(X_train, y_train, random_state = 42)"
   ]
  },
  {
   "cell_type": "markdown",
   "id": "6c1eeb6b",
   "metadata": {},
   "source": [
    "## (1) RNN (LSTM)"
   ]
  },
  {
   "cell_type": "code",
   "execution_count": 18,
   "id": "f09a8753",
   "metadata": {},
   "outputs": [
    {
     "data": {
      "text/plain": [
       "143.275994906809"
      ]
     },
     "execution_count": 18,
     "metadata": {},
     "output_type": "execute_result"
    }
   ],
   "source": [
    "model = keras.Sequential()\n",
    "model.add(keras.layers.LSTM(128,  input_shape = (1, 5)))\n",
    "model.add(keras.layers.Dense(1))\n",
    "\n",
    "model.compile(loss = 'mse', optimizer='adam')\n",
    "\n",
    "callbacks = [keras.callbacks.EarlyStopping(patience = 10, restore_best_weights = True)]\n",
    "\n",
    "model.fit(X_train, y_train, validation_data = (X_val, y_val), epochs = 2000, batch_size = 14, callbacks = callbacks, verbose = 0)\n",
    "\n",
    "pred = model.predict(X_test)\n",
    "\n",
    "rmse(y_test, pred)"
   ]
  },
  {
   "cell_type": "markdown",
   "id": "758e0bf0",
   "metadata": {},
   "source": [
    "## (2) Stacked RNN (LSTM)"
   ]
  },
  {
   "cell_type": "code",
   "execution_count": 20,
   "id": "4e8daf03",
   "metadata": {},
   "outputs": [
    {
     "data": {
      "text/plain": [
       "185.30319417742226"
      ]
     },
     "execution_count": 20,
     "metadata": {},
     "output_type": "execute_result"
    }
   ],
   "source": [
    "model = keras.Sequential()\n",
    "model.add(keras.layers.LSTM(128,  input_shape = (1, 5), return_sequences = True))\n",
    "model.add(keras.layers.LSTM(128, return_sequences = False))\n",
    "model.add(keras.layers.Dense(1))\n",
    "\n",
    "model.compile(loss = 'mse', optimizer='adam')\n",
    "\n",
    "callbacks = [keras.callbacks.EarlyStopping(patience = 10, restore_best_weights = True)]\n",
    "\n",
    "model.fit(X_train, y_train, validation_data = (X_val, y_val), epochs = 2000, batch_size = 14, callbacks = callbacks, verbose = 0)\n",
    "\n",
    "pred = model.predict(X_test)\n",
    "\n",
    "rmse(y_test, pred)"
   ]
  },
  {
   "cell_type": "markdown",
   "id": "7e00bcc6",
   "metadata": {},
   "source": [
    "# 4. 모델링 - 현재 시점의 전압 + 과거 시점의 전압\n",
    "## (0) 데이터 준비"
   ]
  },
  {
   "cell_type": "code",
   "execution_count": 28,
   "id": "bc5fb43e",
   "metadata": {},
   "outputs": [],
   "source": [
    "X = data2seq(d12, 'volt', 4) # length = 4\n",
    "\n",
    "# 정규화\n",
    "X = (X - X.min()) / (X.max() - X.min())\n",
    "\n",
    "y = d12['cap'].values\n",
    "\n",
    "# RNN 학습을 위한 구조 변경\n",
    "X = X.reshape(-1, 4, 1)\n",
    "\n",
    "X_train, X_test, y_train, y_test = train_test_split(X, y, random_state = 42)\n",
    "X_train, X_val, y_train, y_val = train_test_split(X_train, y_train, random_state = 42)"
   ]
  },
  {
   "cell_type": "markdown",
   "id": "5c61ccd0",
   "metadata": {},
   "source": [
    "## (1) RNN (LSTM)"
   ]
  },
  {
   "cell_type": "code",
   "execution_count": 30,
   "id": "67dd8ccc",
   "metadata": {},
   "outputs": [
    {
     "data": {
      "text/plain": [
       "183.3915523493776"
      ]
     },
     "execution_count": 30,
     "metadata": {},
     "output_type": "execute_result"
    }
   ],
   "source": [
    "model = keras.Sequential()\n",
    "model.add(keras.layers.LSTM(128,  input_shape = (4, 1)))\n",
    "model.add(keras.layers.Dense(1))\n",
    "\n",
    "model.compile(loss = 'mse', optimizer='adam')\n",
    "\n",
    "callbacks = [keras.callbacks.EarlyStopping(patience = 10, restore_best_weights = True)]\n",
    "\n",
    "model.fit(X_train, y_train, validation_data = (X_val, y_val), epochs = 2000, batch_size = 14, callbacks = callbacks, verbose = 0)\n",
    "\n",
    "pred = model.predict(X_test)\n",
    "\n",
    "rmse(y_test, pred)"
   ]
  },
  {
   "cell_type": "markdown",
   "id": "ae854773",
   "metadata": {},
   "source": [
    "## (2) Stacked RNN (LSTM)"
   ]
  },
  {
   "cell_type": "code",
   "execution_count": 32,
   "id": "d6e9f676",
   "metadata": {},
   "outputs": [
    {
     "data": {
      "text/plain": [
       "182.8477708831308"
      ]
     },
     "execution_count": 32,
     "metadata": {},
     "output_type": "execute_result"
    }
   ],
   "source": [
    "model = keras.Sequential()\n",
    "model.add(keras.layers.LSTM(128,  input_shape = (4, 1), return_sequences = True))\n",
    "model.add(keras.layers.LSTM(128, return_sequences = False))\n",
    "model.add(keras.layers.Dense(1))\n",
    "\n",
    "model.compile(loss = 'mse', optimizer='adam')\n",
    "\n",
    "callbacks = [keras.callbacks.EarlyStopping(patience = 10, restore_best_weights = True)]\n",
    "\n",
    "model.fit(X_train, y_train, validation_data = (X_val, y_val), epochs = 2000, batch_size = 14, callbacks = callbacks, verbose = 0)\n",
    "\n",
    "pred = model.predict(X_test)\n",
    "\n",
    "rmse(y_test, pred)"
   ]
  },
  {
   "cell_type": "markdown",
   "id": "49ee33b6",
   "metadata": {},
   "source": [
    "# 5. 모델링 - 현재 시점의 전압 + 과거 시점의 전압 + 과거 시점의 투입용량\n",
    "## (0) 데이터 준비"
   ]
  },
  {
   "cell_type": "code",
   "execution_count": 9,
   "id": "0a2a0ad6",
   "metadata": {},
   "outputs": [],
   "source": [
    "seq_v = data2seq(d12, 'volt', 4) # length = 4\n",
    "seq_c = data2seq(d12, 'cap', 5) # length = 4 (현재 투입용량 제거)\n",
    "\n",
    "# 현재 투입 용량은 제거\n",
    "seq_c = np.delete(seq_c, -1, 1)\n",
    "\n",
    "# 정규화\n",
    "seq_v = (seq_v - seq_v.min()) / (seq_v.max() - seq_v.min())\n",
    "seq_c = (seq_c - seq_c.min()) / (seq_c.max() - seq_c.min())\n",
    "\n",
    "y = d12['cap'].values\n",
    "\n",
    "# RNN 학습을 위한 구조 변경\n",
    "X = np.zeros((d12.shape[0], 4, 2))\n",
    "\n",
    "X[:, :, 0] = seq_v\n",
    "X[:, :, 1] = seq_c\n",
    "\n",
    "X_train, X_test, y_train, y_test = train_test_split(X, y, random_state = 42)\n",
    "X_train, X_val, y_train, y_val = train_test_split(X_train, y_train, random_state = 42)"
   ]
  },
  {
   "cell_type": "markdown",
   "id": "0273f68e",
   "metadata": {},
   "source": [
    "## (1) RNN (LSTM)"
   ]
  },
  {
   "cell_type": "code",
   "execution_count": 48,
   "id": "c6fda569",
   "metadata": {},
   "outputs": [
    {
     "data": {
      "text/plain": [
       "13.308685076763734"
      ]
     },
     "execution_count": 48,
     "metadata": {},
     "output_type": "execute_result"
    }
   ],
   "source": [
    "model = keras.Sequential()\n",
    "model.add(keras.layers.LSTM(128,  input_shape = (4, 2)))\n",
    "model.add(keras.layers.Dense(1))\n",
    "\n",
    "model.compile(loss = 'mse', optimizer='adam')\n",
    "\n",
    "callbacks = [keras.callbacks.EarlyStopping(patience = 10, restore_best_weights = True)]\n",
    "\n",
    "model.fit(X_train, y_train, validation_data = (X_val, y_val), epochs = 2000, batch_size = 14, callbacks = callbacks, verbose = 0)\n",
    "\n",
    "pred = model.predict(X_test)\n",
    "\n",
    "rmse(y_test, pred)"
   ]
  },
  {
   "cell_type": "markdown",
   "id": "f9793617",
   "metadata": {},
   "source": [
    "## (2) Stacked RNN (LSTM)"
   ]
  },
  {
   "cell_type": "code",
   "execution_count": 12,
   "id": "66197bf3",
   "metadata": {},
   "outputs": [
    {
     "data": {
      "text/plain": [
       "12.863433125231"
      ]
     },
     "execution_count": 12,
     "metadata": {},
     "output_type": "execute_result"
    }
   ],
   "source": [
    "model = keras.Sequential()\n",
    "model.add(keras.layers.LSTM(128,  input_shape = (4, 2), return_sequences = True))\n",
    "model.add(keras.layers.LSTM(128, return_sequences = False))\n",
    "model.add(keras.layers.Dense(1))\n",
    "\n",
    "model.compile(loss = 'mse', optimizer='adam')\n",
    "\n",
    "callbacks = [keras.callbacks.EarlyStopping(patience = 10, restore_best_weights = True)]\n",
    "\n",
    "model.fit(X_train, y_train, validation_data = (X_val, y_val), epochs = 2000, batch_size = 14, callbacks = callbacks, verbose = 0)\n",
    "\n",
    "pred = model.predict(X_test)\n",
    "\n",
    "rmse(y_test, pred)"
   ]
  }
 ],
 "metadata": {
  "kernelspec": {
   "display_name": "Python 3",
   "language": "python",
   "name": "python3"
  },
  "language_info": {
   "codemirror_mode": {
    "name": "ipython",
    "version": 3
   },
   "file_extension": ".py",
   "mimetype": "text/x-python",
   "name": "python",
   "nbconvert_exporter": "python",
   "pygments_lexer": "ipython3",
   "version": "3.8.8"
  }
 },
 "nbformat": 4,
 "nbformat_minor": 5
}
