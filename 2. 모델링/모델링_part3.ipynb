{
 "cells": [
  {
   "cell_type": "markdown",
   "id": "5af55e16",
   "metadata": {},
   "source": [
    "# 모델링\n",
    "** 사용모델 **  \n",
    "- Stacked RNN (LSTM) : time length 별 성능 비교"
   ]
  },
  {
   "cell_type": "code",
   "execution_count": 2,
   "id": "d79b256a",
   "metadata": {},
   "outputs": [
    {
     "data": {
      "text/html": [
       "<style>.container {width:100% !important;}</style>"
      ],
      "text/plain": [
       "<IPython.core.display.HTML object>"
      ]
     },
     "metadata": {},
     "output_type": "display_data"
    }
   ],
   "source": [
    "# 주피터 노트북 전체화면 설정\n",
    "from IPython.core.display import display, HTML\n",
    "display(HTML(\"<style>.container {width:100% !important;}</style>\"))\n",
    "\n",
    "# Import Libraries\n",
    "import numpy as np\n",
    "import pandas as pd\n",
    "import matplotlib.pyplot as plt\n",
    "from sklearn.model_selection import train_test_split\n",
    "from sklearn.metrics import mean_squared_error\n",
    "from tensorflow import keras"
   ]
  },
  {
   "cell_type": "markdown",
   "id": "a918fcaf",
   "metadata": {},
   "source": [
    "# 0. 사용 함수 정의"
   ]
  },
  {
   "cell_type": "code",
   "execution_count": 3,
   "id": "5d42fd5c",
   "metadata": {},
   "outputs": [],
   "source": [
    "def rmse(ground_truth, pred) :\n",
    "    m = mean_squared_error(ground_truth, pred)\n",
    "    rm = np.sqrt(m)\n",
    "    \n",
    "    return rm\n",
    "\n",
    "def time_feature(df) :\n",
    "    \n",
    "    df['time'] = pd.to_datetime(df['time'])\n",
    "    df['month'] = df['time'].apply(lambda x : x.month)\n",
    "    df['day'] = df['time'].apply(lambda x : x.day)\n",
    "    df['hour'] = df['time'].apply(lambda x : x.hour)\n",
    "    df['minute'] = df['time'].apply(lambda x : x.minute)\n",
    "    \n",
    "    return df\n",
    "\n",
    "def onehot(df_train, df_test, cols) :\n",
    "    \n",
    "    for col in cols :\n",
    "        df_train[col] = df_train[col].apply(lambda x : str(x))\n",
    "        df_test[col] = df_test[col].apply(lambda x : str(x))\n",
    "    \n",
    "    oh = OneHotEncoder()\n",
    "    \n",
    "    df_train_oh = oh.fit_transform(df_train[cols])\n",
    "    df_train_new = np.hstack([df_train['volt'].values.reshape(-1,1), df_train_oh.toarray()])\n",
    "\n",
    "    df_test_oh = oh.transform(df_test[cols])\n",
    "    df_test_new = np.hstack([df_test['volt'].values.reshape(-1,1), df_test_oh.toarray()])\n",
    "    \n",
    "    return df_train_new, df_test_new\n",
    "\n",
    "def data2seq(df, col, length = 4) :\n",
    "    \n",
    "    res = np.zeros((df.shape[0],length))\n",
    "    init = df.loc[0,col]\n",
    "    \n",
    "    for i in range(df.shape[0]) :\n",
    "        for j in range(length) :\n",
    "            if (i - j) < 0 :\n",
    "                res[i,length - 1 - j] = init\n",
    "            else :\n",
    "                res[i,length - 1 - j] = df.loc[i-j, col]\n",
    "            \n",
    "    return res"
   ]
  },
  {
   "cell_type": "markdown",
   "id": "26d75e28",
   "metadata": {},
   "source": [
    "# 1. 데이터 전처리"
   ]
  },
  {
   "cell_type": "code",
   "execution_count": 4,
   "id": "3275f156",
   "metadata": {},
   "outputs": [
    {
     "data": {
      "text/html": [
       "<div>\n",
       "<style scoped>\n",
       "    .dataframe tbody tr th:only-of-type {\n",
       "        vertical-align: middle;\n",
       "    }\n",
       "\n",
       "    .dataframe tbody tr th {\n",
       "        vertical-align: top;\n",
       "    }\n",
       "\n",
       "    .dataframe thead th {\n",
       "        text-align: right;\n",
       "    }\n",
       "</style>\n",
       "<table border=\"1\" class=\"dataframe\">\n",
       "  <thead>\n",
       "    <tr style=\"text-align: right;\">\n",
       "      <th></th>\n",
       "      <th>time</th>\n",
       "      <th>volt</th>\n",
       "      <th>cap</th>\n",
       "    </tr>\n",
       "  </thead>\n",
       "  <tbody>\n",
       "    <tr>\n",
       "      <th>0</th>\n",
       "      <td>2019-01-02 08:51:00</td>\n",
       "      <td>351.1</td>\n",
       "      <td>724.1</td>\n",
       "    </tr>\n",
       "    <tr>\n",
       "      <th>1</th>\n",
       "      <td>2019-01-02 18:07:00</td>\n",
       "      <td>356.5</td>\n",
       "      <td>845.8</td>\n",
       "    </tr>\n",
       "    <tr>\n",
       "      <th>2</th>\n",
       "      <td>2019-01-05 09:21:00</td>\n",
       "      <td>348.9</td>\n",
       "      <td>716.6</td>\n",
       "    </tr>\n",
       "    <tr>\n",
       "      <th>3</th>\n",
       "      <td>2019-01-05 09:39:00</td>\n",
       "      <td>349.3</td>\n",
       "      <td>615.0</td>\n",
       "    </tr>\n",
       "    <tr>\n",
       "      <th>4</th>\n",
       "      <td>2019-01-05 18:43:00</td>\n",
       "      <td>355.7</td>\n",
       "      <td>829.7</td>\n",
       "    </tr>\n",
       "    <tr>\n",
       "      <th>...</th>\n",
       "      <td>...</td>\n",
       "      <td>...</td>\n",
       "      <td>...</td>\n",
       "    </tr>\n",
       "    <tr>\n",
       "      <th>451323</th>\n",
       "      <td>2021-01-18 10:00:00</td>\n",
       "      <td>348.2</td>\n",
       "      <td>507.0</td>\n",
       "    </tr>\n",
       "    <tr>\n",
       "      <th>451324</th>\n",
       "      <td>2021-01-18 10:02:00</td>\n",
       "      <td>348.0</td>\n",
       "      <td>506.9</td>\n",
       "    </tr>\n",
       "    <tr>\n",
       "      <th>451325</th>\n",
       "      <td>2021-01-18 10:03:00</td>\n",
       "      <td>348.0</td>\n",
       "      <td>506.9</td>\n",
       "    </tr>\n",
       "    <tr>\n",
       "      <th>451326</th>\n",
       "      <td>2021-01-18 10:04:00</td>\n",
       "      <td>348.0</td>\n",
       "      <td>506.6</td>\n",
       "    </tr>\n",
       "    <tr>\n",
       "      <th>451327</th>\n",
       "      <td>2021-01-18 10:06:00</td>\n",
       "      <td>348.0</td>\n",
       "      <td>506.6</td>\n",
       "    </tr>\n",
       "  </tbody>\n",
       "</table>\n",
       "<p>451328 rows × 3 columns</p>\n",
       "</div>"
      ],
      "text/plain": [
       "                      time   volt    cap\n",
       "0      2019-01-02 08:51:00  351.1  724.1\n",
       "1      2019-01-02 18:07:00  356.5  845.8\n",
       "2      2019-01-05 09:21:00  348.9  716.6\n",
       "3      2019-01-05 09:39:00  349.3  615.0\n",
       "4      2019-01-05 18:43:00  355.7  829.7\n",
       "...                    ...    ...    ...\n",
       "451323 2021-01-18 10:00:00  348.2  507.0\n",
       "451324 2021-01-18 10:02:00  348.0  506.9\n",
       "451325 2021-01-18 10:03:00  348.0  506.9\n",
       "451326 2021-01-18 10:04:00  348.0  506.6\n",
       "451327 2021-01-18 10:06:00  348.0  506.6\n",
       "\n",
       "[451328 rows x 3 columns]"
      ]
     },
     "execution_count": 4,
     "metadata": {},
     "output_type": "execute_result"
    }
   ],
   "source": [
    "# 필요한 칼럼 추출\n",
    "\n",
    "data = pd.read_excel('전체 데이터 통합 파일(0624).xlsx', index_col=0)\n",
    "data.reset_index(inplace = True)\n",
    "\n",
    "d1 = data[data['투입 후 운전용량'].notnull()][['일시', '모선전압', '투입 후 운전용량']]\n",
    "d2 = data[data['투입 후 운전용량'].isnull()][['일시', '모선전압', '투입 전 운전용량']]\n",
    "\n",
    "cols = ['time', 'volt', 'cap']\n",
    "d1.columns = cols\n",
    "d2.columns = cols\n",
    "\n",
    "d12 = pd.concat([d1, d2])\n",
    "d12.reset_index(drop = True, inplace = True)\n",
    "d12"
   ]
  },
  {
   "cell_type": "code",
   "execution_count": 5,
   "id": "5939a3de",
   "metadata": {},
   "outputs": [],
   "source": [
    "# 이상치가 존재하는 행 제거\n",
    "\n",
    "ind = d12[d12['volt'] < 340].index\n",
    "\n",
    "d12.drop(ind, axis = 0, inplace = True)\n",
    "d12.reset_index(drop = True, inplace = True)"
   ]
  },
  {
   "cell_type": "markdown",
   "id": "f956becf",
   "metadata": {},
   "source": [
    "# 2. 모델링\n",
    "## (1) 모델링"
   ]
  },
  {
   "cell_type": "code",
   "execution_count": 13,
   "id": "264c108a",
   "metadata": {},
   "outputs": [],
   "source": [
    "# lengths 정의\n",
    "lengths = [1, 2, 3, 5, 6, 7, 8, 9, 10]\n",
    "\n",
    "# 결과 저장 배열 정의\n",
    "res = np.zeros((2, len(lengths)))"
   ]
  },
  {
   "cell_type": "code",
   "execution_count": 33,
   "id": "4fbac802",
   "metadata": {},
   "outputs": [
    {
     "data": {
      "text/plain": [
       "array([[ 1.        ,  2.        ,  3.        ,  5.        ,  6.        ,\n",
       "         7.        ,  8.        ,  9.        , 10.        ],\n",
       "       [20.53264388, 14.12582721, 13.32949117, 12.84186647, 12.87774582,\n",
       "        12.78632252, 13.40259812, 13.26840828, 12.88246335]])"
      ]
     },
     "execution_count": 33,
     "metadata": {},
     "output_type": "execute_result"
    }
   ],
   "source": [
    "y = d12['cap'].values\n",
    "\n",
    "cnt = 0\n",
    "for length in lengths :\n",
    "    \n",
    "    seq_v = data2seq(d12, 'volt', length)\n",
    "    seq_c = data2seq(d12, 'cap', length + 1)\n",
    "    \n",
    "    seq_c = np.delete(seq_c, -1, 1)\n",
    "    \n",
    "    seq_v = (seq_v - seq_v.min()) / (seq_v.max() - seq_v.min())\n",
    "    seq_c = (seq_c - seq_c.min()) / (seq_c.max() - seq_c.min())\n",
    "    \n",
    "    X = np.zeros((d12.shape[0], length, 2))\n",
    "    \n",
    "    X[:, :, 0] = seq_v\n",
    "    X[:, :, 1] = seq_c\n",
    "    \n",
    "    X_train, X_test, y_train, y_test = train_test_split(X, y, random_state = 42)\n",
    "    X_train, X_val, y_train, y_val = train_test_split(X_train, y_train, random_state = 42)\n",
    "    \n",
    "    model = keras.Sequential()\n",
    "    model.add(keras.layers.LSTM(128,  input_shape = (length, 2), return_sequences = True))\n",
    "    model.add(keras.layers.LSTM(128, return_sequences = False))\n",
    "    model.add(keras.layers.Dense(1))\n",
    "\n",
    "    model.compile(loss = 'mse', optimizer='adam')\n",
    "\n",
    "    callbacks = [keras.callbacks.EarlyStopping(patience = 10, restore_best_weights = True)]\n",
    "\n",
    "    model.fit(X_train, y_train, validation_data = (X_val, y_val), epochs = 2000, batch_size = 14, callbacks = callbacks, verbose = 0)\n",
    "    \n",
    "    pred = model.predict(X_test)\n",
    "\n",
    "    score = rmse(y_test, pred)\n",
    "    \n",
    "    print(cnt, length, score)\n",
    "    \n",
    "    res[0, cnt] = length\n",
    "    res[1, cnt] = score\n",
    "    \n",
    "    cnt += 1\n",
    "\n",
    "\n",
    "res"
   ]
  },
  {
   "cell_type": "code",
   "execution_count": 57,
   "id": "1f14956f",
   "metadata": {},
   "outputs": [
    {
     "data": {
      "text/plain": [
       "array([[ 1.        ,  2.        ,  3.        ,  4.        ,  5.        ,\n",
       "         6.        ,  7.        ,  8.        ,  9.        , 10.        ],\n",
       "       [20.53264388, 14.12582721, 13.32949117, 12.86      , 12.84186647,\n",
       "        12.87774582, 12.78632252, 13.40259812, 13.26840828, 12.88246335]])"
      ]
     },
     "execution_count": 57,
     "metadata": {},
     "output_type": "execute_result"
    }
   ],
   "source": [
    "res = np.hstack([res,[[4],[12.86]]])\n",
    "res_sorted = res[:,res[0].argsort()]\n",
    "res_sorted"
   ]
  },
  {
   "cell_type": "markdown",
   "id": "81a8e742",
   "metadata": {},
   "source": [
    "## (2) DataFrame"
   ]
  },
  {
   "cell_type": "code",
   "execution_count": 59,
   "id": "ae767e03",
   "metadata": {},
   "outputs": [
    {
     "data": {
      "text/html": [
       "<div>\n",
       "<style scoped>\n",
       "    .dataframe tbody tr th:only-of-type {\n",
       "        vertical-align: middle;\n",
       "    }\n",
       "\n",
       "    .dataframe tbody tr th {\n",
       "        vertical-align: top;\n",
       "    }\n",
       "\n",
       "    .dataframe thead th {\n",
       "        text-align: right;\n",
       "    }\n",
       "</style>\n",
       "<table border=\"1\" class=\"dataframe\">\n",
       "  <thead>\n",
       "    <tr style=\"text-align: right;\">\n",
       "      <th></th>\n",
       "      <th>Length</th>\n",
       "      <th>RMSE</th>\n",
       "    </tr>\n",
       "  </thead>\n",
       "  <tbody>\n",
       "    <tr>\n",
       "      <th>0</th>\n",
       "      <td>1.0</td>\n",
       "      <td>20.532644</td>\n",
       "    </tr>\n",
       "    <tr>\n",
       "      <th>1</th>\n",
       "      <td>2.0</td>\n",
       "      <td>14.125827</td>\n",
       "    </tr>\n",
       "    <tr>\n",
       "      <th>2</th>\n",
       "      <td>3.0</td>\n",
       "      <td>13.329491</td>\n",
       "    </tr>\n",
       "    <tr>\n",
       "      <th>3</th>\n",
       "      <td>4.0</td>\n",
       "      <td>12.860000</td>\n",
       "    </tr>\n",
       "    <tr>\n",
       "      <th>4</th>\n",
       "      <td>5.0</td>\n",
       "      <td>12.841866</td>\n",
       "    </tr>\n",
       "    <tr>\n",
       "      <th>5</th>\n",
       "      <td>6.0</td>\n",
       "      <td>12.877746</td>\n",
       "    </tr>\n",
       "    <tr>\n",
       "      <th>6</th>\n",
       "      <td>7.0</td>\n",
       "      <td>12.786323</td>\n",
       "    </tr>\n",
       "    <tr>\n",
       "      <th>7</th>\n",
       "      <td>8.0</td>\n",
       "      <td>13.402598</td>\n",
       "    </tr>\n",
       "    <tr>\n",
       "      <th>8</th>\n",
       "      <td>9.0</td>\n",
       "      <td>13.268408</td>\n",
       "    </tr>\n",
       "    <tr>\n",
       "      <th>9</th>\n",
       "      <td>10.0</td>\n",
       "      <td>12.882463</td>\n",
       "    </tr>\n",
       "  </tbody>\n",
       "</table>\n",
       "</div>"
      ],
      "text/plain": [
       "   Length       RMSE\n",
       "0     1.0  20.532644\n",
       "1     2.0  14.125827\n",
       "2     3.0  13.329491\n",
       "3     4.0  12.860000\n",
       "4     5.0  12.841866\n",
       "5     6.0  12.877746\n",
       "6     7.0  12.786323\n",
       "7     8.0  13.402598\n",
       "8     9.0  13.268408\n",
       "9    10.0  12.882463"
      ]
     },
     "execution_count": 59,
     "metadata": {},
     "output_type": "execute_result"
    }
   ],
   "source": [
    "res_df = pd.DataFrame({'Length' : res_sorted[0,:], 'RMSE' : res_sorted[1,:]})\n",
    "\n",
    "res_df"
   ]
  },
  {
   "cell_type": "markdown",
   "id": "1bbb0e1f",
   "metadata": {},
   "source": [
    "## (3) Plot"
   ]
  },
  {
   "cell_type": "code",
   "execution_count": 99,
   "id": "e294849c",
   "metadata": {},
   "outputs": [
    {
     "data": {
      "image/png": "[encoded data removed]",
      "text/plain": [
       "<Figure size 720x504 with 1 Axes>"
      ]
     },
     "metadata": {
      "needs_background": "light"
     },
     "output_type": "display_data"
    }
   ],
   "source": [
    "plt.figure(figsize = (10, 7))\n",
    "plt.plot(res_df.iloc[:,0], res_df.iloc[:,1],  linewidth = 5)\n",
    "plt.xlabel('Sequence Length', fontsize = 20)\n",
    "plt.ylabel('RMSE', fontsize = 20)\n",
    "plt.xticks(fontsize = 15)\n",
    "plt.yticks(fontsize = 15)\n",
    "plt.plot(4, 12.86, 'ko')\n",
    "plt.vlines(x = 4, ymin = 11.86, ymax = 12.86, color = 'r', linewidth = 3)\n",
    "plt.axis([1,10,11.86,21])\n",
    "\n",
    "# plt.savefig('fig1.png')"
   ]
  }
 ],
 "metadata": {
  "kernelspec": {
   "display_name": "Python 3",
   "language": "python",
   "name": "python3"
  },
  "language_info": {
   "codemirror_mode": {
    "name": "ipython",
    "version": 3
   },
   "file_extension": ".py",
   "mimetype": "text/x-python",
   "name": "python",
   "nbconvert_exporter": "python",
   "pygments_lexer": "ipython3",
   "version": "3.8.8"
  }
 },
 "nbformat": 4,
 "nbformat_minor": 5
}
