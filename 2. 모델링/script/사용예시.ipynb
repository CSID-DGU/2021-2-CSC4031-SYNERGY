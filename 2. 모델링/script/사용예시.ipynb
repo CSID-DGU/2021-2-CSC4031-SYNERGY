{
 "cells": [
  {
   "cell_type": "markdown",
   "id": "958fcfa5",
   "metadata": {},
   "source": [
    "# 사용예시"
   ]
  },
  {
   "cell_type": "code",
   "execution_count": 1,
   "id": "fec81f4c",
   "metadata": {},
   "outputs": [
    {
     "data": {
      "text/html": [
       "<style>.container {width:100% !important;}</style>"
      ],
      "text/plain": [
       "<IPython.core.display.HTML object>"
      ]
     },
     "metadata": {},
     "output_type": "display_data"
    }
   ],
   "source": [
    "# 주피터 노트북 전체화면 설정\n",
    "from IPython.core.display import display, HTML\n",
    "display(HTML(\"<style>.container {width:100% !important;}</style>\"))\n",
    "\n",
    "# 필요한 라이브러리 불러오기\n",
    "from SynergyUtils import data2seq, optimize # 프로젝트 정의 함수 불러오기\n",
    "from tensorflow import keras\n",
    "import numpy as np\n",
    "import pandas as pd"
   ]
  },
  {
   "cell_type": "markdown",
   "id": "a8161f5f",
   "metadata": {},
   "source": [
    "## 1. 모델 및 데이터 불러오기\n",
    "- 모델은 케라스 라이브러리에서 제공하는 함수를 통해 불러옴  "
   ]
  },
  {
   "cell_type": "code",
   "execution_count": 2,
   "id": "79d23530",
   "metadata": {},
   "outputs": [],
   "source": [
    "# 저장된 모델 불러오기\n",
    "model = keras.models.load_model('SRNN_model') # Stacked RNN (length = 4)"
   ]
  },
  {
   "cell_type": "code",
   "execution_count": 3,
   "id": "b5e55817",
   "metadata": {},
   "outputs": [
    {
     "data": {
      "text/html": [
       "<div>\n",
       "<style scoped>\n",
       "    .dataframe tbody tr th:only-of-type {\n",
       "        vertical-align: middle;\n",
       "    }\n",
       "\n",
       "    .dataframe tbody tr th {\n",
       "        vertical-align: top;\n",
       "    }\n",
       "\n",
       "    .dataframe thead th {\n",
       "        text-align: right;\n",
       "    }\n",
       "</style>\n",
       "<table border=\"1\" class=\"dataframe\">\n",
       "  <thead>\n",
       "    <tr style=\"text-align: right;\">\n",
       "      <th></th>\n",
       "      <th>time</th>\n",
       "      <th>volt</th>\n",
       "      <th>cap</th>\n",
       "    </tr>\n",
       "  </thead>\n",
       "  <tbody>\n",
       "    <tr>\n",
       "      <th>451318</th>\n",
       "      <td>2021-01-18 10:00:00</td>\n",
       "      <td>348.2</td>\n",
       "      <td>507.0</td>\n",
       "    </tr>\n",
       "    <tr>\n",
       "      <th>451319</th>\n",
       "      <td>2021-01-18 10:02:00</td>\n",
       "      <td>348.0</td>\n",
       "      <td>506.9</td>\n",
       "    </tr>\n",
       "    <tr>\n",
       "      <th>451320</th>\n",
       "      <td>2021-01-18 10:03:00</td>\n",
       "      <td>348.0</td>\n",
       "      <td>506.9</td>\n",
       "    </tr>\n",
       "    <tr>\n",
       "      <th>451321</th>\n",
       "      <td>2021-01-18 10:04:00</td>\n",
       "      <td>348.0</td>\n",
       "      <td>506.6</td>\n",
       "    </tr>\n",
       "    <tr>\n",
       "      <th>451322</th>\n",
       "      <td>2021-01-18 10:06:00</td>\n",
       "      <td>348.0</td>\n",
       "      <td>506.6</td>\n",
       "    </tr>\n",
       "  </tbody>\n",
       "</table>\n",
       "</div>"
      ],
      "text/plain": [
       "                       time   volt    cap\n",
       "451318  2021-01-18 10:00:00  348.2  507.0\n",
       "451319  2021-01-18 10:02:00  348.0  506.9\n",
       "451320  2021-01-18 10:03:00  348.0  506.9\n",
       "451321  2021-01-18 10:04:00  348.0  506.6\n",
       "451322  2021-01-18 10:06:00  348.0  506.6"
      ]
     },
     "execution_count": 3,
     "metadata": {},
     "output_type": "execute_result"
    }
   ],
   "source": [
    "# 데이터 불러오기\n",
    "data = pd.read_csv('data.csv')\n",
    "\n",
    "data.tail()"
   ]
  },
  {
   "cell_type": "markdown",
   "id": "a45bef67",
   "metadata": {},
   "source": [
    "## 2. 데이터 전처리\n",
    "- 정의된 전처리 함수를 통해 시퀀스 데이터 생성\n",
    "- 전처리 함수의 작동 방식은 데이터프레임이 들어왔을 때 지정된 length만큼(디폴트 = 4)의 시퀀스 데이터 생성  "
   ]
  },
  {
   "cell_type": "code",
   "execution_count": 4,
   "id": "47313ba4",
   "metadata": {},
   "outputs": [
    {
     "data": {
      "text/plain": [
       "array([[[0.26829268, 0.35368664],\n",
       "        [0.26829268, 0.35357143],\n",
       "        [0.26829268, 0.35357143],\n",
       "        [0.26829268, 0.35322581]]])"
      ]
     },
     "execution_count": 4,
     "metadata": {},
     "output_type": "execute_result"
    }
   ],
   "source": [
    "sample = data2seq(data, length = 4)\n",
    "sample"
   ]
  },
  {
   "cell_type": "code",
   "execution_count": 6,
   "id": "ee3cac22",
   "metadata": {},
   "outputs": [
    {
     "data": {
      "text/plain": [
       "(1, 4, 2)"
      ]
     },
     "execution_count": 6,
     "metadata": {},
     "output_type": "execute_result"
    }
   ],
   "source": [
    "sample.shape"
   ]
  },
  {
   "cell_type": "markdown",
   "id": "25f7de07",
   "metadata": {},
   "source": [
    "## 3. 투입용량 예측\n",
    "- 불러온 모델과 전처리된 데이터를 바탕으로 투입용량 예측  \n",
    "- 모델의 계산 결과는 2차원의 배열이므로 적절한 인덱싱을 통해 값만 추출 "
   ]
  },
  {
   "cell_type": "code",
   "execution_count": 7,
   "id": "72a5c8f6",
   "metadata": {},
   "outputs": [
    {
     "data": {
      "text/plain": [
       "506.62207"
      ]
     },
     "execution_count": 7,
     "metadata": {},
     "output_type": "execute_result"
    }
   ],
   "source": [
    "pred = model.predict(sample)[0,0]\n",
    "\n",
    "pred"
   ]
  },
  {
   "cell_type": "markdown",
   "id": "3b61b5c3",
   "metadata": {},
   "source": [
    "## 4. 최적화 및 조정방안 도출 \n",
    "- 정의된 최적화 함수를 통해 최종 조정방안 도출  \n",
    "- (1) '현재 6개 리액터 작동 현황', (2) '각 리액터별 총 작동 횟수'가 사전에 정의되어 있어야 함"
   ]
  },
  {
   "cell_type": "code",
   "execution_count": 8,
   "id": "3b8beb58",
   "metadata": {
    "scrolled": false
   },
   "outputs": [
    {
     "data": {
      "text/plain": [
       "(1.0, 0.0, 0.0, 0.0, 1.0, 4.0, 509.0)"
      ]
     },
     "execution_count": 8,
     "metadata": {},
     "output_type": "execute_result"
    }
   ],
   "source": [
    "params_now = [1, 0, 0, 0, 1, 1]\n",
    "n_used = [200, 150, 100, 50, 50, 100]\n",
    "\n",
    "# 최종 아웃풋\n",
    "# 왼쪽부터 일반 리액터 5개 최적 조정 방안 (1 : 투입, 0 : 개방)\n",
    "# 가변형 리액터 탭 위치 (0 ~ 18, 0 : 개방)\n",
    "# 최종 투입용량\n",
    "optimize(pred, params_now, n_used)"
   ]
  }
 ],
 "metadata": {
  "kernelspec": {
   "display_name": "Python 3",
   "language": "python",
   "name": "python3"
  },
  "language_info": {
   "codemirror_mode": {
    "name": "ipython",
    "version": 3
   },
   "file_extension": ".py",
   "mimetype": "text/x-python",
   "name": "python",
   "nbconvert_exporter": "python",
   "pygments_lexer": "ipython3",
   "version": "3.8.8"
  }
 },
 "nbformat": 4,
 "nbformat_minor": 5
}
